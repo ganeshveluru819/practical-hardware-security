{
 "cells": [
  {
   "cell_type": "markdown",
   "id": "27249bb5",
   "metadata": {},
   "source": [
    "# ZIP or Compress file\n",
    "\n",
    "Run this code to zip (compress) all your files from this directory. The zip file name will be the same as the current directory"
   ]
  },
  {
   "cell_type": "code",
   "execution_count": 1,
   "id": "b8e451d7",
   "metadata": {
    "code_folding": []
   },
   "outputs": [
    {
     "name": "stdout",
     "output_type": "stream",
     "text": [
      "updating: Figures/ (stored 0%)\n",
      "updating: Firmware/ (stored 0%)\n",
      "updating: Firmware/sam.c (deflated 68%)\n",
      "updating: Firmware/makefile (deflated 57%)\n",
      "updating: Python/ (stored 0%)\n",
      "updating: Python/Lab-07-SCA-Template-Matching-Attack.ipynb (deflated 53%)\n",
      "updating: RUN-TO-ZIP.ipynb (deflated 64%)\n",
      "  adding: Figures/t.png (deflated 16%)\n",
      "  adding: Figures/sad.png (deflated 8%)\n",
      "  adding: Figures/pt.png (deflated 10%)\n",
      "  adding: Figures/bmv.png (deflated 27%)\n",
      "  adding: Firmware/sam-CWNANO.hex (deflated 59%)\n",
      "  adding: Firmware/.dep/ (stored 0%)\n",
      "  adding: Firmware/.dep/sam.o.d (deflated 65%)\n",
      "  adding: Firmware/.dep/simpleserial.o.d (deflated 72%)\n",
      "  adding: Firmware/.dep/stm32f0_hal_lowlevel.o.d (deflated 88%)\n",
      "  adding: Firmware/.dep/stm32f0_hal_nano.o.d (deflated 88%)\n",
      "  adding: Python/.ipynb_checkpoints/ (stored 0%)\n",
      "  adding: Python/.ipynb_checkpoints/Lab-07-SCA-Template-Matching-Attack-checkpoint.ipynb (deflated 53%)\n"
     ]
    }
   ],
   "source": [
    "#\n",
    "#RUN THIS CELL TO ZIP ALL YOUR FILES FROM THIS DIRECTORY\n",
    "!f=\"$(basename $PWD).zip\" && zip -r $f * -x $f"
   ]
  },
  {
   "cell_type": "markdown",
   "id": "b4ae6ae9",
   "metadata": {},
   "source": [
    "# UNZIP or Decompress file\n",
    "\n",
    "Run this code to unzip (decompress) your zip file. The zip file must have the same name as the current directory."
   ]
  },
  {
   "cell_type": "code",
   "execution_count": 2,
   "id": "3930d5bb",
   "metadata": {},
   "outputs": [
    {
     "name": "stdout",
     "output_type": "stream",
     "text": [
      "Archive:  PHS-Lab-07.zip\r\n",
      "   creating: Figures/\r\n",
      "   creating: Firmware/\r\n",
      "  inflating: Firmware/sam.c          \r\n",
      "  inflating: Firmware/makefile       \r\n",
      "   creating: Python/\r\n",
      "  inflating: Python/Lab-07-SCA-Template-Matching-Attack.ipynb  \r\n",
      "  inflating: RUN-TO-ZIP.ipynb        \r\n"
     ]
    }
   ],
   "source": [
    "#Run this to unzip (decompress) your file\n",
    "!f=\"$(basename $PWD).zip\" && unzip -o $f"
   ]
  },
  {
   "cell_type": "code",
   "execution_count": null,
   "id": "010fa5ca",
   "metadata": {},
   "outputs": [],
   "source": []
  }
 ],
 "metadata": {
  "kernelspec": {
   "display_name": "Python 3 (ipykernel)",
   "language": "python",
   "name": "python3"
  },
  "language_info": {
   "codemirror_mode": {
    "name": "ipython",
    "version": 3
   },
   "file_extension": ".py",
   "mimetype": "text/x-python",
   "name": "python",
   "nbconvert_exporter": "python",
   "pygments_lexer": "ipython3",
   "version": "3.9.5"
  },
  "toc": {
   "base_numbering": 1,
   "nav_menu": {},
   "number_sections": true,
   "sideBar": true,
   "skip_h1_title": false,
   "title_cell": "Table of Contents",
   "title_sidebar": "Contents",
   "toc_cell": false,
   "toc_position": {},
   "toc_section_display": true,
   "toc_window_display": false
  }
 },
 "nbformat": 4,
 "nbformat_minor": 5
}
