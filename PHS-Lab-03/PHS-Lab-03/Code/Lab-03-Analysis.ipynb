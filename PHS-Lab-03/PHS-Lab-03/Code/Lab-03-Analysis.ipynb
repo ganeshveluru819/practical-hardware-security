{
 "cells": [
  {
   "cell_type": "markdown",
   "id": "0819c8c4",
   "metadata": {},
   "source": [
    "__Lab 03 - Analysis__\n",
    "\n",
    "Student Names: [Ganesh Veluru & Jwala Sri Hari Badam]\n",
    "\n",
    "Group Number: [3]"
   ]
  },
  {
   "cell_type": "markdown",
   "id": "4ef85620",
   "metadata": {},
   "source": [
    "# Setup"
   ]
  },
  {
   "cell_type": "markdown",
   "id": "ece1e6d6",
   "metadata": {},
   "source": [
    "Below will import the `TRNGtester` class from the `NIST.py` script to test the random data.\n",
    "\n",
    "Also, add any other library here that you may need to import."
   ]
  },
  {
   "cell_type": "code",
   "execution_count": 11,
   "id": "f8e01e04",
   "metadata": {
    "scrolled": true
   },
   "outputs": [
    {
     "name": "stdout",
     "output_type": "stream",
     "text": [
      "✔️ OK to continue!\n"
     ]
    }
   ],
   "source": [
    "from NIST import TRNGtester\n",
    "from NIST import *\n",
    "import matplotlib.pyplot as plt\n",
    "import numpy as np\n",
    "import pandas as pd\n",
    "print(\"✔️ OK to continue!\")"
   ]
  },
  {
   "cell_type": "markdown",
   "id": "50c2d6bf",
   "metadata": {},
   "source": [
    "# Test and get P-Values"
   ]
  },
  {
   "cell_type": "markdown",
   "id": "ad1206e5",
   "metadata": {},
   "source": [
    "Instantiate a `TRNGtester` object to load the random data. Then, call the `run_nist_tests()` method from this object to generate the _list of list_ of p-values. Each sub-list correspond to each test. Some test may have multiple p-values -- only use the _minimum_ from each test.\n",
    "\n",
    "Repeat this for each dataset (i.e., 1M and 10M bits from both the RO/LFSR TRNG and the GARO TRNG)"
   ]
  },
  {
   "cell_type": "code",
   "execution_count": 12,
   "id": "b1e1ceab",
   "metadata": {},
   "outputs": [],
   "source": [
    "# storing filepaths into variables.\n",
    "ro_1M = \"../Data/RO_LFSR_TRNG_1M.bin\"\n",
    "ro_10M = \"../Data/RO_LFSR_TRNG_10M.bin\"\n",
    "ga_1M = \"../Data/GARO_TRNG_1M.bin\"\n",
    "ga_10M = \"../Data/GARO_TRNG_10M.bin\""
   ]
  },
  {
   "cell_type": "code",
   "execution_count": 13,
   "id": "96286f87",
   "metadata": {},
   "outputs": [],
   "source": [
    "# storing varaibles in dictionary\n",
    "dict_values={\n",
    "    'RO_LFSR_TRNG_1M':ro_1M,\n",
    "    'RO_LFSR_TRNG_10M':ro_10M,\n",
    "    'GARO_TRNG_1M':ga_1M,\n",
    "    'GARO_TRNG_10M':ga_10M\n",
    "}"
   ]
  },
  {
   "cell_type": "code",
   "execution_count": 14,
   "id": "23de1bd6",
   "metadata": {},
   "outputs": [],
   "source": [
    "# method for returning the min values from the list passed\n",
    "def get_min_lst(lst):\n",
    "    res = [min(i) for i in lst]\n",
    "    return res"
   ]
  },
  {
   "cell_type": "code",
   "execution_count": 15,
   "id": "5530f64e",
   "metadata": {},
   "outputs": [
    {
     "name": "stdout",
     "output_type": "stream",
     "text": [
      "hey into the function\n",
      "Starting: monobit_test\n",
      "\t\tResults (p-value(s), Pass/Fail) = \n",
      "\t\t\t[1.6351636375438384e-86, False]\n",
      "✔️ Test completed in 0.0019898414611816406s\n",
      "\n",
      "\n",
      "Starting: frequency_within_block_test\n",
      "\t\tResults (p-value(s), Pass/Fail) = \n",
      "\t\t\t[1.0, True]\n",
      "✔️ Test completed in 0.004531145095825195s\n",
      "\n",
      "\n",
      "Starting: runs_test\n",
      "\t\tResults (p-value(s), Pass/Fail) = \n",
      "\t\t\t[1.5250481346350765e-05, False]\n",
      "✔️ Test completed in 0.00676274299621582s\n",
      "\n",
      "\n",
      "Starting: longest_run_within_block_test\n",
      "\t\tResults (p-value(s), Pass/Fail) = \n",
      "\t\t\t[0.016858825303069543, True]\n",
      "✔️ Test completed in 0.006473541259765625s\n",
      "\n",
      "\n",
      "Starting: binary_matrix_rank_test\n",
      "\t\tResults (p-value(s), Pass/Fail) = \n",
      "\t\t\t[0.1685778868919955, True]\n",
      "✔️ Test completed in 0.026611804962158203s\n",
      "\n",
      "\n",
      "Starting: discrete_fourier_transform_test\n",
      "\t\tResults (p-value(s), Pass/Fail) = \n",
      "\t\t\t[0.0, False]\n",
      "✔️ Test completed in 0.05452728271484375s\n",
      "\n",
      "\n",
      "Starting: non_overlapping_template_matching_test\n",
      "\t\tResults (p-value(s), Pass/Fail) = \n",
      "\t\t\t[0.017896446651748447, True]\n",
      "✔️ Test completed in 0.033818721771240234s\n",
      "\n",
      "\n",
      "Starting: overlapping_template_matching_test\n",
      "\t\tResults (p-value(s), Pass/Fail) = \n",
      "\t\t\t[7.11597963490656e-16, False]\n",
      "✔️ Test completed in 0.04318356513977051s\n",
      "\n",
      "\n",
      "Starting: maurers_universal_test\n",
      "\t\tResults (p-value(s), Pass/Fail) = \n",
      "\t\t\t[0.0755230699040477, True]\n",
      "✔️ Test completed in 0.03203940391540527s\n",
      "\n",
      "\n",
      "Starting: linear_complexity_test\n",
      "\t\tResults (p-value(s), Pass/Fail) = \n",
      "\t\t\t[0.531984337408639, True]\n",
      "✔️ Test completed in 0.3064727783203125s\n",
      "\n",
      "\n",
      "Starting: serial_test\n",
      "\t\tResults (p-value(s), Pass/Fail) = \n",
      "\t\t\t[(1.0, True), (1.0, True)]\n",
      "✔️ Test completed in 0.3413105010986328s\n",
      "\n",
      "\n",
      "Starting: approximate_entropy_test\n",
      "\t\tResults (p-value(s), Pass/Fail) = \n",
      "\t\t\t[0.0, False]\n",
      "✔️ Test completed in 0.13740825653076172s\n",
      "\n",
      "\n",
      "Starting: cumulative_sums_test\n",
      "\t\tResults (p-value(s), Pass/Fail) = \n",
      "\t\t\t[6.077549466189404e-87, False]\n",
      "✔️ Test completed in 0.01487112045288086s\n",
      "\n",
      "\n",
      "Starting: random_excursion_test\n",
      "\t\tResults (p-value(s), Pass/Fail) = \n",
      "\t\t\t[(0.15760436416652093, True), (0.21235095565856527, True), (0.09482524006807672, True), (0.3261688429349733, True), (1.0, True), (0.820835962326879, True), (0.8930721456772291, True), (0.9625657732472964, True), (0.9821754499176644, True)]\n",
      "✔️ Test completed in 0.02842879295349121s\n",
      "\n",
      "\n",
      "Starting: random_excursion_variant_test\n",
      "\t\tResults (p-value(s), Pass/Fail) = \n",
      "\t\t\t[(0.00911578725250831, False), (0.007050729110422747, False), (0.014058605323737271, True), (0.022119462108462017, True), (0.09169028154942914, True), (0.016827409482756846, True), (0.004677734981047266, False), (0.1441270348160153, True), (0.3427817111479114, True), (0.2059032107320683, True)]\n",
      "✔️ Test completed in 0.014790534973144531s\n",
      "\n",
      "\n",
      "Completed all tests in: 1.0561597347259521s\n",
      "[[1.6351636375438384e-86], [1.0], [1.5250481346350765e-05], [0.016858825303069543], [0.1685778868919955], [0.0], [0.017896446651748447], [7.11597963490656e-16], [0.0755230699040477], [0.531984337408639], [1.0, 1.0], [0.0], [6.077549466189404e-87], [0.15760436416652093, 0.21235095565856527, 0.09482524006807672, 0.3261688429349733, 1.0, 0.820835962326879, 0.8930721456772291, 0.9625657732472964, 0.9821754499176644], [0.00911578725250831, 0.007050729110422747, 0.014058605323737271, 0.022119462108462017, 0.09169028154942914, 0.016827409482756846, 0.004677734981047266, 0.1441270348160153, 0.3427817111479114, 0.2059032107320683]]\n",
      "==================================================================================\n",
      "hey into the function\n",
      "Starting: monobit_test\n",
      "\t\tResults (p-value(s), Pass/Fail) = \n",
      "\t\t\t[0.0, False]\n",
      "✔️ Test completed in 0.015709638595581055s\n",
      "\n",
      "\n",
      "Starting: frequency_within_block_test\n",
      "\t\tResults (p-value(s), Pass/Fail) = \n",
      "\t\t\t[1.0, True]\n",
      "✔️ Test completed in 0.015296459197998047s\n",
      "\n",
      "\n",
      "Starting: runs_test\n",
      "\t\tResults (p-value(s), Pass/Fail) = \n",
      "\t\t\t[3.5811296276055256e-72, False]\n",
      "✔️ Test completed in 0.039545536041259766s\n",
      "\n",
      "\n",
      "Starting: longest_run_within_block_test\n",
      "\t\tResults (p-value(s), Pass/Fail) = \n",
      "\t\t\t[2.226274375925667e-08, False]\n",
      "✔️ Test completed in 0.04622292518615723s\n",
      "\n",
      "\n",
      "Starting: binary_matrix_rank_test\n",
      "\t\tResults (p-value(s), Pass/Fail) = \n",
      "\t\t\t[0.7205143600255566, True]\n",
      "✔️ Test completed in 0.24759364128112793s\n",
      "\n",
      "\n",
      "Starting: discrete_fourier_transform_test\n",
      "\t\tResults (p-value(s), Pass/Fail) = \n",
      "\t\t\t[0.0, False]\n",
      "✔️ Test completed in 0.6277205944061279s\n",
      "\n",
      "\n",
      "Starting: non_overlapping_template_matching_test\n",
      "\t\tResults (p-value(s), Pass/Fail) = \n",
      "\t\t\t[7.740439623505889e-101, False]\n",
      "✔️ Test completed in 0.13517498970031738s\n",
      "\n",
      "\n",
      "Starting: overlapping_template_matching_test\n",
      "\t\tResults (p-value(s), Pass/Fail) = \n",
      "\t\t\t[2.4805732555406417e-216, False]\n",
      "✔️ Test completed in 0.2866485118865967s\n",
      "\n",
      "\n",
      "Starting: maurers_universal_test\n",
      "\t\tResults (p-value(s), Pass/Fail) = \n",
      "\t\t\t[0.6140415974430191, True]\n",
      "✔️ Test completed in 0.33225131034851074s\n",
      "\n",
      "\n",
      "Starting: linear_complexity_test\n",
      "\t\tResults (p-value(s), Pass/Fail) = \n",
      "\t\t\t[0.16167182308521957, True]\n",
      "✔️ Test completed in 3.689039707183838s\n",
      "\n",
      "\n",
      "Starting: serial_test\n",
      "\t\tResults (p-value(s), Pass/Fail) = \n",
      "\t\t\t[(1.0, True), (1.0, True)]\n",
      "✔️ Test completed in 0.7145514488220215s\n",
      "\n",
      "\n",
      "Starting: approximate_entropy_test\n",
      "\t\tResults (p-value(s), Pass/Fail) = \n",
      "\t\t\t[0.0, False]\n",
      "✔️ Test completed in 0.3844449520111084s\n",
      "\n",
      "\n",
      "Starting: cumulative_sums_test\n",
      "\t\tResults (p-value(s), Pass/Fail) = \n",
      "\t\t\t[1.8489884339594058e-25, False]\n",
      "✔️ Test completed in 0.0986471176147461s\n",
      "\n",
      "\n",
      "Starting: random_excursion_test\n",
      "\t\tResults (p-value(s), Pass/Fail) = \n",
      "\t\t\t[(0.08448568679491594, True), (0.06765301722000848, True), (0.6318100617354371, True), (0.15314356787516398, True), (1.0, True), (0.42516022116714425, True), (0.2751633278514187, True), (0.46592565930300356, True), (0.11432091953374994, True)]\n",
      "✔️ Test completed in 0.18544387817382812s\n",
      "\n",
      "\n",
      "Starting: random_excursion_variant_test\n",
      "\t\tResults (p-value(s), Pass/Fail) = \n",
      "\t\t\t[(0.37069546532928327, True), (0.259095229849085, True), (0.41899923651565635, True), (0.5779223740725266, True), (0.5384571747489246, True), (0.41929473879734286, True), (0.13971166089749587, True), (0.11637742025405115, True), (0.1451360369461815, True), (0.3314059469449145, True), (0.7365215280004027, True), (0.38498690356535087, True), (0.30399106551547644, True), (0.17389315680021836, True), (0.12063240245664546, True), (0.08967147237858412, True), (0.05045072945677325, True), (0.020965790595825887, True)]\n",
      "✔️ Test completed in 0.10577964782714844s\n",
      "\n",
      "\n",
      "Completed all tests in: 6.927001237869263s\n",
      "[[0.0], [1.0], [3.5811296276055256e-72], [2.226274375925667e-08], [0.7205143600255566], [0.0], [7.740439623505889e-101], [2.4805732555406417e-216], [0.6140415974430191], [0.16167182308521957], [1.0, 1.0], [0.0], [1.8489884339594058e-25], [0.08448568679491594, 0.06765301722000848, 0.6318100617354371, 0.15314356787516398, 1.0, 0.42516022116714425, 0.2751633278514187, 0.46592565930300356, 0.11432091953374994], [0.37069546532928327, 0.259095229849085, 0.41899923651565635, 0.5779223740725266, 0.5384571747489246, 0.41929473879734286, 0.13971166089749587, 0.11637742025405115, 0.1451360369461815, 0.3314059469449145, 0.7365215280004027, 0.38498690356535087, 0.30399106551547644, 0.17389315680021836, 0.12063240245664546, 0.08967147237858412, 0.05045072945677325, 0.020965790595825887]]\n",
      "==================================================================================\n",
      "hey into the function\n",
      "Starting: monobit_test\n",
      "\t\tResults (p-value(s), Pass/Fail) = \n",
      "\t\t\t[0.07908840856170635, True]\n",
      "✔️ Test completed in 0.0015377998352050781s\n",
      "\n",
      "\n",
      "Starting: frequency_within_block_test\n",
      "\t\tResults (p-value(s), Pass/Fail) = \n",
      "\t\t\t[0.5148281247370435, True]\n",
      "✔️ Test completed in 0.0008556842803955078s\n",
      "\n",
      "\n",
      "Starting: runs_test\n",
      "\t\tResults (p-value(s), Pass/Fail) = \n",
      "\t\t\t[0.028312911011265613, True]\n",
      "✔️ Test completed in 0.002932310104370117s\n",
      "\n",
      "\n",
      "Starting: longest_run_within_block_test\n",
      "\t\tResults (p-value(s), Pass/Fail) = \n",
      "\t\t\t[0.9891311180865666, True]\n",
      "✔️ Test completed in 0.004911661148071289s\n",
      "\n",
      "\n",
      "Starting: binary_matrix_rank_test\n",
      "\t\tResults (p-value(s), Pass/Fail) = \n",
      "\t\t\t[0.38507978266458825, True]\n",
      "✔️ Test completed in 0.023303985595703125s\n",
      "\n",
      "\n",
      "Starting: discrete_fourier_transform_test\n",
      "\t\tResults (p-value(s), Pass/Fail) = \n",
      "\t\t\t[0.1744189017616303, True]\n",
      "✔️ Test completed in 0.045328378677368164s\n",
      "\n",
      "\n",
      "Starting: non_overlapping_template_matching_test\n",
      "\t\tResults (p-value(s), Pass/Fail) = \n",
      "\t\t\t[0.6754834008180782, True]\n",
      "✔️ Test completed in 0.02261185646057129s\n",
      "\n",
      "\n",
      "Starting: overlapping_template_matching_test\n",
      "\t\tResults (p-value(s), Pass/Fail) = \n",
      "\t\t\t[0.8122911089286642, True]\n",
      "✔️ Test completed in 0.03632950782775879s\n",
      "\n",
      "\n",
      "Starting: maurers_universal_test\n",
      "\t\tResults (p-value(s), Pass/Fail) = \n",
      "\t\t\t[0.6402414015200252, True]\n",
      "✔️ Test completed in 0.024616479873657227s\n",
      "\n",
      "\n",
      "Starting: linear_complexity_test\n"
     ]
    },
    {
     "name": "stdout",
     "output_type": "stream",
     "text": [
      "\t\tResults (p-value(s), Pass/Fail) = \n",
      "\t\t\t[0.20249561278864803, True]\n",
      "✔️ Test completed in 0.2637443542480469s\n",
      "\n",
      "\n",
      "Starting: serial_test\n",
      "\t\tResults (p-value(s), Pass/Fail) = \n",
      "\t\t\t[(0.4310881948875533, True), (0.6092553493620102, True)]\n",
      "✔️ Test completed in 0.21094369888305664s\n",
      "\n",
      "\n",
      "Starting: approximate_entropy_test\n",
      "\t\tResults (p-value(s), Pass/Fail) = \n",
      "\t\t\t[0.6674820758211155, True]\n",
      "✔️ Test completed in 0.10865187644958496s\n",
      "\n",
      "\n",
      "Starting: cumulative_sums_test\n",
      "\t\tResults (p-value(s), Pass/Fail) = \n",
      "\t\t\t[0.09952496059370827, True]\n",
      "✔️ Test completed in 0.009344816207885742s\n",
      "\n",
      "\n",
      "Starting: random_excursion_test\n",
      "\t\tResults (p-value(s), Pass/Fail) = \n",
      "\t\t\t[(0.4053776275103841, True), (0.6285051475131114, True), (0.3615751232875408, True), (0.5250887016414068, True), (1.0, True), (0.970980917797388, True), (0.5902032795047896, True), (0.3386398993203509, True), (0.6051292075938516, True)]\n",
      "✔️ Test completed in 0.12475180625915527s\n",
      "\n",
      "\n",
      "Starting: random_excursion_variant_test\n",
      "\t\tResults (p-value(s), Pass/Fail) = \n",
      "\t\t\t[(1.0, True), (0.9432522107117433, True), (0.6919459320894956, True), (0.7281344805026659, True), (0.9201451042730998, True), (0.8944942862643359, True), (0.6298336317695006, True), (0.3323015355668028, True), (0.3041511304749668, True), (0.4081972357302546, True), (0.3469362814915595, True), (0.4132356261997755, True), (0.30182026423962255, True), (0.45212198721389707, True), (0.8324288051387897, True), (0.9556531218608342, True), (0.9690283001092665, True), (0.7153231368358779, True)]\n",
      "✔️ Test completed in 0.011343002319335938s\n",
      "\n",
      "\n",
      "Completed all tests in: 0.8942978382110596s\n",
      "[[0.07908840856170635], [0.5148281247370435], [0.028312911011265613], [0.9891311180865666], [0.38507978266458825], [0.1744189017616303], [0.6754834008180782], [0.8122911089286642], [0.6402414015200252], [0.20249561278864803], [0.4310881948875533, 0.6092553493620102], [0.6674820758211155], [0.09952496059370827], [0.4053776275103841, 0.6285051475131114, 0.3615751232875408, 0.5250887016414068, 1.0, 0.970980917797388, 0.5902032795047896, 0.3386398993203509, 0.6051292075938516], [1.0, 0.9432522107117433, 0.6919459320894956, 0.7281344805026659, 0.9201451042730998, 0.8944942862643359, 0.6298336317695006, 0.3323015355668028, 0.3041511304749668, 0.4081972357302546, 0.3469362814915595, 0.4132356261997755, 0.30182026423962255, 0.45212198721389707, 0.8324288051387897, 0.9556531218608342, 0.9690283001092665, 0.7153231368358779]]\n",
      "==================================================================================\n",
      "hey into the function\n",
      "Starting: monobit_test\n",
      "\t\tResults (p-value(s), Pass/Fail) = \n",
      "\t\t\t[0.009050412186497818, False]\n",
      "✔️ Test completed in 0.010367870330810547s\n",
      "\n",
      "\n",
      "Starting: frequency_within_block_test\n",
      "\t\tResults (p-value(s), Pass/Fail) = \n",
      "\t\t\t[0.7590196849670096, True]\n",
      "✔️ Test completed in 0.012995243072509766s\n",
      "\n",
      "\n",
      "Starting: runs_test\n",
      "\t\tResults (p-value(s), Pass/Fail) = \n",
      "\t\t\t[0.04673448130382564, True]\n",
      "✔️ Test completed in 0.031011581420898438s\n",
      "\n",
      "\n",
      "Starting: longest_run_within_block_test\n",
      "\t\tResults (p-value(s), Pass/Fail) = \n",
      "\t\t\t[0.9972899061781987, True]\n",
      "✔️ Test completed in 0.03803443908691406s\n",
      "\n",
      "\n",
      "Starting: binary_matrix_rank_test\n",
      "\t\tResults (p-value(s), Pass/Fail) = \n",
      "\t\t\t[0.26744116166947424, True]\n",
      "✔️ Test completed in 0.21900701522827148s\n",
      "\n",
      "\n",
      "Starting: discrete_fourier_transform_test\n",
      "\t\tResults (p-value(s), Pass/Fail) = \n",
      "\t\t\t[0.9144950686660267, True]\n",
      "✔️ Test completed in 0.6223137378692627s\n",
      "\n",
      "\n",
      "Starting: non_overlapping_template_matching_test\n",
      "\t\tResults (p-value(s), Pass/Fail) = \n",
      "\t\t\t[0.4812275006826253, True]\n",
      "✔️ Test completed in 0.11640262603759766s\n",
      "\n",
      "\n",
      "Starting: overlapping_template_matching_test\n",
      "\t\tResults (p-value(s), Pass/Fail) = \n",
      "\t\t\t[0.5398903605506886, True]\n",
      "✔️ Test completed in 0.26725316047668457s\n",
      "\n",
      "\n",
      "Starting: maurers_universal_test\n",
      "\t\tResults (p-value(s), Pass/Fail) = \n",
      "\t\t\t[0.19760095239061215, True]\n",
      "✔️ Test completed in 0.2128763198852539s\n",
      "\n",
      "\n",
      "Starting: linear_complexity_test\n",
      "\t\tResults (p-value(s), Pass/Fail) = \n",
      "\t\t\t[0.7605801325169682, True]\n",
      "✔️ Test completed in 3.6865904331207275s\n",
      "\n",
      "\n",
      "Starting: serial_test\n",
      "\t\tResults (p-value(s), Pass/Fail) = \n",
      "\t\t\t[(0.058618927202139584, True), (0.11839052385105484, True)]\n",
      "✔️ Test completed in 0.6784465312957764s\n",
      "\n",
      "\n",
      "Starting: approximate_entropy_test\n",
      "\t\tResults (p-value(s), Pass/Fail) = \n",
      "\t\t\t[0.2952249866434892, True]\n",
      "✔️ Test completed in 0.38519883155822754s\n",
      "\n",
      "\n",
      "Starting: cumulative_sums_test\n",
      "\t\tResults (p-value(s), Pass/Fail) = \n",
      "\t\t\t[0.016556668320993288, True]\n",
      "✔️ Test completed in 0.13599133491516113s\n",
      "\n",
      "\n",
      "Starting: random_excursion_test\n",
      "\t\tResults (p-value(s), Pass/Fail) = \n",
      "\t\t\t[(0.9640492027081478, True), (0.7117005676767197, True), (0.797581037699711, True), (0.1342640785561987, True), (1.0, True), (0.44483008250236744, True), (0.20789259135577345, True), (0.137992281845808, True), (0.6874793641910872, True)]\n",
      "✔️ Test completed in 0.19459843635559082s\n",
      "\n",
      "\n",
      "Starting: random_excursion_variant_test\n",
      "\t\tResults (p-value(s), Pass/Fail) = \n",
      "\t\t\t[(0.6509624808889825, True), (0.716089393191484, True), (0.6122882698313634, True), (0.5429540010287469, True), (0.7703898357307193, True), (0.9083572262411521, True), (1.0, True), (0.7750837470733793, True), (0.5175161400764339, True), (0.7607052535729719, True), (0.42879428738548975, True), (0.972837071249517, True), (0.5080432384112241, True), (0.5852992087505142, True), (0.566023944258601, True), (0.5402763223829206, True), (0.3924607250693936, True), (0.32317735230280714, True)]\n",
      "✔️ Test completed in 0.10861420631408691s\n",
      "\n",
      "\n",
      "Completed all tests in: 6.72952127456665s\n",
      "[[0.009050412186497818], [0.7590196849670096], [0.04673448130382564], [0.9972899061781987], [0.26744116166947424], [0.9144950686660267], [0.4812275006826253], [0.5398903605506886], [0.19760095239061215], [0.7605801325169682], [0.058618927202139584, 0.11839052385105484], [0.2952249866434892], [0.016556668320993288], [0.9640492027081478, 0.7117005676767197, 0.797581037699711, 0.1342640785561987, 1.0, 0.44483008250236744, 0.20789259135577345, 0.137992281845808, 0.6874793641910872], [0.6509624808889825, 0.716089393191484, 0.6122882698313634, 0.5429540010287469, 0.7703898357307193, 0.9083572262411521, 1.0, 0.7750837470733793, 0.5175161400764339, 0.7607052535729719, 0.42879428738548975, 0.972837071249517, 0.5080432384112241, 0.5852992087505142, 0.566023944258601, 0.5402763223829206, 0.3924607250693936, 0.32317735230280714]]\n",
      "==================================================================================\n"
     ]
    }
   ],
   "source": [
    "#script to run all tests for the data collected.\n",
    "res_values ={}\n",
    "\n",
    "for i,j in dict_values.items():\n",
    "    # creating an object\n",
    "    rand = TRNGtester(j)\n",
    "\n",
    "    # Running all test\n",
    "    rand_final = rand.run_nist_tests()\n",
    "    print(rand_final)\n",
    "    values = get_min_lst(rand_final)\n",
    "    res_values[i]=values\n",
    " \n",
    "    print(\"==================================================================================\")"
   ]
  },
  {
   "cell_type": "markdown",
   "id": "134bd7c2",
   "metadata": {},
   "source": [
    "# Stats"
   ]
  },
  {
   "cell_type": "markdown",
   "id": "863c2bf0",
   "metadata": {},
   "source": [
    "Calculate: how many tests passed (p-value ≥ 0.01) or failed (p-value < 0.01)?\n",
    "\n",
    "Repeat this for each dataset (i.e., 1M and 10M bits from both the RO/LFSR TRNG and the GARO TRNG)"
   ]
  },
  {
   "cell_type": "code",
   "execution_count": 31,
   "id": "6ebdd5a7",
   "metadata": {
    "scrolled": false
   },
   "outputs": [
    {
     "name": "stdout",
     "output_type": "stream",
     "text": [
      "Dataset     Count Passed\n",
      "==========================\n",
      "RO_LFSR_TRNG_1M ---> 8\n",
      "-------------------------\n",
      "RO_LFSR_TRNG_10M ---> 7\n",
      "-------------------------\n",
      "GARO_TRNG_1M ---> 15\n",
      "-------------------------\n",
      "GARO_TRNG_10M ---> 14\n",
      "-------------------------\n"
     ]
    }
   ],
   "source": [
    "# Counting the passed tests for each TRNG(1M and 10M)\n",
    "print(\"Dataset\",\"    Count Passed\")\n",
    "print(\"==========================\")\n",
    "for i,j in res_values.items():\n",
    "    count_passed = 0\n",
    "    for k in j:\n",
    "        if k > 0.01:\n",
    "            count_passed+=1\n",
    "    print(i,\"--->\",count_passed)\n",
    "    print('-------------------------')"
   ]
  },
  {
   "cell_type": "markdown",
   "id": "325cf281",
   "metadata": {},
   "source": [
    "# Plots"
   ]
  },
  {
   "cell_type": "markdown",
   "id": "e3bb050f",
   "metadata": {},
   "source": [
    "Plot and save (as PDF) a vertical bar graph for the NIST test. Make sure to format the plots with adequate size, title, axis labels, ... (see the Tutorial-01-Python).\n",
    "\n",
    "To generate vertical bar graphs, use `plt.bar()`. Read more: https://matplotlib.org/stable/api/_as_gen/matplotlib.pyplot.bar.html\n",
    "\n",
    "Make sure to annotate each bar indicating if the test `pass` or `fail`, use `plt..annotate()`. Read more: https://matplotlib.org/stable/api/_as_gen/matplotlib.pyplot.annotate.html"
   ]
  },
  {
   "cell_type": "code",
   "execution_count": 32,
   "id": "e37a9ec2",
   "metadata": {},
   "outputs": [],
   "source": [
    "def plot_bar(lst,title,outfile,col):\n",
    "    \n",
    "    rn = lst #ro10_final, garo1_final, garo10_final\n",
    "\n",
    "    # set figure size\n",
    "    plt.figure(figsize=(7.5,7), constrained_layout=True)\n",
    "\n",
    "    # format the plot\n",
    "    plt.title(title)   # adds title\n",
    "    plt.ylabel(\"P-Values\")                    # adds x-axis label\n",
    "    plt.xlabel(\"NIST Tests\")                  # adds y-axis label\n",
    "\n",
    "    # hard-code x axis for 15 NIST tests\n",
    "    x = [1, 2, 3, 4, 5, 6, 7, 8, 9, 10, 11, 12, 13, 14, 15]\n",
    "    plt.xticks(np.arange(min(x), max(x)+1, 1.0))\n",
    "\n",
    "    # make smaller steps for p-values\n",
    "    plt.yticks(np.arange(0, max(rn)+1, step=0.1))\n",
    "    rng = plt.bar(x, rn, width=0.7, color=col)\n",
    "\n",
    "    # loop to annotate the bars in the bar chart\n",
    "    xiter = 0\n",
    "    yiter = 0\n",
    "\n",
    "    for bar in rng:\n",
    "        if rn[yiter] >= 0.01:\n",
    "            plt.annotate('pass', \n",
    "                         xy = (x[xiter], rn[yiter]), \n",
    "                         xytext = (x[xiter] - 0.5, rn[yiter] + 0.01))\n",
    "        else:\n",
    "            plt.annotate('fail', \n",
    "                         xy = (x[xiter], rn[yiter]), \n",
    "                         xytext = (x[xiter] - 0.3, rn[yiter] + 0.01))\n",
    "        xiter += 1\n",
    "        yiter += 1\n",
    "\n",
    "    # save the plot\n",
    "    plt.savefig(\"../Figures/\"+ outfile +\".pdf\") # PDF recommended\n",
    "    plt.savefig(\"../Figures/\"+ outfile+\".png\", dpi=500)\n",
    "\n",
    "    # Display the plot\n",
    "    plt.show(rng)"
   ]
  },
  {
   "cell_type": "code",
   "execution_count": 38,
   "id": "d2b5ff48",
   "metadata": {
    "scrolled": false
   },
   "outputs": [
    {
     "data": {
      "image/png": "[encoded data removed]",
      "text/plain": [
       "<Figure size 540x504 with 1 Axes>"
      ]
     },
     "metadata": {
      "needs_background": "light"
     },
     "output_type": "display_data"
    },
    {
     "data": {
      "image/png": "[encoded data removed]",
      "text/plain": [
       "<Figure size 540x504 with 1 Axes>"
      ]
     },
     "metadata": {
      "needs_background": "light"
     },
     "output_type": "display_data"
    },
    {
     "data": {
      "image/png": "[encoded data removed]",
      "text/plain": [
       "<Figure size 540x504 with 1 Axes>"
      ]
     },
     "metadata": {
      "needs_background": "light"
     },
     "output_type": "display_data"
    },
    {
     "data": {
      "image/png": "[encoded data removed]",
      "text/plain": [
       "<Figure size 540x504 with 1 Axes>"
      ]
     },
     "metadata": {
      "needs_background": "light"
     },
     "output_type": "display_data"
    }
   ],
   "source": [
    "plot_bar(res_values['RO_LFSR_TRNG_1M'],\"LFSR 1 Million Random Bits Results\",\"RO_LFSR_TRNG_1M\",'deepskyblue')\n",
    "plot_bar(res_values['RO_LFSR_TRNG_10M'],\"LFSR 10 Million Random Bits Results\",\"RO_LFSR_TRNG_10M\",'deepskyblue')\n",
    "plot_bar(res_values['GARO_TRNG_1M'],\"GARO 1 Million Random Bits Results\",\"GARO_TRNG_1M\",'yellowgreen')\n",
    "plot_bar(res_values['GARO_TRNG_10M'],\"GARO 10 Million Random Bits Results\",\"GARO_TRNG_10M\",'yellowgreen')"
   ]
  },
  {
   "cell_type": "code",
   "execution_count": null,
   "id": "f987a89e",
   "metadata": {},
   "outputs": [],
   "source": []
  }
 ],
 "metadata": {
  "kernelspec": {
   "display_name": "Python 3",
   "language": "python",
   "name": "python3"
  },
  "language_info": {
   "codemirror_mode": {
    "name": "ipython",
    "version": 3
   },
   "file_extension": ".py",
   "mimetype": "text/x-python",
   "name": "python",
   "nbconvert_exporter": "python",
   "pygments_lexer": "ipython3",
   "version": "3.8.8"
  },
  "toc": {
   "base_numbering": 1,
   "nav_menu": {},
   "number_sections": true,
   "sideBar": true,
   "skip_h1_title": false,
   "title_cell": "Table of Contents",
   "title_sidebar": "Contents",
   "toc_cell": false,
   "toc_position": {},
   "toc_section_display": true,
   "toc_window_display": false
  },
  "varInspector": {
   "cols": {
    "lenName": 16,
    "lenType": 16,
    "lenVar": 40
   },
   "kernels_config": {
    "python": {
     "delete_cmd_postfix": "",
     "delete_cmd_prefix": "del ",
     "library": "var_list.py",
     "varRefreshCmd": "print(var_dic_list())"
    },
    "r": {
     "delete_cmd_postfix": ") ",
     "delete_cmd_prefix": "rm(",
     "library": "var_list.r",
     "varRefreshCmd": "cat(var_dic_list()) "
    }
   },
   "types_to_exclude": [
    "module",
    "function",
    "builtin_function_or_method",
    "instance",
    "_Feature"
   ],
   "window_display": false
  }
 },
 "nbformat": 4,
 "nbformat_minor": 5
}
