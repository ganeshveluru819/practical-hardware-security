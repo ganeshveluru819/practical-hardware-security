{
 "cells": [
  {
   "cell_type": "markdown",
   "id": "27249bb5",
   "metadata": {
    "heading_collapsed": true
   },
   "source": [
    "# ZIP or Compress file\n",
    "\n",
    "Run this code to zip (compress) all your files from this directory. The zip file name will be the same as the current directory"
   ]
  },
  {
   "cell_type": "code",
   "execution_count": null,
   "id": "b8e451d7",
   "metadata": {
    "code_folding": [],
    "hidden": true
   },
   "outputs": [],
   "source": [
    "#\n",
    "#RUN THIS CELL TO ZIP ALL YOUR FILES FROM THIS DIRECTORY\n",
    "!f=\"$(basename $PWD).zip\" && zip -r $f * -x $f"
   ]
  },
  {
   "cell_type": "markdown",
   "id": "b4ae6ae9",
   "metadata": {},
   "source": [
    "# UNZIP or Decompress file\n",
    "\n",
    "Run this code to unzip (decompress) your zip file. The zip file must have the same name as the current directory."
   ]
  },
  {
   "cell_type": "code",
   "execution_count": 1,
   "id": "3930d5bb",
   "metadata": {},
   "outputs": [
    {
     "name": "stdout",
     "output_type": "stream",
     "text": [
      "Archive:  PHS-Lab-03.zip\n",
      "   creating: Code/\n",
      "  inflating: Code/Lab-03-Analysis.ipynb  \n",
      "   creating: Code/.ipynb_checkpoints/\n",
      "  inflating: Code/.ipynb_checkpoints/Lab-03-Acquisition-checkpoint.ipynb  \n",
      "  inflating: Code/.ipynb_checkpoints/Lab-03-Analysis-checkpoint.ipynb  \n",
      "   creating: Code/tests/\n",
      "  inflating: Code/tests/test_11_serial.py  \n",
      "  inflating: Code/tests/test_08_overlapping_template_matching.py  \n",
      "  inflating: Code/tests/test_14_random_excursions.py  \n",
      "  inflating: Code/tests/test_09_maurers_universal_statistical.py  \n",
      "  inflating: Code/tests/__init__.py  \n",
      "  inflating: Code/tests/test_12_approximate_entropy.py  \n",
      "  inflating: Code/tests/test_15_random_excursions_variant.py  \n",
      "   creating: Code/tests/__pycache__/\n",
      "  inflating: Code/tests/__pycache__/test_08_overlapping_template_matching.cpython-39.pyc  \n",
      "  inflating: Code/tests/__pycache__/test_01_monobit.cpython-39.pyc  \n",
      "  inflating: Code/tests/__pycache__/test_05_binary_matrix_rank.cpython-39.pyc  \n",
      "  inflating: Code/tests/__pycache__/test_12_approximate_entropy.cpython-39.pyc  \n",
      "  inflating: Code/tests/__pycache__/test_15_random_excursions_variant.cpython-39.pyc  \n",
      "  inflating: Code/tests/__pycache__/test_04_longest_run_within_block.cpython-39.pyc  \n",
      "  inflating: Code/tests/__pycache__/test_03_runs.cpython-39.pyc  \n",
      "  inflating: Code/tests/__pycache__/test_11_serial.cpython-39.pyc  \n",
      "  inflating: Code/tests/__pycache__/test_07_non_overlapping_template_matching.cpython-39.pyc  \n",
      "  inflating: Code/tests/__pycache__/__init__.cpython-39.pyc  \n",
      "  inflating: Code/tests/__pycache__/test_02_frequency_within_block.cpython-39.pyc  \n",
      "  inflating: Code/tests/__pycache__/test_13_cumulative_sums.cpython-39.pyc  \n",
      "  inflating: Code/tests/__pycache__/test_10_linear_complexity.cpython-39.pyc  \n",
      "  inflating: Code/tests/__pycache__/test_09_maurers_universal_statistical.cpython-39.pyc  \n",
      "  inflating: Code/tests/__pycache__/test_06_discrete_fourier_transform.cpython-39.pyc  \n",
      "  inflating: Code/tests/__pycache__/test_14_random_excursions.cpython-39.pyc  \n",
      "  inflating: Code/tests/test_06_discrete_fourier_transform.py  \n",
      "  inflating: Code/tests/test_02_frequency_within_block.py  \n",
      "  inflating: Code/tests/test_03_runs.py  \n",
      "  inflating: Code/tests/test_13_cumulative_sums.py  \n",
      "  inflating: Code/tests/test_10_linear_complexity.py  \n",
      "  inflating: Code/tests/test_05_binary_matrix_rank.py  \n",
      "  inflating: Code/tests/test_07_non_overlapping_template_matching.py  \n",
      "  inflating: Code/tests/test_01_monobit.py  \n",
      "  inflating: Code/tests/test_04_longest_run_within_block.py  \n",
      "   creating: Code/__pycache__/\n",
      "  inflating: Code/__pycache__/NIST.cpython-39.pyc  \n",
      "  inflating: Code/Lab-03-Acquisition.ipynb  \n",
      "  inflating: Code/NIST.py            \n",
      "   creating: Data/\n",
      "   creating: Data/.ipynb_checkpoints/\n",
      "   creating: Figures/\n",
      "   creating: Hardware/\n",
      "   creating: Hardware/.ipynb_checkpoints/\n",
      "  inflating: Hardware/GARO_TRNG.bit  \n",
      "  inflating: Hardware/RO_LFSR_TRNG.bit  \n",
      "  inflating: RUN-TO-ZIP.ipynb        \n"
     ]
    }
   ],
   "source": [
    "#Run this to unzip (decompress) your file\n",
    "!f=\"$(basename $PWD).zip\" && unzip -o $f"
   ]
  },
  {
   "cell_type": "code",
   "execution_count": null,
   "id": "010fa5ca",
   "metadata": {},
   "outputs": [],
   "source": []
  }
 ],
 "metadata": {
  "kernelspec": {
   "display_name": "Python 3 (ipykernel)",
   "language": "python",
   "name": "python3"
  },
  "language_info": {
   "codemirror_mode": {
    "name": "ipython",
    "version": 3
   },
   "file_extension": ".py",
   "mimetype": "text/x-python",
   "name": "python",
   "nbconvert_exporter": "python",
   "pygments_lexer": "ipython3",
   "version": "3.9.5"
  },
  "toc": {
   "base_numbering": 1,
   "nav_menu": {},
   "number_sections": true,
   "sideBar": true,
   "skip_h1_title": false,
   "title_cell": "Table of Contents",
   "title_sidebar": "Contents",
   "toc_cell": false,
   "toc_position": {},
   "toc_section_display": true,
   "toc_window_display": false
  }
 },
 "nbformat": 4,
 "nbformat_minor": 5
}
