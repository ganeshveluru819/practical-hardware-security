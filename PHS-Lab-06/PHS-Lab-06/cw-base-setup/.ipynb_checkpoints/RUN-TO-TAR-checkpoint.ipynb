{
 "cells": [
  {
   "cell_type": "markdown",
   "id": "27249bb5",
   "metadata": {
    "heading_collapsed": true
   },
   "source": [
    "# TAR or Compress file"
   ]
  },
  {
   "cell_type": "code",
   "execution_count": null,
   "id": "b8e451d7",
   "metadata": {
    "code_folding": [],
    "hidden": true
   },
   "outputs": [],
   "source": [
    "# RUN THIS CELL TO GENERATE A TAR WITH ALL YOUR FILES FROM THIS DIRECTORY\n",
    "!f=\"$(basename $PWD).tar.gz\" && tar --exclude=$f -czvf $f *\n",
    "\n",
    "\n",
    "\n",
    "# The file name will be the same as the current directory's name + \".tar.gz\"\n",
    "# below its will print all the files compressed in this tar file\n",
    "\n",
    "# HOW DOES THIS WORKS?\n",
    "#  (1) ! – command indicates to run this as a terminal shell comman.\n",
    "#\n",
    "#  (2) && – allows to run different commands written in the same line, but at different\n",
    "#           instances (executed one after the other).\n",
    "#\n",
    "#  (3) $(basename $PWD) – extracts the current directory path using $PWD and removes everything\n",
    "#                         except current directory name using the basename command.\n",
    "#\n",
    "#  (4) f=\"$(basename $PWD).tar.gz\" – creates a string variable that stores the current directory\n",
    "#                                    name using (3) concatenated with \".tar.gz\".\n",
    "#\n",
    "#  (5)  tar --exclude=$f -czvf $f * – creates a compressed tar file with all content in current\n",
    "#                                     directory. The tar name is named using $f (4). It will\n",
    "#                                     \"exclude\" any existing/old versions of the tar file. So,\n",
    "#                                     it's safe to re-run this code many times without creating\n",
    "#                                     large copies of the tar itself."
   ]
  },
  {
   "cell_type": "markdown",
   "id": "b4ae6ae9",
   "metadata": {
    "heading_collapsed": true
   },
   "source": [
    "# UN-TAR or Decompress file"
   ]
  },
  {
   "cell_type": "code",
   "execution_count": 1,
   "id": "3930d5bb",
   "metadata": {
    "hidden": true
   },
   "outputs": [
    {
     "name": "stdout",
     "output_type": "stream",
     "text": [
      "tar (child): cw-base-setup.tar.gz: Cannot open: No such file or directory\r\n",
      "tar (child): Error is not recoverable: exiting now\r\n",
      "tar: Child returned status 2\r\n",
      "tar: Error is not recoverable: exiting now\r\n"
     ]
    }
   ],
   "source": [
    "#Run this to un-tar (decompress) your file\n",
    "!f=\"$(basename $PWD).tar.gz\" && tar -zxvf $f\n",
    "\n",
    "# This is similar to \"tar\" but with -zxvf command instead to \"un-tar\""
   ]
  },
  {
   "cell_type": "code",
   "execution_count": null,
   "id": "010fa5ca",
   "metadata": {
    "hidden": true
   },
   "outputs": [],
   "source": []
  }
 ],
 "metadata": {
  "kernelspec": {
   "display_name": "Python 3 (ipykernel)",
   "language": "python",
   "name": "python3"
  },
  "language_info": {
   "codemirror_mode": {
    "name": "ipython",
    "version": 3
   },
   "file_extension": ".py",
   "mimetype": "text/x-python",
   "name": "python",
   "nbconvert_exporter": "python",
   "pygments_lexer": "ipython3",
   "version": "3.9.5"
  },
  "toc": {
   "base_numbering": 1,
   "nav_menu": {},
   "number_sections": true,
   "sideBar": true,
   "skip_h1_title": false,
   "title_cell": "Table of Contents",
   "title_sidebar": "Contents",
   "toc_cell": false,
   "toc_position": {},
   "toc_section_display": true,
   "toc_window_display": false
  }
 },
 "nbformat": 4,
 "nbformat_minor": 5
}
