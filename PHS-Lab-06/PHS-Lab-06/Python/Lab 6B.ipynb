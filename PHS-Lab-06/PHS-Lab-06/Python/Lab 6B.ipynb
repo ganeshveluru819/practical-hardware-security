{
 "cells": [
  {
   "cell_type": "markdown",
   "metadata": {},
   "source": [
    "# Lab 6B - Recovering AES Key from a Single Bit of Data"
   ]
  },
  {
   "cell_type": "markdown",
   "metadata": {},
   "source": [
    "---\n",
    "NOTE: This lab references some (commercial) training material on [ChipWhisperer.io](https://www.ChipWhisperer.io). You can freely execute and use the lab per the open-source license (including using it in your own courses if you distribute similarly), but you must maintain notice about this source location. Consider joining our training course to enjoy the full experience.\n",
    "\n",
    "---"
   ]
  },
  {
   "cell_type": "markdown",
   "metadata": {},
   "source": [
    "Let's do a basic demo to recover a single bit of data from an internal state of an AES implementation, and see how far we can take our attack.\n",
    "\n",
    "\n",
    "**SUMMARY:** *This lab will take you through the associated information about how to recover an AES key from a single \"bit\" of leakage. We already saw how power analysis can be used to understand device leakage, but how does that mean we can recover cryptographic information?*\n",
    "\n",
    "**LEARNING OUTCOMES:**\n",
    "\n",
    "* Understand some basics of the AES algorithm.\n",
    "* See how a single bit of leakage can translate to a full key reveal.\n",
    "* See how to sort and ranking lists.\n"
   ]
  },
  {
   "cell_type": "markdown",
   "metadata": {},
   "source": [
    "## 1. AES Refresher"
   ]
  },
  {
   "cell_type": "markdown",
   "metadata": {},
   "source": [
    "You'll be an expert at AES (or recognizing AES figures) by the end of this course! Remember that the input data flow for AES is something like this:\n",
    "\n",
    "![aes-input-sbox](aesinput.png)\n",
    "\n",
    "Where the input data is XOR'd with a key byte, and then passed through an S-Box. First, let's build our AES model. I'm going to make your life slightly easier by giving you the S-Box data:"
   ]
  },
  {
   "cell_type": "code",
   "execution_count": 15,
   "metadata": {},
   "outputs": [],
   "source": [
    "sbox = [\n",
    "    # 0    1    2    3    4    5    6    7    8    9    a    b    c    d    e    f \n",
    "    0x63,0x7c,0x77,0x7b,0xf2,0x6b,0x6f,0xc5,0x30,0x01,0x67,0x2b,0xfe,0xd7,0xab,0x76, # 0\n",
    "    0xca,0x82,0xc9,0x7d,0xfa,0x59,0x47,0xf0,0xad,0xd4,0xa2,0xaf,0x9c,0xa4,0x72,0xc0, # 1\n",
    "    0xb7,0xfd,0x93,0x26,0x36,0x3f,0xf7,0xcc,0x34,0xa5,0xe5,0xf1,0x71,0xd8,0x31,0x15, # 2\n",
    "    0x04,0xc7,0x23,0xc3,0x18,0x96,0x05,0x9a,0x07,0x12,0x80,0xe2,0xeb,0x27,0xb2,0x75, # 3\n",
    "    0x09,0x83,0x2c,0x1a,0x1b,0x6e,0x5a,0xa0,0x52,0x3b,0xd6,0xb3,0x29,0xe3,0x2f,0x84, # 4\n",
    "    0x53,0xd1,0x00,0xed,0x20,0xfc,0xb1,0x5b,0x6a,0xcb,0xbe,0x39,0x4a,0x4c,0x58,0xcf, # 5\n",
    "    0xd0,0xef,0xaa,0xfb,0x43,0x4d,0x33,0x85,0x45,0xf9,0x02,0x7f,0x50,0x3c,0x9f,0xa8, # 6\n",
    "    0x51,0xa3,0x40,0x8f,0x92,0x9d,0x38,0xf5,0xbc,0xb6,0xda,0x21,0x10,0xff,0xf3,0xd2, # 7\n",
    "    0xcd,0x0c,0x13,0xec,0x5f,0x97,0x44,0x17,0xc4,0xa7,0x7e,0x3d,0x64,0x5d,0x19,0x73, # 8\n",
    "    0x60,0x81,0x4f,0xdc,0x22,0x2a,0x90,0x88,0x46,0xee,0xb8,0x14,0xde,0x5e,0x0b,0xdb, # 9\n",
    "    0xe0,0x32,0x3a,0x0a,0x49,0x06,0x24,0x5c,0xc2,0xd3,0xac,0x62,0x91,0x95,0xe4,0x79, # a\n",
    "    0xe7,0xc8,0x37,0x6d,0x8d,0xd5,0x4e,0xa9,0x6c,0x56,0xf4,0xea,0x65,0x7a,0xae,0x08, # b\n",
    "    0xba,0x78,0x25,0x2e,0x1c,0xa6,0xb4,0xc6,0xe8,0xdd,0x74,0x1f,0x4b,0xbd,0x8b,0x8a, # c\n",
    "    0x70,0x3e,0xb5,0x66,0x48,0x03,0xf6,0x0e,0x61,0x35,0x57,0xb9,0x86,0xc1,0x1d,0x9e, # d\n",
    "    0xe1,0xf8,0x98,0x11,0x69,0xd9,0x8e,0x94,0x9b,0x1e,0x87,0xe9,0xce,0x55,0x28,0xdf, # e\n",
    "    0x8c,0xa1,0x89,0x0d,0xbf,0xe6,0x42,0x68,0x41,0x99,0x2d,0x0f,0xb0,0x54,0xbb,0x16  # f\n",
    "]"
   ]
  },
  {
   "cell_type": "code",
   "execution_count": 16,
   "metadata": {},
   "outputs": [
    {
     "data": {
      "text/plain": [
       "155"
      ]
     },
     "execution_count": 16,
     "metadata": {},
     "output_type": "execute_result"
    }
   ],
   "source": [
    "sbox[232]"
   ]
  },
  {
   "cell_type": "markdown",
   "metadata": {},
   "source": [
    "Alright - that should be enough for you to build a simple function that XORs a secret key value with the input data, and then performs a lookup in the above table. Before you continue, modify the following code block to implement the correct function:\n",
    "\n",
    "### 1.1 `aes_internal()`"
   ]
  },
  {
   "cell_type": "code",
   "execution_count": 17,
   "metadata": {},
   "outputs": [],
   "source": [
    "def aes_internal(inputdata, key):\n",
    "    b=inputdata^key\n",
    "    return sbox[b]"
   ]
  },
  {
   "cell_type": "markdown",
   "metadata": {},
   "source": [
    "With that working - go ahead and run the following test vectors. If the values are not as expected, check your implementation. If the following executes without error, then go onto the next part."
   ]
  },
  {
   "cell_type": "code",
   "execution_count": 18,
   "metadata": {},
   "outputs": [
    {
     "name": "stdout",
     "output_type": "stream",
     "text": [
      "✔️ OK to continue!\n"
     ]
    }
   ],
   "source": [
    "#Simple test vectors - if you get the check-mark printed all OK.\n",
    "assert(aes_internal(0xAB, 0xEF) == 0x1B)\n",
    "assert(aes_internal(0x22, 0x01) == 0x26)\n",
    "print(\"✔️ OK to continue!\")"
   ]
  },
  {
   "cell_type": "markdown",
   "metadata": {},
   "source": [
    "Finally - we'll make a new function which doesn't expose the key. The following function has some hard-coded key. You can change this key byte if you'd like, and see it recovered at a later step!\n",
    "\n",
    "## 1.2 `aes_secret()`"
   ]
  },
  {
   "cell_type": "code",
   "execution_count": 19,
   "metadata": {},
   "outputs": [],
   "source": [
    "def aes_secret(inputdata):\n",
    "    secret_key = 0xEF\n",
    "    return aes_internal(inputdata,secret_key)\n"
   ]
  },
  {
   "cell_type": "markdown",
   "metadata": {},
   "source": [
    "At this point, we can get the value of some internal part of the AES algorithm. For our first attack, we're going to assume that we can't observe this entire value. Let's just observe a single bit of the value - imagine that someone put a probe down inside the chip to get this. We can do this by simply throwing away all the other data besides a single bit, and only expose that single bit to the observer.\n",
    "\n",
    "Let's build the watcher now."
   ]
  },
  {
   "cell_type": "markdown",
   "metadata": {},
   "source": [
    "## 2. AES Watcher"
   ]
  },
  {
   "cell_type": "markdown",
   "metadata": {},
   "source": [
    "The watcher is going to observe a single bit of data. We'll need to build lists of input we feed to the algorithm (we're just going to send in 1000 random bytes that get 'encrypted'), as well as lists to hold our observation. In case you're still picking up Python, here are a few handy little things you might need in this section:"
   ]
  },
  {
   "cell_type": "code",
   "execution_count": 20,
   "metadata": {},
   "outputs": [],
   "source": [
    "##Some Python hints/useful functions:\n",
    "\n",
    "# You can use this function to generate the random data\n",
    "import random\n",
    "random.randint(0, 255)\n",
    "\n",
    "# List comprehension can be used to shovel data through a function\n",
    "def somefunc(a):\n",
    "    return a + 4\n",
    "input_data = [1,2,5,6]\n",
    "output_data = [somefunc(a) for a in input_data]\n",
    "\n",
    "# You can use this while ignoring the index variable too\n",
    "output_data = [somefunc(random.randint(0,255)) for _ in range(0, 1000)]"
   ]
  },
  {
   "cell_type": "markdown",
   "metadata": {},
   "source": [
    "Your first objective is to build a list of data you are encrypted with aes_secret(). This should be a 1000-item random number which ranges from 0 to 255. Call it `input_data`. For example if you print the `input_data` list it could look like `[2, 49, 0, 212, 94, 255, ... , 7]`, where there are 1000 elements in total. Fill in the following code to make a list of the 1000 random values in the correct range (see hints above if you need some Python syntax). \n",
    "\n",
    "### 2.1 Generation of `input_data`"
   ]
  },
  {
   "cell_type": "code",
   "execution_count": 21,
   "metadata": {},
   "outputs": [
    {
     "name": "stdout",
     "output_type": "stream",
     "text": [
      "[48, 25, 182, 181, 148, 177, 104, 76, 69, 195, 141, 193, 206, 151, 67, 47, 85, 255, 171, 106, 91, 69, 251, 130, 161, 214, 128, 22, 140, 129, 182, 177, 122, 113, 235, 202, 217, 4, 214, 6, 95, 184, 88, 125, 8, 16, 141, 86, 252, 82, 59, 55, 29, 8, 35, 224, 126, 204, 14, 172, 192, 103, 98, 132, 56, 107, 132, 87, 97, 26, 182, 9, 243, 82, 231, 62, 210, 197, 205, 253, 118, 129, 118, 98, 100, 229, 118, 1, 142, 136, 52, 143, 21, 188, 157, 114, 91, 137, 200, 55, 217, 177, 139, 203, 188, 41, 244, 213, 69, 104, 190, 253, 115, 186, 82, 78, 76, 44, 98, 145, 184, 199, 246, 124, 83, 141, 62, 122, 165, 137, 212, 95, 63, 169, 80, 117, 118, 68, 141, 221, 231, 76, 40, 58, 124, 89, 52, 67, 68, 95, 186, 31, 55, 14, 192, 68, 26, 217, 118, 195, 80, 187, 169, 0, 130, 203, 107, 186, 247, 138, 72, 173, 244, 255, 126, 200, 25, 53, 69, 81, 158, 101, 91, 16, 252, 93, 241, 47, 2, 237, 31, 201, 118, 70, 76, 164, 238, 137, 118, 207, 147, 135, 82, 7, 217, 46, 158, 26, 74, 130, 202, 74, 253, 116, 89, 5, 51, 156, 39, 110, 175, 186, 246, 219, 111, 190, 197, 188, 146, 130, 251, 252, 134, 151, 254, 249, 14, 11, 78, 5, 99, 230, 71, 64, 141, 250, 235, 187, 162, 253, 40, 128, 196, 24, 29, 114, 43, 230, 47, 250, 28, 102, 1, 33, 117, 251, 24, 216, 171, 168, 156, 75, 9, 208, 205, 201, 237, 183, 183, 10, 39, 10, 129, 147, 96, 38, 86, 180, 191, 165, 20, 115, 45, 202, 37, 229, 254, 237, 146, 124, 25, 128, 85, 30, 27, 20, 187, 215, 51, 61, 48, 103, 128, 173, 51, 12, 229, 50, 75, 60, 117, 35, 1, 222, 56, 219, 96, 56, 2, 22, 166, 72, 29, 159, 97, 122, 144, 66, 240, 0, 37, 29, 230, 231, 35, 223, 2, 52, 108, 200, 143, 228, 167, 151, 193, 165, 78, 82, 166, 61, 42, 97, 154, 186, 87, 16, 56, 109, 69, 7, 155, 223, 25, 11, 220, 222, 241, 128, 3, 109, 118, 185, 239, 253, 21, 26, 5, 151, 224, 252, 253, 52, 141, 135, 107, 223, 245, 126, 229, 94, 53, 136, 16, 25, 202, 136, 7, 153, 77, 193, 239, 5, 135, 69, 9, 213, 66, 88, 44, 250, 247, 46, 125, 95, 15, 157, 112, 196, 142, 63, 231, 181, 221, 162, 40, 36, 42, 190, 98, 247, 234, 137, 126, 115, 6, 251, 229, 207, 247, 94, 125, 230, 152, 143, 48, 45, 100, 46, 228, 172, 131, 254, 156, 196, 148, 197, 150, 132, 109, 213, 113, 149, 143, 197, 254, 201, 214, 213, 53, 130, 92, 204, 226, 31, 92, 184, 3, 198, 97, 149, 76, 233, 34, 131, 65, 1, 218, 62, 35, 67, 94, 249, 254, 115, 6, 118, 219, 146, 213, 114, 211, 108, 52, 195, 85, 137, 238, 109, 155, 18, 85, 62, 61, 86, 118, 38, 33, 104, 99, 41, 45, 213, 254, 105, 70, 64, 40, 173, 10, 125, 37, 207, 109, 102, 173, 77, 218, 4, 151, 63, 210, 168, 123, 156, 177, 118, 175, 185, 50, 144, 106, 145, 222, 213, 164, 75, 108, 176, 124, 205, 127, 189, 185, 168, 194, 102, 1, 133, 78, 34, 73, 112, 207, 0, 33, 21, 102, 172, 111, 195, 104, 108, 59, 28, 29, 143, 176, 129, 185, 16, 255, 200, 139, 75, 192, 84, 13, 228, 168, 230, 199, 105, 80, 139, 88, 185, 99, 0, 151, 135, 125, 165, 190, 141, 35, 165, 50, 10, 233, 7, 194, 166, 111, 13, 82, 19, 234, 133, 198, 167, 203, 171, 62, 105, 84, 6, 235, 206, 232, 190, 17, 55, 78, 79, 3, 186, 246, 121, 246, 152, 41, 219, 221, 50, 198, 19, 179, 164, 208, 121, 99, 32, 236, 3, 159, 22, 238, 213, 72, 145, 112, 178, 227, 183, 23, 95, 87, 170, 0, 93, 142, 86, 187, 89, 195, 131, 19, 171, 4, 2, 217, 96, 151, 231, 93, 197, 84, 45, 11, 114, 2, 130, 252, 228, 233, 5, 193, 142, 181, 248, 52, 90, 0, 171, 246, 158, 233, 254, 63, 207, 154, 163, 92, 237, 22, 18, 80, 17, 232, 195, 2, 250, 86, 112, 223, 51, 7, 200, 99, 242, 106, 251, 131, 82, 53, 0, 46, 193, 2, 148, 29, 155, 245, 194, 156, 105, 177, 178, 218, 157, 138, 235, 219, 168, 106, 237, 125, 240, 50, 11, 60, 200, 38, 124, 207, 80, 89, 120, 235, 177, 112, 195, 234, 139, 154, 207, 54, 87, 23, 208, 25, 91, 2, 249, 38, 226, 228, 162, 37, 75, 73, 126, 180, 116, 52, 55, 31, 176, 200, 154, 229, 57, 130, 115, 159, 75, 70, 186, 42, 83, 180, 0, 148, 18, 221, 226, 83, 174, 193, 95, 132, 26, 125, 213, 149, 243, 89, 251, 73, 84, 143, 18, 131, 110, 207, 86, 8, 10, 242, 236, 56, 132, 188, 88, 157, 248, 135, 234, 90, 245, 28, 20, 66, 41, 127, 156, 63, 236, 218, 18, 255, 216, 215, 226, 204, 85, 89, 73, 179, 140, 246, 41, 188, 246, 5, 113, 138, 216, 172, 111, 41, 39, 173, 213, 202, 168, 91, 171, 104, 79, 53, 85, 168, 124, 149, 51, 143, 18, 146, 101, 40, 0, 243, 122, 154, 84, 11, 240, 181, 74, 33, 231, 163, 180, 69, 35, 14, 232, 130, 158, 12, 199, 2, 183, 147, 141, 188, 33, 215, 104, 8, 252, 126, 163, 61, 123, 250, 124, 95, 45, 108, 171, 26, 223, 60, 85, 85, 90, 31, 58, 228, 14, 236, 164, 240, 83, 229, 196, 129, 37, 89, 134, 120, 68, 232, 189, 51, 47, 8, 91, 108, 255, 34, 204, 44, 35, 109, 167, 66, 173]\n"
     ]
    }
   ],
   "source": [
    "import random\n",
    "input_data=[]\n",
    "\n",
    "for i in range(1000):\n",
    "    input_data.append(random.randint(0, 255))\n",
    "    \n",
    "print(input_data)\n"
   ]
  },
  {
   "cell_type": "code",
   "execution_count": 22,
   "metadata": {},
   "outputs": [
    {
     "name": "stdout",
     "output_type": "stream",
     "text": [
      "✔️ OK to continue!\n"
     ]
    }
   ],
   "source": [
    "#Simple test vectors - if you get the check-mark printed all OK.\n",
    "assert(len(input_data) == 1000)\n",
    "assert(max(input_data) == 0xFF) #Possibly not true for random variables (re-run if you get an error)\n",
    "assert(min(input_data) == 0x00) #Possibly not true for random variables (re-run if you get an error)\n",
    "print(\"✔️ OK to continue!\")"
   ]
  },
  {
   "cell_type": "markdown",
   "metadata": {},
   "source": [
    "Now, feed all those inputs through the `aes_secret` function. Because this is a secret function we are only going to observe a single bit of output (the 'leakage'). The following will perform the encryptions and mask off all but the lowest bit for you, and build a new array called `leaked_data` which contains just the 1 or 0 status of the lowest bit.\n",
    "\n",
    "### 2.2 Definition of `leaked_data`"
   ]
  },
  {
   "cell_type": "code",
   "execution_count": 23,
   "metadata": {},
   "outputs": [],
   "source": [
    "def leaked_data_1(input_data,bit):\n",
    "    output_data=[aes_secret(a) for a in input_data]\n",
    "    leaked_data=[]\n",
    "    for i in output_data:\n",
    "        if i&bit == bit:\n",
    "            res=1\n",
    "        else:\n",
    "            res=0\n",
    "      \n",
    "        leaked_data.append(res)\n",
    "    return leaked_data"
   ]
  },
  {
   "cell_type": "markdown",
   "metadata": {},
   "source": [
    "If you run the following too cells, it will then print some of the data so you can see the sequence of 1 and 0."
   ]
  },
  {
   "cell_type": "code",
   "execution_count": 24,
   "metadata": {},
   "outputs": [
    {
     "name": "stdout",
     "output_type": "stream",
     "text": [
      "[0, 0, 1, 0, 1, 0, 1, 0, 0, 1, 0, 1, 1, 0, 1, 0, 0, 0, 1, 1, 1, 0, 0, 0, 1, 0, 0, 1, 1, 1, 1, 0, 0, 1, 0, 1, 1, 1, 0, 0, 1, 1, 1, 1, 0, 0, 0, 0, 1, 0, 0, 1, 1, 0, 1, 0, 1, 0, 0, 0, 1, 0, 1, 1, 0, 1, 1, 0, 1, 0, 1, 0, 0, 0, 0, 0, 1, 1, 1, 1, 0, 1, 0, 1, 1, 1, 0, 0, 1, 1, 1, 0, 1, 1, 0, 0, 1, 1, 0, 1, 1, 0, 1, 0, 1, 0, 1, 0, 0, 1, 1, 1, 0, 0, 0, 0, 0, 0, 1, 1, 1, 0, 0, 0, 1, 0, 0, 0, 0, 1, 0, 1, 0, 0, 0, 0, 0, 0, 0, 1, 0, 0, 0, 1, 0, 0, 1, 1, 0, 1, 0, 0, 1, 0, 1, 0, 0, 1, 0, 1, 0, 0, 0, 1, 0, 0, 1, 0, 1, 1, 0, 0, 1, 0, 1, 0, 0, 1, 0, 0, 1, 0, 1, 0, 1, 1, 0, 0, 1, 1, 0, 1, 0, 1, 0, 1, 0, 1, 0, 1, 0, 1, 0, 1, 1, 0, 1, 0, 0, 0, 1, 0, 1, 0, 0, 1, 0, 1, 0, 0, 1, 0, 0, 0, 1, 1, 1, 1, 1, 0, 0, 1, 1, 0, 0, 1, 0, 1, 0, 1, 0, 1, 0, 1, 0, 1, 0, 0, 1, 1, 0, 0, 1, 0, 1, 0, 0, 1, 0, 1, 1, 1, 0, 1, 0, 0, 0, 0, 1, 0, 1, 1, 0, 1, 1, 1, 1, 0, 0, 1, 0, 1, 1, 0, 1, 1, 0, 1, 1, 0, 1, 0, 1, 1, 0, 1, 0, 1, 1, 0, 0, 0, 0, 1, 1, 1, 0, 1, 0, 1, 0, 0, 0, 0, 0, 1, 1, 1, 1, 0, 0, 1, 0, 1, 0, 0, 1, 0, 1, 1, 1, 0, 1, 1, 1, 0, 0, 1, 0, 1, 0, 1, 1, 0, 1, 0, 1, 1, 0, 0, 0, 1, 0, 0, 1, 0, 0, 0, 1, 1, 0, 1, 1, 0, 0, 0, 0, 1, 0, 1, 0, 0, 0, 1, 1, 1, 0, 0, 0, 1, 0, 1, 1, 1, 1, 0, 1, 0, 0, 1, 1, 1, 0, 1, 1, 0, 0, 1, 1, 0, 1, 1, 0, 0, 1, 1, 1, 0, 0, 1, 1, 1, 1, 0, 0, 0, 1, 1, 0, 1, 1, 0, 1, 1, 1, 0, 1, 1, 1, 0, 0, 0, 1, 1, 0, 1, 0, 1, 1, 1, 1, 1, 1, 0, 0, 0, 1, 1, 1, 0, 1, 1, 1, 0, 0, 1, 1, 0, 1, 0, 0, 0, 1, 1, 1, 1, 0, 1, 1, 0, 1, 0, 0, 1, 0, 1, 0, 0, 1, 0, 1, 0, 1, 0, 1, 1, 0, 1, 1, 0, 0, 1, 1, 0, 0, 0, 0, 0, 1, 1, 0, 1, 0, 0, 0, 0, 0, 1, 0, 0, 1, 0, 1, 1, 0, 1, 0, 1, 0, 0, 0, 0, 1, 0, 0, 1, 1, 1, 0, 0, 1, 0, 0, 0, 1, 1, 0, 0, 1, 1, 0, 1, 1, 1, 0, 0, 0, 1, 0, 0, 1, 0, 0, 1, 0, 0, 1, 1, 1, 0, 1, 1, 1, 0, 1, 1, 0, 1, 0, 1, 0, 0, 1, 0, 0, 1, 0, 0, 0, 1, 0, 1, 1, 1, 1, 1, 1, 0, 1, 1, 1, 0, 0, 1, 1, 0, 1, 1, 1, 0, 0, 0, 1, 1, 1, 0, 0, 1, 0, 1, 0, 0, 0, 1, 1, 1, 0, 1, 0, 1, 1, 0, 1, 0, 1, 0, 1, 1, 1, 1, 0, 1, 1, 0, 0, 0, 1, 0, 1, 0, 0, 1, 0, 0, 0, 0, 0, 1, 1, 1, 1, 1, 0, 0, 0, 0, 0, 0, 0, 1, 0, 0, 1, 1, 1, 0, 0, 1, 1, 0, 0, 0, 1, 0, 1, 1, 0, 0, 0, 1, 1, 0, 0, 0, 1, 1, 0, 0, 1, 1, 1, 0, 0, 0, 1, 0, 0, 1, 1, 1, 1, 1, 0, 0, 1, 1, 0, 1, 1, 0, 1, 0, 1, 1, 1, 1, 1, 1, 0, 0, 1, 1, 1, 1, 0, 1, 1, 0, 0, 1, 1, 1, 1, 1, 1, 0, 0, 1, 1, 1, 1, 1, 0, 1, 0, 0, 1, 0, 0, 0, 1, 0, 0, 0, 1, 1, 0, 1, 1, 1, 1, 0, 0, 0, 1, 0, 0, 0, 0, 0, 1, 0, 0, 0, 1, 1, 1, 0, 1, 1, 0, 0, 1, 0, 1, 0, 0, 0, 0, 0, 1, 1, 1, 1, 1, 1, 1, 0, 1, 1, 0, 1, 1, 1, 1, 1, 1, 1, 0, 1, 0, 1, 1, 0, 1, 1, 0, 1, 0, 1, 1, 0, 0, 0, 1, 1, 1, 0, 0, 1, 1, 1, 1, 0, 1, 1, 1, 1, 1, 1, 1, 0, 1, 0, 0, 0, 0, 0, 0, 0, 0, 0, 0, 0, 1, 0, 0, 1, 0, 1, 0, 1, 1, 1, 0, 0, 1, 1, 1, 0, 1, 1, 1, 0, 0, 1, 0, 1, 0, 0, 0, 0, 1, 1, 0, 0, 0, 0, 0, 1, 0, 0, 1, 0, 1, 1, 1, 0, 0, 1, 0, 0, 0, 0, 1, 0, 1, 1, 1, 0, 1, 0, 0, 0, 0, 0, 0, 0, 1, 0, 0, 1, 0, 0, 1, 0, 1, 0, 0, 0, 1, 0, 1, 1, 0, 1, 0, 1, 0, 1, 1, 0, 1, 0, 0, 0, 1, 1, 1, 1, 0, 1, 1, 1, 1, 0, 1, 0, 1, 1, 0, 1, 0, 0, 0, 0, 0, 1, 0, 1, 1, 0, 1, 1, 0, 1, 1, 1, 1, 0, 0, 1, 0, 0, 1, 0, 0, 0, 0, 1, 0, 0, 1, 0, 0, 1, 1, 0, 1, 0]\n"
     ]
    },
    {
     "data": {
      "text/plain": [
       "502"
      ]
     },
     "execution_count": 24,
     "metadata": {},
     "output_type": "execute_result"
    }
   ],
   "source": [
    "leaked_data=leaked_data_1(input_data,0x01)\n",
    "print(leaked_data)\n",
    "leaked_data.count(0)"
   ]
  },
  {
   "cell_type": "markdown",
   "metadata": {},
   "source": [
    "You can also plot for example the patterns of 1's and 0's - this gets pretty squashed, so let's just look at a few hundred transitions:"
   ]
  },
  {
   "cell_type": "code",
   "execution_count": 25,
   "metadata": {},
   "outputs": [
    {
     "name": "stderr",
     "output_type": "stream",
     "text": [
      "No artists with labels found to put in legend.  Note that artists whose label start with an underscore are ignored when legend() is called with no argument.\n"
     ]
    },
    {
     "data": {
      "image/png": "[encoded data removed]",
      "text/plain": [
       "<Figure size 432x288 with 1 Axes>"
      ]
     },
     "metadata": {
      "needs_background": "light"
     },
     "output_type": "display_data"
    }
   ],
   "source": [
    "import matplotlib.pylab as plt\n",
    "plt.plot(leaked_data[0:200])\n",
    "\n",
    "plt.title(\"Leaked Bits-Sequence of 0/1\")     \n",
    "plt.xlabel(\"Output Data index\")  # adds x-axis label\n",
    "plt.ylabel(\"0/1\")# adds y-axis label\n",
    "plt.legend()\n",
    "\n",
    "plt.savefig(\"../Figures/plot_leaked_data.pdf\")\n",
    "plt.show()"
   ]
  },
  {
   "cell_type": "markdown",
   "metadata": {},
   "source": [
    "Do you think we'll be able to get something useful out of this? Let's attack it to find out."
   ]
  },
  {
   "cell_type": "markdown",
   "metadata": {},
   "source": [
    "## 3. AES Guesser"
   ]
  },
  {
   "cell_type": "markdown",
   "metadata": {},
   "source": [
    "The attack is pretty simple. Let's just use our model of the device (we know what the encryption does after all, just not the secret key). And we'll feed in the observed data for each possible value of the key. And then we can observe how many (if any) of the keys result in the observation and simulation matching each other. If the observation and simulation match, this suggets our simulation is running in the same \"setup\" as the implementation we are attacking!\n",
    "\n",
    "First, build a function to count the number of elements in a list that match between two lists (that is - same value of the element at the same list index). An easy way is to just iterate through the number of elements in the list and count the number that are the same. Fill in the following - there is already some bounds checking code to get you started.\n",
    "\n",
    "### 3.1 `num_same()`"
   ]
  },
  {
   "cell_type": "code",
   "execution_count": 26,
   "metadata": {},
   "outputs": [],
   "source": [
    "def num_same(a, b):\n",
    "    same=0\n",
    "    \n",
    "    if len(a) != len(b):\n",
    "        raise ValueError(\"Arrays must be same length!\")\n",
    "\n",
    "    if max(a) != max(b):\n",
    "        raise ValueError(\"Arrays max() should be the same!\")\n",
    "    \n",
    "    #Count how many list items match up\n",
    "    for i,j in zip(a,b):\n",
    "        if i==j:\n",
    "            same+=1\n",
    "            \n",
    "    \n",
    "    return same"
   ]
  },
  {
   "cell_type": "code",
   "execution_count": 27,
   "metadata": {},
   "outputs": [
    {
     "name": "stdout",
     "output_type": "stream",
     "text": [
      "✔️ OK to continue!\n"
     ]
    }
   ],
   "source": [
    "#Simple test vectors - if you get the check-mark printed all OK.\n",
    "assert(num_same([0,1,0,1,1,1,1,0], [0,1,0,1,1,1,1,0]) == 8)\n",
    "assert(num_same([1,1,1,0,0,0,0,0], [0,1,0,1,1,1,1,0]) == 2)\n",
    "assert(num_same([1, 0], [0, 1]) == 0)\n",
    "print(\"✔️ OK to continue!\")"
   ]
  },
  {
   "cell_type": "markdown",
   "metadata": {},
   "source": [
    "The next block is the most important. You'll need to \"apply\" the leakage function - that is for each known input byte, pass it through the `aes_internal(input_data, key_guess)` function. The value of `key_guess` is just integers in `[0x00, 0x01,...,0xFF]` - aka every possible value of the key byte. We'll compare the number of matching bits between our observed (leaked) data bit and the hypothetical data bit.\n",
    "\n",
    "### 3.2 Guessing Loop"
   ]
  },
  {
   "cell_type": "code",
   "execution_count": 28,
   "metadata": {},
   "outputs": [
    {
     "name": "stdout",
     "output_type": "stream",
     "text": [
      "Guess 00:  492 bits same\n",
      "Guess 01:  435 bits same\n",
      "Guess 02:  472 bits same\n",
      "Guess 03:  527 bits same\n",
      "Guess 04:  471 bits same\n",
      "Guess 05:  463 bits same\n",
      "Guess 06:  510 bits same\n",
      "Guess 07:  485 bits same\n",
      "Guess 08:  495 bits same\n",
      "Guess 09:  510 bits same\n",
      "Guess 0A:  507 bits same\n",
      "Guess 0B:  523 bits same\n",
      "Guess 0C:  548 bits same\n",
      "Guess 0D:  512 bits same\n",
      "Guess 0E:  556 bits same\n",
      "Guess 0F:  519 bits same\n",
      "Guess 10:  508 bits same\n",
      "Guess 11:  533 bits same\n",
      "Guess 12:  455 bits same\n",
      "Guess 13:  498 bits same\n",
      "Guess 14:  514 bits same\n",
      "Guess 15:  486 bits same\n",
      "Guess 16:  532 bits same\n",
      "Guess 17:  544 bits same\n",
      "Guess 18:  498 bits same\n",
      "Guess 19:  466 bits same\n",
      "Guess 1A:  464 bits same\n",
      "Guess 1B:  523 bits same\n",
      "Guess 1C:  493 bits same\n",
      "Guess 1D:  447 bits same\n",
      "Guess 1E:  461 bits same\n",
      "Guess 1F:  509 bits same\n",
      "Guess 20:  506 bits same\n",
      "Guess 21:  519 bits same\n",
      "Guess 22:  467 bits same\n",
      "Guess 23:  462 bits same\n",
      "Guess 24:  527 bits same\n",
      "Guess 25:  462 bits same\n",
      "Guess 26:  554 bits same\n",
      "Guess 27:  459 bits same\n",
      "Guess 28:  491 bits same\n",
      "Guess 29:  493 bits same\n",
      "Guess 2A:  512 bits same\n",
      "Guess 2B:  495 bits same\n",
      "Guess 2C:  473 bits same\n",
      "Guess 2D:  465 bits same\n",
      "Guess 2E:  535 bits same\n",
      "Guess 2F:  510 bits same\n",
      "Guess 30:  501 bits same\n",
      "Guess 31:  525 bits same\n",
      "Guess 32:  446 bits same\n",
      "Guess 33:  514 bits same\n",
      "Guess 34:  558 bits same\n",
      "Guess 35:  467 bits same\n",
      "Guess 36:  512 bits same\n",
      "Guess 37:  530 bits same\n",
      "Guess 38:  505 bits same\n",
      "Guess 39:  501 bits same\n",
      "Guess 3A:  457 bits same\n",
      "Guess 3B:  528 bits same\n",
      "Guess 3C:  481 bits same\n",
      "Guess 3D:  539 bits same\n",
      "Guess 3E:  479 bits same\n",
      "Guess 3F:  461 bits same\n",
      "Guess 40:  502 bits same\n",
      "Guess 41:  529 bits same\n",
      "Guess 42:  479 bits same\n",
      "Guess 43:  464 bits same\n",
      "Guess 44:  538 bits same\n",
      "Guess 45:  490 bits same\n",
      "Guess 46:  543 bits same\n",
      "Guess 47:  497 bits same\n",
      "Guess 48:  522 bits same\n",
      "Guess 49:  481 bits same\n",
      "Guess 4A:  507 bits same\n",
      "Guess 4B:  507 bits same\n",
      "Guess 4C:  499 bits same\n",
      "Guess 4D:  504 bits same\n",
      "Guess 4E:  482 bits same\n",
      "Guess 4F:  482 bits same\n",
      "Guess 50:  535 bits same\n",
      "Guess 51:  558 bits same\n",
      "Guess 52:  482 bits same\n",
      "Guess 53:  548 bits same\n",
      "Guess 54:  495 bits same\n",
      "Guess 55:  510 bits same\n",
      "Guess 56:  480 bits same\n",
      "Guess 57:  428 bits same\n",
      "Guess 58:  470 bits same\n",
      "Guess 59:  465 bits same\n",
      "Guess 5A:  446 bits same\n",
      "Guess 5B:  457 bits same\n",
      "Guess 5C:  508 bits same\n",
      "Guess 5D:  517 bits same\n",
      "Guess 5E:  458 bits same\n",
      "Guess 5F:  428 bits same\n",
      "Guess 60:  469 bits same\n",
      "Guess 61:  495 bits same\n",
      "Guess 62:  563 bits same\n",
      "Guess 63:  541 bits same\n",
      "Guess 64:  492 bits same\n",
      "Guess 65:  493 bits same\n",
      "Guess 66:  552 bits same\n",
      "Guess 67:  454 bits same\n",
      "Guess 68:  476 bits same\n",
      "Guess 69:  474 bits same\n",
      "Guess 6A:  499 bits same\n",
      "Guess 6B:  562 bits same\n",
      "Guess 6C:  539 bits same\n",
      "Guess 6D:  574 bits same\n",
      "Guess 6E:  490 bits same\n",
      "Guess 6F:  462 bits same\n",
      "Guess 70:  506 bits same\n",
      "Guess 71:  466 bits same\n",
      "Guess 72:  508 bits same\n",
      "Guess 73:  519 bits same\n",
      "Guess 74:  503 bits same\n",
      "Guess 75:  501 bits same\n",
      "Guess 76:  454 bits same\n",
      "Guess 77:  489 bits same\n",
      "Guess 78:  421 bits same\n",
      "Guess 79:  484 bits same\n",
      "Guess 7A:  534 bits same\n",
      "Guess 7B:  451 bits same\n",
      "Guess 7C:  422 bits same\n",
      "Guess 7D:  527 bits same\n",
      "Guess 7E:  472 bits same\n",
      "Guess 7F:  439 bits same\n",
      "Guess 80:  524 bits same\n",
      "Guess 81:  537 bits same\n",
      "Guess 82:  565 bits same\n",
      "Guess 83:  454 bits same\n",
      "Guess 84:  526 bits same\n",
      "Guess 85:  507 bits same\n",
      "Guess 86:  472 bits same\n",
      "Guess 87:  531 bits same\n",
      "Guess 88:  432 bits same\n",
      "Guess 89:  560 bits same\n",
      "Guess 8A:  554 bits same\n",
      "Guess 8B:  488 bits same\n",
      "Guess 8C:  445 bits same\n",
      "Guess 8D:  512 bits same\n",
      "Guess 8E:  523 bits same\n",
      "Guess 8F:  542 bits same\n",
      "Guess 90:  467 bits same\n",
      "Guess 91:  536 bits same\n",
      "Guess 92:  554 bits same\n",
      "Guess 93:  561 bits same\n",
      "Guess 94:  513 bits same\n",
      "Guess 95:  498 bits same\n",
      "Guess 96:  511 bits same\n",
      "Guess 97:  422 bits same\n",
      "Guess 98:  497 bits same\n",
      "Guess 99:  533 bits same\n",
      "Guess 9A:  512 bits same\n",
      "Guess 9B:  416 bits same\n",
      "Guess 9C:  468 bits same\n",
      "Guess 9D:  481 bits same\n",
      "Guess 9E:  478 bits same\n",
      "Guess 9F:  489 bits same\n",
      "Guess A0:  473 bits same\n",
      "Guess A1:  465 bits same\n",
      "Guess A2:  483 bits same\n",
      "Guess A3:  531 bits same\n",
      "Guess A4:  545 bits same\n",
      "Guess A5:  486 bits same\n",
      "Guess A6:  543 bits same\n",
      "Guess A7:  467 bits same\n",
      "Guess A8:  524 bits same\n",
      "Guess A9:  520 bits same\n",
      "Guess AA:  483 bits same\n",
      "Guess AB:  509 bits same\n",
      "Guess AC:  481 bits same\n",
      "Guess AD:  508 bits same\n",
      "Guess AE:  443 bits same\n",
      "Guess AF:  464 bits same\n",
      "Guess B0:  556 bits same\n",
      "Guess B1:  477 bits same\n",
      "Guess B2:  532 bits same\n",
      "Guess B3:  555 bits same\n",
      "Guess B4:  519 bits same\n",
      "Guess B5:  532 bits same\n",
      "Guess B6:  475 bits same\n",
      "Guess B7:  513 bits same\n",
      "Guess B8:  537 bits same\n",
      "Guess B9:  556 bits same\n",
      "Guess BA:  507 bits same\n",
      "Guess BB:  466 bits same\n",
      "Guess BC:  483 bits same\n",
      "Guess BD:  436 bits same\n",
      "Guess BE:  451 bits same\n",
      "Guess BF:  466 bits same\n",
      "Guess C0:  461 bits same\n",
      "Guess C1:  448 bits same\n",
      "Guess C2:  489 bits same\n",
      "Guess C3:  487 bits same\n",
      "Guess C4:  489 bits same\n",
      "Guess C5:  573 bits same\n",
      "Guess C6:  492 bits same\n",
      "Guess C7:  513 bits same\n",
      "Guess C8:  502 bits same\n",
      "Guess C9:  562 bits same\n",
      "Guess CA:  467 bits same\n",
      "Guess CB:  520 bits same\n",
      "Guess CC:  522 bits same\n",
      "Guess CD:  519 bits same\n",
      "Guess CE:  514 bits same\n",
      "Guess CF:  570 bits same\n",
      "Guess D0:  477 bits same\n",
      "Guess D1:  522 bits same\n",
      "Guess D2:  507 bits same\n",
      "Guess D3:  449 bits same\n",
      "Guess D4:  454 bits same\n",
      "Guess D5:  524 bits same\n",
      "Guess D6:  455 bits same\n",
      "Guess D7:  548 bits same\n",
      "Guess D8:  557 bits same\n",
      "Guess D9:  508 bits same\n",
      "Guess DA:  538 bits same\n",
      "Guess DB:  418 bits same\n",
      "Guess DC:  472 bits same\n",
      "Guess DD:  514 bits same\n",
      "Guess DE:  493 bits same\n",
      "Guess DF:  531 bits same\n",
      "Guess E0:  495 bits same\n",
      "Guess E1:  516 bits same\n",
      "Guess E2:  492 bits same\n",
      "Guess E3:  476 bits same\n",
      "Guess E4:  467 bits same\n",
      "Guess E5:  458 bits same\n",
      "Guess E6:  479 bits same\n",
      "Guess E7:  473 bits same\n",
      "Guess E8:  531 bits same\n",
      "Guess E9:  458 bits same\n",
      "Guess EA:  549 bits same\n",
      "Guess EB:  489 bits same\n",
      "Guess EC:  513 bits same\n",
      "Guess ED:  543 bits same\n",
      "Guess EE:  500 bits same\n",
      "Guess EF: 1000 bits same\n",
      "Guess F0:  496 bits same\n",
      "Guess F1:  457 bits same\n",
      "Guess F2:  486 bits same\n",
      "Guess F3:  466 bits same\n",
      "Guess F4:  491 bits same\n",
      "Guess F5:  469 bits same\n",
      "Guess F6:  484 bits same\n",
      "Guess F7:  544 bits same\n",
      "Guess F8:  489 bits same\n",
      "Guess F9:  548 bits same\n",
      "Guess FA:  465 bits same\n",
      "Guess FB:  483 bits same\n",
      "Guess FC:  500 bits same\n",
      "Guess FD:  444 bits same\n",
      "Guess FE:  484 bits same\n",
      "Guess FF:  534 bits same\n"
     ]
    }
   ],
   "source": [
    "for guess in range(0, 256):   \n",
    "    \n",
    "    #Get a hypothetical leakage list - use aes_internal(guess, input_byte) and mask off to only get value of lowest bit\n",
    "    hypothetical_leakage = [aes_internal(input_byte,guess) & 0x01 for input_byte in input_data]\n",
    "    \n",
    "    #Use our function\n",
    "    same_count = num_same(hypothetical_leakage, leaked_data) \n",
    "    if same_count==1000:\n",
    "        key_guess=guess\n",
    "    \n",
    "    #Print for debug\n",
    "    print(\"Guess {:02X}: {:4d} bits same\".format(guess, same_count))\n"
   ]
  },
  {
   "cell_type": "markdown",
   "metadata": {},
   "source": [
    "If your key guess is wrong, about half of the guesses should be wrong. Looking through the list, you'll see that most of the \"bits same\" numbers will be around 500. But scroll down to the correct key value (should be `0xEF` if you haven't changed it earlier). With any luck, that number should be fully correct - 1000 matching bits. This is only possible if the internal \"secret key\" byte matches the observed key."
   ]
  },
  {
   "cell_type": "markdown",
   "metadata": {},
   "source": [
    "### 3.3 `argsort` background\n",
    "\n",
    "Now a handy thing to do will be to sort based on the values by number of correct bits so we don't have to look through that list. An easy way to do this is with `numpy.argsort` - this returns the indicies that would sort the list. To start small, take the following for example:"
   ]
  },
  {
   "cell_type": "code",
   "execution_count": 29,
   "metadata": {},
   "outputs": [
    {
     "data": {
      "text/plain": [
       "array([0, 3, 4, 1, 2])"
      ]
     },
     "execution_count": 29,
     "metadata": {},
     "output_type": "execute_result"
    }
   ],
   "source": [
    "import numpy as np\n",
    "\n",
    "count_list = [2, 7, 24, 4, 5]\n",
    "\n",
    "np.argsort(count_list)"
   ]
  },
  {
   "cell_type": "markdown",
   "metadata": {},
   "source": [
    "This should return `[0, 3, 4, 1, 2]` - you can cast the above to `list()` type if you want to get rid of the `array()` type around it.\n",
    "\n",
    "Inspecting the above, notice that this is the position of each from lowest to highest. We can reverse this to give us a highest to lowest sort instead:"
   ]
  },
  {
   "cell_type": "code",
   "execution_count": 30,
   "metadata": {},
   "outputs": [
    {
     "data": {
      "text/plain": [
       "array([2, 1, 4, 3, 0])"
      ]
     },
     "execution_count": 30,
     "metadata": {},
     "output_type": "execute_result"
    }
   ],
   "source": [
    "import numpy as np\n",
    "\n",
    "count_list = [2, 7, 24, 4, 5]\n",
    "\n",
    "np.argsort(count_list)[::-1]"
   ]
  },
  {
   "cell_type": "markdown",
   "metadata": {},
   "source": [
    "Taking your previous code, simply make a new list which contains the number of elements which are the same, where the list index is the *key guess*. As a rough outline, see the following (you'll need to add back in your hypothetical code):\n",
    "\n",
    "### 3.4 Guessing loop with sort"
   ]
  },
  {
   "cell_type": "code",
   "execution_count": 31,
   "metadata": {},
   "outputs": [
    {
     "name": "stdout",
     "output_type": "stream",
     "text": [
      "Key Guess EF = 1000 matches\n",
      "Key Guess 6D = 0574 matches\n",
      "Key Guess C5 = 0573 matches\n",
      "Key Guess CF = 0570 matches\n",
      "Key Guess 82 = 0565 matches\n"
     ]
    }
   ],
   "source": [
    "import numpy as np\n",
    "\n",
    "guess_list = [0] * 256\n",
    "\n",
    "for guess in range(0, 256):   \n",
    "    \n",
    "    #Get a hypothetical leakage list - use aes_internal(guess, input_byte) and mask off to only get value of lowest bit\n",
    "    hypothetical_leakage = [aes_internal(input_byte,guess) & 0x01 for input_byte in input_data]\n",
    "   \n",
    "    #Use our function\n",
    "    same_count = num_same(hypothetical_leakage, leaked_data)   \n",
    "    \n",
    "    #Track the number of correct bits\n",
    "    guess_list[guess] = same_count\n",
    "\n",
    "#Use np.argsort to generate a list of indicies from low to high, then [::-1] to reverse the list to get high to low.\n",
    "sorted_list = list(np.argsort(guess_list))[::-1]\n",
    "\n",
    "#Print top 5 only\n",
    "for guess in sorted_list[0:5]:\n",
    "        print(\"Key Guess {:02X} = {:04d} matches\".format(guess, guess_list[guess]))"
   ]
  },
  {
   "cell_type": "markdown",
   "metadata": {},
   "source": [
    "In this case we know that bit '0' was the leakage. What if we didn't know that? Imagine putting our needle down onto the internal bus, but we aren't sure what bit we touched.\n",
    "\n",
    "Luckily we can easily test that. To do so, we'll need to adjust our leakage function to take in a bit number that is leaking. First, define a function which returns the value of a bit being 1 or 0:\n",
    "\n",
    "### 3.5 `get_bit()`"
   ]
  },
  {
   "cell_type": "code",
   "execution_count": 32,
   "metadata": {},
   "outputs": [],
   "source": [
    "def get_bit(data, bit):\n",
    "    return (data >> bit) & 1"
   ]
  },
  {
   "cell_type": "code",
   "execution_count": 33,
   "metadata": {},
   "outputs": [
    {
     "name": "stdout",
     "output_type": "stream",
     "text": [
      "✔️ OK to continue!\n"
     ]
    }
   ],
   "source": [
    "assert(get_bit(0xAA, 7) == 1)\n",
    "assert(get_bit(0xAA, 0) == 0)\n",
    "assert(get_bit(0x00, 7) == 0)\n",
    "print(\"✔️ OK to continue!\")"
   ]
  },
  {
   "cell_type": "markdown",
   "metadata": {},
   "source": [
    "Now let's make a slightly fancier leakage function with it:"
   ]
  },
  {
   "cell_type": "code",
   "execution_count": 34,
   "metadata": {},
   "outputs": [],
   "source": [
    "def aes_leakage_guess(keyguess, inputdata, bit):\n",
    "    return get_bit(aes_internal(inputdata,keyguess), bit)"
   ]
  },
  {
   "cell_type": "code",
   "execution_count": 35,
   "metadata": {},
   "outputs": [],
   "source": [
    "def aes_leakage_guess_1(keyguess, inputdata, bit):\n",
    "    print(get_bit(aes_internal(inputdata,keyguess), bit))"
   ]
  },
  {
   "cell_type": "code",
   "execution_count": 36,
   "metadata": {},
   "outputs": [
    {
     "name": "stdout",
     "output_type": "stream",
     "text": [
      "✔️ OK to continue!\n"
     ]
    }
   ],
   "source": [
    "assert(aes_leakage_guess(0xAB, 0x22, 4) == 0)\n",
    "assert(aes_leakage_guess(0xAB, 0x22, 3) == 0)\n",
    "assert(aes_leakage_guess(0xAB, 0x22, 2) == 1)\n",
    "assert(aes_leakage_guess(0xAB, 0x22, 1) == 1)\n",
    "assert(aes_leakage_guess(0xAB, 0x22, 0) == 1)\n",
    "print(\"✔️ OK to continue!\")"
   ]
  },
  {
   "cell_type": "markdown",
   "metadata": {},
   "source": [
    "Finally, finish off this loop by adding your leakage function into it. Running the loop should print results for each bit option - hopefully you see that only the matching bit shows the full number of matches. If you want to try a different leaky bit, you'll then need to go back up to the actual secret observation to make the leak happen from a different bit. But you can see the following code makes no assumptions about 'bit 0' being the leaky one - it will work with any other bit leaking now.\n",
    "\n",
    "### 3.6 Bitwise Guessing Loop"
   ]
  },
  {
   "cell_type": "code",
   "execution_count": 37,
   "metadata": {},
   "outputs": [
    {
     "name": "stdout",
     "output_type": "stream",
     "text": [
      "Checking bit 0\n",
      "Key Guess EF = 1000 matches\n",
      "Key Guess 6D = 0574 matches\n",
      "Key Guess C5 = 0573 matches\n",
      "Key Guess CF = 0570 matches\n",
      "Key Guess 82 = 0565 matches\n",
      "Checking bit 1\n",
      "Key Guess EF = 1000 matches\n",
      "Key Guess 52 = 0579 matches\n",
      "Key Guess D6 = 0577 matches\n",
      "Key Guess A7 = 0576 matches\n",
      "Key Guess 48 = 0571 matches\n",
      "Checking bit 2\n",
      "Key Guess EF = 1000 matches\n",
      "Key Guess EA = 0576 matches\n",
      "Key Guess 9B = 0574 matches\n",
      "Key Guess 40 = 0567 matches\n",
      "Key Guess 85 = 0565 matches\n",
      "Checking bit 3\n",
      "Key Guess EF = 1000 matches\n",
      "Key Guess CB = 0575 matches\n",
      "Key Guess 05 = 0573 matches\n",
      "Key Guess BF = 0571 matches\n",
      "Key Guess 13 = 0571 matches\n",
      "Checking bit 4\n",
      "Key Guess EF = 1000 matches\n",
      "Key Guess 8D = 0585 matches\n",
      "Key Guess FE = 0584 matches\n",
      "Key Guess D8 = 0580 matches\n",
      "Key Guess 0B = 0570 matches\n",
      "Checking bit 5\n",
      "Key Guess EF = 1000 matches\n",
      "Key Guess 46 = 0585 matches\n",
      "Key Guess 84 = 0581 matches\n",
      "Key Guess CB = 0577 matches\n",
      "Key Guess 6C = 0574 matches\n",
      "Checking bit 6\n",
      "Key Guess EF = 1000 matches\n",
      "Key Guess 0E = 0575 matches\n",
      "Key Guess E4 = 0573 matches\n",
      "Key Guess E2 = 0572 matches\n",
      "Key Guess 70 = 0572 matches\n",
      "Checking bit 7\n",
      "Key Guess EF = 1000 matches\n",
      "Key Guess B1 = 0579 matches\n",
      "Key Guess 12 = 0576 matches\n",
      "Key Guess E9 = 0573 matches\n",
      "Key Guess 08 = 0572 matches\n"
     ]
    }
   ],
   "source": [
    "for bit_guess in range(0, 8):\n",
    "    guess_list = [0] * 256\n",
    "    print(\"Checking bit {:d}\".format(bit_guess))\n",
    "    for guess in range(0, 256):\n",
    "\n",
    "        #Get a hypothetical leakage for guessed bit (ensure returns 1/0 only)\n",
    "        #Use bit_guess as the bit number, guess as the key guess, and data from input_data\n",
    "        hypothetical_leakage=[(aes_leakage_guess(input_byte, guess, bit_guess) & 0x01) for input_byte in input_data]\n",
    "        leaked_data=leaked_data_1(input_data,int(hex(2**bit_guess),16))\n",
    "        #Use our function\n",
    "        same_count = num_same(hypothetical_leakage, leaked_data)   \n",
    "\n",
    "        #Track the number of correct bits\n",
    "        guess_list[guess] = same_count\n",
    "\n",
    "    sorted_list = np.argsort(guess_list)[::-1]\n",
    "\n",
    "    #Print top 5 only\n",
    "    for guess in sorted_list[0:5]:\n",
    "            print(\"Key Guess {:02X} = {:04d} matches\".format(guess, guess_list[guess]))"
   ]
  },
  {
   "cell_type": "markdown",
   "metadata": {},
   "source": [
    "🥳🥳🥳🥳🥳🥳🥳🥳🥳🥳🥳🥳🥳\n",
    "Congrats - you did it!!!!\n",
    "\n",
    "This all assumed you get some way to observe the value of the bit - in our next act, we'll see how power analysis gives us the ability to observe a given bit."
   ]
  },
  {
   "cell_type": "markdown",
   "metadata": {},
   "source": [
    "---\n",
    "<small>NO-FUN DISCLAIMER: This material is Copyright (C) NewAE Technology Inc., 2015-2020. ChipWhisperer is a trademark of NewAE Technology Inc., claimed in all jurisdictions, and registered in at least the United States of America, European Union, and Peoples Republic of China.\n",
    "\n",
    "Tutorials derived from our open-source work must be released under the associated open-source license, and notice of the source must be *clearly displayed*. Only original copyright holders may license or authorize other distribution - while NewAE Technology Inc. holds the copyright for many tutorials, the github repository includes community contributions which we cannot license under special terms and **must** be maintained as an open-source release. Please contact us for special permissions (where possible).\n",
    "\n",
    "THE SOFTWARE IS PROVIDED \"AS IS\", WITHOUT WARRANTY OF ANY KIND, EXPRESS OR IMPLIED, INCLUDING BUT NOT LIMITED TO THE WARRANTIES OF MERCHANTABILITY, FITNESS FOR A PARTICULAR PURPOSE AND NONINFRINGEMENT. IN NO EVENT SHALL THE AUTHORS OR COPYRIGHT HOLDERS BE LIABLE FOR ANY CLAIM, DAMAGES OR OTHER LIABILITY, WHETHER IN AN ACTION OF CONTRACT, TORT OR OTHERWISE, ARISING FROM, OUT OF OR IN CONNECTION WITH THE SOFTWARE OR THE USE OR OTHER DEALINGS IN THE SOFTWARE.</small>"
   ]
  }
 ],
 "metadata": {
  "kernelspec": {
   "display_name": "Python 3 (ipykernel)",
   "language": "python",
   "name": "python3"
  },
  "language_info": {
   "codemirror_mode": {
    "name": "ipython",
    "version": 3
   },
   "file_extension": ".py",
   "mimetype": "text/x-python",
   "name": "python",
   "nbconvert_exporter": "python",
   "pygments_lexer": "ipython3",
   "version": "3.9.5"
  },
  "toc": {
   "base_numbering": 1,
   "nav_menu": {},
   "number_sections": true,
   "sideBar": true,
   "skip_h1_title": false,
   "title_cell": "Table of Contents",
   "title_sidebar": "Contents",
   "toc_cell": false,
   "toc_position": {},
   "toc_section_display": true,
   "toc_window_display": false
  }
 },
 "nbformat": 4,
 "nbformat_minor": 2
}
