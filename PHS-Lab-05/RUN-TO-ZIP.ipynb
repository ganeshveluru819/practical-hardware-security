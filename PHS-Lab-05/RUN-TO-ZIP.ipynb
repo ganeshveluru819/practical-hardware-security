{
 "cells": [
  {
   "cell_type": "markdown",
   "id": "27249bb5",
   "metadata": {},
   "source": [
    "# ZIP or Compress file\n",
    "\n",
    "Run this code to zip (compress) all your files from this directory. The zip file name will be the same as the current directory"
   ]
  },
  {
   "cell_type": "code",
   "execution_count": 4,
   "id": "b8e451d7",
   "metadata": {
    "code_folding": []
   },
   "outputs": [
    {
     "name": "stdout",
     "output_type": "stream",
     "text": [
      "updating: Figures/ (stored 0%)\n",
      "updating: Firmware/ (stored 0%)\n",
      "updating: Firmware/training.c (deflated 66%)\n",
      "updating: Firmware/attack-CWNANO.hex (deflated 60%)\n",
      "updating: Firmware/makefile (deflated 57%)\n",
      "updating: Python/ (stored 0%)\n",
      "updating: Python/Lab-05-SCA-Timing-Attack.ipynb (deflated 34%)\n",
      "updating: RUN-TO-ZIP.ipynb (deflated 70%)\n",
      "updating: Figures/one_two_crctletters.pdf (deflated 19%)\n",
      "updating: Figures/multiple_trace.pdf (deflated 11%)\n",
      "updating: Figures/.ipynb_checkpoints/ (stored 0%)\n",
      "updating: Figures/attack_cmd_a.pdf (deflated 9%)\n",
      "updating: Figures/test1.pdf (deflated 8%)\n",
      "updating: Figures/train_cmd_c.pdf (deflated 7%)\n",
      "updating: Figures/three_four_crctletters.pdf (deflated 19%)\n",
      "updating: Figures/attack_cmd_b.pdf (deflated 9%)\n",
      "updating: Figures/pc1.png (deflated 3%)\n",
      "updating: Figures/pc1.pdf (deflated 14%)\n",
      "updating: Figures/train_cmd_a.pdf (deflated 13%)\n",
      "updating: Figures/diff_trace_plot_2.pdf (deflated 22%)\n",
      "updating: Figures/diff_trace_plot_1.pdf (deflated 22%)\n",
      "updating: Figures/attack_cmd_a (deflated 8%)\n",
      "updating: Figures/diff_trace_plot.pdf (deflated 21%)\n",
      "updating: Figures/train_cmd_b.pdf (deflated 14%)\n",
      "updating: Firmware/training-CWNANO.hex (deflated 60%)\n",
      "updating: Firmware/.dep/ (stored 0%)\n",
      "updating: Firmware/.dep/simpleserial.o.d (deflated 72%)\n",
      "updating: Firmware/.dep/stm32f0_hal_lowlevel.o.d (deflated 88%)\n",
      "updating: Firmware/.dep/stm32f0_hal_nano.o.d (deflated 88%)\n",
      "updating: Firmware/.dep/training.o.d (deflated 64%)\n",
      "updating: Python/.ipynb_checkpoints/ (stored 0%)\n",
      "updating: Python/.ipynb_checkpoints/Lab-05-SCA-Timing-Attack-checkpoint.ipynb (deflated 34%)\n"
     ]
    }
   ],
   "source": [
    "#\n",
    "#RUN THIS CELL TO ZIP ALL YOUR FILES FROM THIS DIRECTORY\n",
    "!f=\"$(basename $PWD).zip\" && zip -r $f * -x $f"
   ]
  },
  {
   "cell_type": "markdown",
   "id": "b4ae6ae9",
   "metadata": {
    "heading_collapsed": true
   },
   "source": [
    "# UNZIP or Decompress file\n",
    "\n",
    "Run this code to unzip (decompress) your zip file. The zip file must have the same name as the current directory."
   ]
  },
  {
   "cell_type": "code",
   "execution_count": null,
   "id": "3930d5bb",
   "metadata": {
    "hidden": true
   },
   "outputs": [],
   "source": [
    "#Run this to unzip (decompress) your file\n",
    "!f=\"$(basename $PWD).zip\" && unzip -o $f"
   ]
  },
  {
   "cell_type": "code",
   "execution_count": null,
   "id": "010fa5ca",
   "metadata": {
    "hidden": true
   },
   "outputs": [],
   "source": []
  }
 ],
 "metadata": {
  "kernelspec": {
   "display_name": "Python 3 (ipykernel)",
   "language": "python",
   "name": "python3"
  },
  "language_info": {
   "codemirror_mode": {
    "name": "ipython",
    "version": 3
   },
   "file_extension": ".py",
   "mimetype": "text/x-python",
   "name": "python",
   "nbconvert_exporter": "python",
   "pygments_lexer": "ipython3",
   "version": "3.9.5"
  },
  "toc": {
   "base_numbering": 1,
   "nav_menu": {},
   "number_sections": true,
   "sideBar": true,
   "skip_h1_title": false,
   "title_cell": "Table of Contents",
   "title_sidebar": "Contents",
   "toc_cell": false,
   "toc_position": {},
   "toc_section_display": true,
   "toc_window_display": false
  },
  "varInspector": {
   "cols": {
    "lenName": 16,
    "lenType": 16,
    "lenVar": 40
   },
   "kernels_config": {
    "python": {
     "delete_cmd_postfix": "",
     "delete_cmd_prefix": "del ",
     "library": "var_list.py",
     "varRefreshCmd": "print(var_dic_list())"
    },
    "r": {
     "delete_cmd_postfix": ") ",
     "delete_cmd_prefix": "rm(",
     "library": "var_list.r",
     "varRefreshCmd": "cat(var_dic_list()) "
    }
   },
   "types_to_exclude": [
    "module",
    "function",
    "builtin_function_or_method",
    "instance",
    "_Feature"
   ],
   "window_display": false
  }
 },
 "nbformat": 4,
 "nbformat_minor": 5
}
