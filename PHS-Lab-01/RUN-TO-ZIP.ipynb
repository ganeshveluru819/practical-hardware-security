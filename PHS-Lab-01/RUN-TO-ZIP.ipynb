{
 "cells": [
  {
   "cell_type": "markdown",
   "id": "27249bb5",
   "metadata": {},
   "source": [
    "# ZIP or Compress file\n",
    "\n",
    "Run this code to zip (compress) all your files from this directory. The zip file name will be the same as the current directory"
   ]
  },
  {
   "cell_type": "code",
   "execution_count": 8,
   "id": "b8e451d7",
   "metadata": {
    "code_folding": []
   },
   "outputs": [
    {
     "name": "stdout",
     "output_type": "stream",
     "text": [
      "updating: Challenges/ (stored 0%)\n",
      "updating: Challenges/challenges_05k.npz (deflated 1%)\n",
      "updating: Challenges/challenges_50k.npz (deflated 1%)\n",
      "updating: Challenges/challenges_10k.npz (deflated 1%)\n",
      "updating: Code/ (stored 0%)\n",
      "updating: Code/Lab-01-Acquisition.ipynb (deflated 76%)\n",
      "updating: Figures/ (stored 0%)\n",
      "updating: Hardware/ (stored 0%)\n",
      "updating: Hardware/APUF_CmodS7_01.bit (deflated 94%)\n",
      "updating: Hardware/APUF_CmodS7_02.bit (deflated 94%)\n",
      "updating: RUN-TO-ZIP.ipynb (deflated 79%)\n",
      "updating: Responses/ (stored 0%)\n",
      "updating: Code/.ipynb_checkpoints/ (stored 0%)\n",
      "updating: Code/.ipynb_checkpoints/Lab-01-Acquisition-checkpoint.ipynb (deflated 76%)\n",
      "updating: Responses/fpga0_resp0_5k.npz (deflated 94%)\n",
      "updating: Responses/fpga0_resp0_5k_grad.npz (deflated 94%)\n",
      "updating: Responses/fpga0_resp2_50k.npz (deflated 95%)\n",
      "updating: Responses/fpga0_resp0_50k_grad.npz (deflated 94%)\n",
      "updating: Responses/.ipynb_checkpoints/ (stored 0%)\n",
      "updating: Responses/fpga1_resp1_50k.npz (deflated 95%)\n",
      "updating: Responses/fpga1_resp2_50k_grad.npz (deflated 94%)\n",
      "updating: Responses/fpga1_resp0_50k.npz (deflated 95%)\n",
      "updating: Responses/fpga1_resp2_50k.npz (deflated 95%)\n",
      "updating: Responses/fpga1_resp0_50k_grad.npz (deflated 94%)\n",
      "updating: Responses/fpga0_resp0_50k.npz (deflated 95%)\n",
      "updating: Responses/fpga1_resp1_50k_grad.npz (deflated 94%)\n",
      "updating: Responses/fpga0_resp0_10k.npz (deflated 94%)\n",
      "updating: Responses/fpga0_resp1_50k.npz (deflated 95%)\n",
      "updating: Responses/fpga0_resp0_10k_grad.npz (deflated 94%)\n",
      "updating: Responses/fpga0_resp2_50k_grad.npz (deflated 94%)\n",
      "updating: Responses/fpga0_resp1_50k_grad.npz (deflated 94%)\n",
      "updating: Code/.ipynb_checkpoints/Lab-01-Analysis_PUF1-checkpoint.ipynb (deflated 37%)\n",
      "updating: Code/.ipynb_checkpoints/Lab-01-Analysis_PUF2-checkpoint.ipynb (deflated 37%)\n",
      "updating: Code/Lab-01-Analysis_PUF2.ipynb (deflated 37%)\n",
      "updating: Code/Lab-01-Analysis_PUF1.ipynb (deflated 37%)\n",
      "updating: Figures/PUF2_Intra-Chip_HD_FPGA1.pdf (deflated 30%)\n",
      "updating: Figures/.ipynb_checkpoints/ (stored 0%)\n",
      "updating: Figures/PUF1_Pairwise_Intra-Chip_HD_FPGA0.pdf (deflated 30%)\n",
      "updating: Figures/PUF1_Pairwise_Intra-Chip_HD_FPGA1.pdf (deflated 30%)\n",
      "updating: Figures/PUF1_Intra-Chip_HD_FPGA1.pdf (deflated 30%)\n",
      "updating: Figures/PUF1_Intra-Chip_HD_FPGA0.pdf (deflated 30%)\n",
      "updating: Figures/PUF2_Pairwise_Intra-Chip_HD_FPGA1.pdf (deflated 30%)\n",
      "updating: Figures/PUF2_Intra-Chip_HD_FPGA0.pdf (deflated 30%)\n",
      "updating: Figures/PUF1_Inter-Chip_HD.pdf (deflated 29%)\n",
      "updating: Figures/PUF2_Inter-Chip_HD.pdf (deflated 29%)\n",
      "updating: Figures/PUF2_Pairwise_Intra-Chip_HD_FPGA0.pdf (deflated 30%)\n",
      "updating: Responses/fpga1_resp0_05k_new.npz (deflated 94%)\n",
      "updating: Responses/fpga1_resp0_10k.npz (deflated 94%)\n",
      "updating: Responses/fpga1_resp0_5k.npz (deflated 94%)\n"
     ]
    }
   ],
   "source": [
    "#\n",
    "#RUN THIS CELL TO ZIP ALL YOUR FILES FROM THIS DIRECTORY\n",
    "!f=\"$(basename $PWD).zip\" && zip -r $f * -x $f"
   ]
  },
  {
   "cell_type": "markdown",
   "id": "b4ae6ae9",
   "metadata": {},
   "source": [
    "# UNZIP or Decompress file\n",
    "\n",
    "Run this code to unzip (decompress) your zip file. The zip file must have the same name as the current directory."
   ]
  },
  {
   "cell_type": "code",
   "execution_count": 1,
   "id": "3930d5bb",
   "metadata": {},
   "outputs": [
    {
     "name": "stdout",
     "output_type": "stream",
     "text": [
      "Archive:  PHS-Lab-01.zip\n",
      "   creating: Challenges/\n",
      "  inflating: Challenges/challenges_05k.npz  \n",
      "  inflating: Challenges/challenges_50k.npz  \n",
      "  inflating: Challenges/challenges_10k.npz  \n",
      "   creating: Code/\n",
      "  inflating: Code/Lab-01-Acquisition.ipynb  \n",
      "  inflating: Code/Lab-01-Analysis.ipynb  \n",
      "   creating: Figures/\n",
      "   creating: Hardware/\n",
      "  inflating: Hardware/APUF_CmodS7_01.bit  \n",
      "  inflating: Hardware/APUF_CmodS7_02.bit  \n",
      "  inflating: RUN-TO-ZIP.ipynb        \n",
      "   creating: Responses/\n"
     ]
    }
   ],
   "source": [
    "#Run this to unzip (decompress) your file\n",
    "!f=\"$(basename $PWD).zip\" && unzip -o $f"
   ]
  },
  {
   "cell_type": "code",
   "execution_count": null,
   "id": "010fa5ca",
   "metadata": {},
   "outputs": [],
   "source": []
  }
 ],
 "metadata": {
  "kernelspec": {
   "display_name": "Python 3 (ipykernel)",
   "language": "python",
   "name": "python3"
  },
  "language_info": {
   "codemirror_mode": {
    "name": "ipython",
    "version": 3
   },
   "file_extension": ".py",
   "mimetype": "text/x-python",
   "name": "python",
   "nbconvert_exporter": "python",
   "pygments_lexer": "ipython3",
   "version": "3.9.5"
  },
  "toc": {
   "base_numbering": 1,
   "nav_menu": {},
   "number_sections": true,
   "sideBar": true,
   "skip_h1_title": false,
   "title_cell": "Table of Contents",
   "title_sidebar": "Contents",
   "toc_cell": false,
   "toc_position": {},
   "toc_section_display": true,
   "toc_window_display": false
  }
 },
 "nbformat": 4,
 "nbformat_minor": 5
}
