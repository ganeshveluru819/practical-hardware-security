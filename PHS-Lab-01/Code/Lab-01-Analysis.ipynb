{
 "cells": [
  {
   "cell_type": "markdown",
   "id": "0819c8c4",
   "metadata": {},
   "source": [
    "__Lab 01 - Analysis__\n",
    "\n",
    "Student Names: [insert your full name(s) here]\n",
    "\n",
    "Group Number: [insert your group number as in Canvas here]"
   ]
  },
  {
   "cell_type": "markdown",
   "id": "4ef85620",
   "metadata": {},
   "source": [
    "# Setup"
   ]
  },
  {
   "cell_type": "markdown",
   "id": "ece1e6d6",
   "metadata": {},
   "source": [
    "Import the all these python libraries:"
   ]
  },
  {
   "cell_type": "code",
   "execution_count": 2,
   "id": "f8e01e04",
   "metadata": {},
   "outputs": [
    {
     "name": "stdout",
     "output_type": "stream",
     "text": [
      "✔️ OK to continue!\n"
     ]
    }
   ],
   "source": [
    "import numpy as np\n",
    "import scipy.spatial as spatial\n",
    "from scipy.stats import norm\n",
    "import matplotlib.pyplot as plt\n",
    "import pandas as pd\n",
    "\n",
    "print(\"✔️ OK to continue!\")"
   ]
  },
  {
   "cell_type": "markdown",
   "id": "c5b0a9f4",
   "metadata": {},
   "source": [
    "# Load Responses"
   ]
  },
  {
   "cell_type": "markdown",
   "id": "08d67fee",
   "metadata": {},
   "source": [
    "Use `np.load()` to load your resp files. Make sure to load all 6 responses into 6 seperate lists or numpy arrays."
   ]
  },
  {
   "cell_type": "code",
   "execution_count": 3,
   "id": "1522bfa5",
   "metadata": {},
   "outputs": [
    {
     "name": "stdout",
     "output_type": "stream",
     "text": [
      "✔️ OK to continue!\n"
     ]
    }
   ],
   "source": [
    "#Loading data From FPGA-0\n",
    "data = np.load(\"../Responses/fpga0_resp0_50k.npz\")\n",
    "fpga0_resp0 = data['response']\n",
    "\n",
    "data = np.load(\"../Responses/fpga0_resp1_50k.npz\")\n",
    "fpga0_resp1 = data['response']\n",
    "\n",
    "\n",
    "data = np.load(\"../Responses/fpga0_resp2_50k.npz\")\n",
    "fpga0_resp2 = data['response']\n",
    "\n",
    "#Loading data from FPGA-1\n",
    "\n",
    "data = np.load(\"../Responses/fpga1_resp0_50k.npz\")\n",
    "fpga1_resp0 = data['response']\n",
    "\n",
    "data = np.load(\"../Responses/fpga1_resp1_50k.npz\")\n",
    "fpga1_resp1 = data['response']\n",
    "\n",
    "\n",
    "data = np.load(\"../Responses/fpga1_resp2_50k.npz\")\n",
    "fpga1_resp2 = data['response']\n",
    "\n",
    "\n",
    "# print(fpga0_resp0)\n",
    "print(\"✔️ OK to continue!\")\n",
    "# Now do the same for all other 5 files"
   ]
  },
  {
   "cell_type": "markdown",
   "id": "ed79e5fc",
   "metadata": {},
   "source": [
    "# Computer: Intra-chip HD"
   ]
  },
  {
   "cell_type": "markdown",
   "id": "6e28bc15",
   "metadata": {},
   "source": [
    "## Intra-chip HD for FPGA0\n",
    "Compute the intra-chip HD for FPGA 0 and append them to a list.\n",
    "\n",
    "Use `spatial.distance.pdist()` with `metric=\"hamming\"` to compute the pairwise Hamming Distance (HD). Read more: https://docs.scipy.org/doc/scipy/reference/generated/scipy.spatial.distance.pdist.html#scipy.spatial.distance.pdist"
   ]
  },
  {
   "cell_type": "code",
   "execution_count": 4,
   "id": "f0fb3ae2",
   "metadata": {},
   "outputs": [
    {
     "name": "stdout",
     "output_type": "stream",
     "text": [
      "\n"
     ]
    }
   ],
   "source": [
    "x0=fpga0_resp0\n",
    "y0=fpga0_resp1\n",
    "z0=fpga0_resp2\n",
    "\n",
    "# gets pairwaise HD between x,y,x\n",
    "#pairwise_hd = spatial.distance.pdist([list(x),list(y),list(z)], metric=\"hamming\")\n",
    "\n",
    "HD_fpga0=[]\n",
    "for i in range(len(x0)):\n",
    "    pairwise_hd_fpga0 = spatial.distance.pdist([list(x0[i]),list(y0[i]),list(z0[i])], metric=\"hamming\")\n",
    "    HD_fpga0.append(pairwise_hd_fpga0)\n",
    "    \n",
    "# Initalising numpy array with HD probabilities\n",
    "HD_fpga0 = np.array(HD_fpga0)\n",
    "\n",
    "# Converting HD probabilities into percentages\n",
    "HD_fpga0 = HD_fpga0*100\n",
    "print()"
   ]
  },
  {
   "cell_type": "markdown",
   "id": "16fb3ccb",
   "metadata": {},
   "source": [
    "## Intra-chip HD for FPGA1\n",
    "Compute the intra-chip HD for FPGA 1 and append them to another list."
   ]
  },
  {
   "cell_type": "code",
   "execution_count": 5,
   "id": "7ccb48e7",
   "metadata": {},
   "outputs": [],
   "source": [
    "# Example:\n",
    "x1=fpga1_resp0\n",
    "y1=fpga1_resp1\n",
    "z1=fpga1_resp2\n",
    "\n",
    "# gets pairwaise HD between x,y,z\n",
    "#pairwise_hd = spatial.distance.pdist([list(x),list(y),list(z)], metric=\"hamming\")\n",
    "\n",
    "HD_fpga1=[]\n",
    "for i in range(len(x1)):\n",
    "    pairwise_hd_fpga1 = spatial.distance.pdist([list(x1[i]),list(y1[i]),list(z1[i])], metric=\"hamming\")\n",
    "    HD_fpga1.append(pairwise_hd_fpga1)\n",
    "\n",
    "# Initalising numpy array with HD probabilities\n",
    "HD_fpga1 = np.array(HD_fpga1)\n",
    "\n",
    "# Converting HD probabilities into percentages\n",
    "HD_fpga1 = HD_fpga1*100"
   ]
  },
  {
   "cell_type": "markdown",
   "id": "a42d834f",
   "metadata": {},
   "source": [
    "# Compute: Inter-chip HD"
   ]
  },
  {
   "cell_type": "markdown",
   "id": "562b7b65",
   "metadata": {},
   "source": [
    "Compute the inter-chip HD between FPGA0 and FPGA1 and append them to another list."
   ]
  },
  {
   "cell_type": "code",
   "execution_count": 6,
   "id": "7c4905c3",
   "metadata": {},
   "outputs": [],
   "source": [
    "inter_HD = []\n",
    "\n",
    "for i in range(len(x0)):\n",
    "    pairwise_HD_inter = spatial.distance.pdist([list(x0[i]),list(y1[i])], metric=\"hamming\")\n",
    "    inter_HD.append(pairwise_HD_inter)\n",
    "\n",
    "# Initalising numpy array with HD probabilities\n",
    "inter_HD = np.array(inter_HD)\n",
    "\n",
    "# Converting HD probabilities into percentages\n",
    "inter_HD = inter_HD*100"
   ]
  },
  {
   "cell_type": "code",
   "execution_count": 7,
   "id": "fa1ad977",
   "metadata": {},
   "outputs": [
    {
     "name": "stdout",
     "output_type": "stream",
     "text": [
      "[[12.5 ]\n",
      " [ 0.  ]\n",
      " [43.75]\n",
      " ...\n",
      " [ 6.25]\n",
      " [12.5 ]\n",
      " [ 0.  ]]\n",
      "0111111111111000 0111111011101000\n"
     ]
    }
   ],
   "source": [
    "print(inter_HD)\n",
    "print(str(y0[0]),str(x1[0]))"
   ]
  },
  {
   "cell_type": "code",
   "execution_count": 8,
   "id": "baa7c118",
   "metadata": {},
   "outputs": [
    {
     "data": {
      "text/plain": [
       "19312"
      ]
     },
     "execution_count": 8,
     "metadata": {},
     "output_type": "execute_result"
    }
   ],
   "source": [
    "np.count_nonzero(inter_HD)"
   ]
  },
  {
   "cell_type": "markdown",
   "id": "a46d0c98",
   "metadata": {},
   "source": [
    "# Statistical Results"
   ]
  },
  {
   "cell_type": "markdown",
   "id": "7174fbcb",
   "metadata": {},
   "source": [
    "Prints the following stats values for each list (intra-chip HD for FPGA0, for FPGA1, and inter-chip HD): min, max, average, and standard deviation (StD). NumPy have functions to compute all these.\n",
    "\n",
    "Also, print the sample size (n) of our collected data (i.e., the length of each list)."
   ]
  },
  {
   "cell_type": "code",
   "execution_count": 9,
   "id": "057077a3",
   "metadata": {},
   "outputs": [
    {
     "name": "stdout",
     "output_type": "stream",
     "text": [
      "======Intra-chip Hamming Distance for FPGA0=======\n",
      "Overall Minimum value: 0.0\n",
      "Overall Maximum value: 50.0\n",
      "Overall Average value: 0.42 \n",
      "\n",
      "          XY      XZ      YZ\n",
      "min    0.000   0.000   0.000\n",
      "max   50.000  50.000  50.000\n",
      "mean   0.411   0.430   0.418\n",
      "std    2.330   2.415   2.368\n",
      "\n",
      "\n",
      "\n",
      "======Intra-chip Hamming Distance for FPGA1=======\n",
      "Overall Minimum value: 0.0\n",
      "Overall Maximum value: 56.25\n",
      "Overall Average value: 0.368 \n",
      "\n",
      "          XY      XZ      YZ\n",
      "min    0.000   0.000   0.000\n",
      "max   56.250  50.000  56.250\n",
      "mean   0.369   0.394   0.341\n",
      "std    2.224   2.351   2.172\n",
      "========Inter-chip HD between FPGA0, FPGA1========\n",
      "               0\n",
      "count  50000.000\n",
      "mean       4.052\n",
      "std        7.151\n",
      "min        0.000\n",
      "25%        0.000\n",
      "50%        0.000\n",
      "75%        6.250\n",
      "max       62.500\n"
     ]
    }
   ],
   "source": [
    "# intra-chip HD for FPGA0\n",
    "print('{:=^50}'.format(\"Intra-chip Hamming Distance for FPGA0\"))\n",
    "overall_min_HD_fpga0 = np.min(HD_fpga0)\n",
    "overall_max_HD_fpga0 = np.max(HD_fpga0)\n",
    "\n",
    "df_HD_fpga0= pd.DataFrame(HD_fpga0)\n",
    "df_HD_fpga0_desc = df_HD_fpga0.describe().round(3)\n",
    "df_HD_fpga0_desc.columns = ['XY','XZ','YZ']\n",
    "\n",
    "overall_avg_HD_fpga0 = (sum(df_HD_fpga0_desc.loc[['mean']].values[0])/3).round(3)\n",
    "\n",
    "print(\"Overall Minimum value:\", overall_min_HD_fpga0)\n",
    "print(\"Overall Maximum value:\", overall_max_HD_fpga0)\n",
    "print(\"Overall Average value:\", overall_avg_HD_fpga0,\"\\n\")\n",
    "print(df_HD_fpga0_desc.loc[['min','max','mean','std']])\n",
    "\n",
    "print(\"\\n\\n\")\n",
    "\n",
    "# intra-chip HD for FPGA1\n",
    "print('{:=^50}'.format(\"Intra-chip Hamming Distance for FPGA1\"))\n",
    "overall_min_HD_fpga1 = np.min(HD_fpga1)\n",
    "overall_max_HD_fpga1 = np.max(HD_fpga1)\n",
    "\n",
    "df_HD_fpga1= pd.DataFrame(HD_fpga1)\n",
    "df_HD_fpga1_desc = df_HD_fpga1.describe().round(3)\n",
    "df_HD_fpga1_desc.columns = ['XY','XZ','YZ']\n",
    "overall_avg_HD_fpga1 = (sum(df_HD_fpga1_desc.loc[['mean']].values[0])/3).round(3)\n",
    "\n",
    "print(\"Overall Minimum value:\", overall_min_HD_fpga1)\n",
    "print(\"Overall Maximum value:\", overall_max_HD_fpga1)\n",
    "print(\"Overall Average value:\", overall_avg_HD_fpga1,\"\\n\")\n",
    "print(df_HD_fpga1_desc.loc[['min','max','mean','std']])\n",
    "\n",
    "# Inter-chip HD between FPGA0, FPGA1\n",
    "print('{:=^50}'.format(\"Inter-chip HD between FPGA0, FPGA1\"))\n",
    "df_inter_HD= pd.DataFrame(inter_HD)\n",
    "df_inter_HD_desc = df_inter_HD.describe().round(3)\n",
    "print(df_inter_HD_desc)"
   ]
  },
  {
   "cell_type": "markdown",
   "id": "325cf281",
   "metadata": {},
   "source": [
    "# Plots"
   ]
  },
  {
   "cell_type": "markdown",
   "id": "e3bb050f",
   "metadata": {},
   "source": [
    "Plot and save (as PDF) each list (intra-chip HD for FPGA0, for FPGA1, and inter-chip HD) as a vertical bar graph. Make sure to format the plots with adequate size, title, axis labels, ... (see the Tutorial-01-Python).\n",
    "\n",
    "To generate vertical bar graphs, use `plt.bar()`. Read more: https://matplotlib.org/stable/api/_as_gen/matplotlib.pyplot.bar.html\n",
    "\n",
    "Or use `plt.hist()` with same size bins. Read more: https://matplotlib.org/stable/api/_as_gen/matplotlib.pyplot.hist.html"
   ]
  },
  {
   "cell_type": "code",
   "execution_count": 10,
   "id": "62bfa8c3",
   "metadata": {},
   "outputs": [
    {
     "name": "stdout",
     "output_type": "stream",
     "text": [
      "[0.   6.25 6.25]\n"
     ]
    },
    {
     "ename": "AttributeError",
     "evalue": "'silent_list' object has no attribute 'patches'",
     "output_type": "error",
     "traceback": [
      "\u001b[0;31m---------------------------------------------------------------------------\u001b[0m",
      "\u001b[0;31mAttributeError\u001b[0m                            Traceback (most recent call last)",
      "Input \u001b[0;32mIn [10]\u001b[0m, in \u001b[0;36m<cell line: 13>\u001b[0;34m()\u001b[0m\n\u001b[1;32m     10\u001b[0m plt\u001b[38;5;241m.\u001b[39mtitle(\u001b[38;5;124m'\u001b[39m\u001b[38;5;124mHistogram of Pairwise Intra-Chip Hamming Distances (APUF) in Percentages\u001b[39m\u001b[38;5;124m'\u001b[39m)\n\u001b[1;32m     12\u001b[0m plt\u001b[38;5;241m.\u001b[39mxticks(np\u001b[38;5;241m.\u001b[39marange(\u001b[38;5;241m0\u001b[39m, \u001b[38;5;241m100\u001b[39m, \u001b[38;5;241m5\u001b[39m))\n\u001b[0;32m---> 13\u001b[0m \u001b[43mplt\u001b[49m\u001b[38;5;241;43m.\u001b[39;49m\u001b[43mbar_label\u001b[49m\u001b[43m(\u001b[49m\u001b[43mbars\u001b[49m\u001b[43m)\u001b[49m\n\u001b[1;32m     14\u001b[0m plt\u001b[38;5;241m.\u001b[39mmargins(x\u001b[38;5;241m=\u001b[39m\u001b[38;5;241m0.01\u001b[39m, y\u001b[38;5;241m=\u001b[39m\u001b[38;5;241m0.1\u001b[39m)\n\u001b[1;32m     15\u001b[0m plt\u001b[38;5;241m.\u001b[39mshow()\n",
      "File \u001b[0;32m~/.pyenv/versions/cw/lib/python3.9/site-packages/matplotlib/pyplot.py:2424\u001b[0m, in \u001b[0;36mbar_label\u001b[0;34m(container, labels, fmt, label_type, padding, **kwargs)\u001b[0m\n\u001b[1;32m   2420\u001b[0m \u001b[38;5;129m@_copy_docstring_and_deprecators\u001b[39m(Axes\u001b[38;5;241m.\u001b[39mbar_label)\n\u001b[1;32m   2421\u001b[0m \u001b[38;5;28;01mdef\u001b[39;00m \u001b[38;5;21mbar_label\u001b[39m(\n\u001b[1;32m   2422\u001b[0m         container, labels\u001b[38;5;241m=\u001b[39m\u001b[38;5;28;01mNone\u001b[39;00m, \u001b[38;5;241m*\u001b[39m, fmt\u001b[38;5;241m=\u001b[39m\u001b[38;5;124m'\u001b[39m\u001b[38;5;132;01m%g\u001b[39;00m\u001b[38;5;124m'\u001b[39m, label_type\u001b[38;5;241m=\u001b[39m\u001b[38;5;124m'\u001b[39m\u001b[38;5;124medge\u001b[39m\u001b[38;5;124m'\u001b[39m,\n\u001b[1;32m   2423\u001b[0m         padding\u001b[38;5;241m=\u001b[39m\u001b[38;5;241m0\u001b[39m, \u001b[38;5;241m*\u001b[39m\u001b[38;5;241m*\u001b[39mkwargs):\n\u001b[0;32m-> 2424\u001b[0m     \u001b[38;5;28;01mreturn\u001b[39;00m \u001b[43mgca\u001b[49m\u001b[43m(\u001b[49m\u001b[43m)\u001b[49m\u001b[38;5;241;43m.\u001b[39;49m\u001b[43mbar_label\u001b[49m\u001b[43m(\u001b[49m\n\u001b[1;32m   2425\u001b[0m \u001b[43m        \u001b[49m\u001b[43mcontainer\u001b[49m\u001b[43m,\u001b[49m\u001b[43m \u001b[49m\u001b[43mlabels\u001b[49m\u001b[38;5;241;43m=\u001b[39;49m\u001b[43mlabels\u001b[49m\u001b[43m,\u001b[49m\u001b[43m \u001b[49m\u001b[43mfmt\u001b[49m\u001b[38;5;241;43m=\u001b[39;49m\u001b[43mfmt\u001b[49m\u001b[43m,\u001b[49m\u001b[43m \u001b[49m\u001b[43mlabel_type\u001b[49m\u001b[38;5;241;43m=\u001b[39;49m\u001b[43mlabel_type\u001b[49m\u001b[43m,\u001b[49m\n\u001b[1;32m   2426\u001b[0m \u001b[43m        \u001b[49m\u001b[43mpadding\u001b[49m\u001b[38;5;241;43m=\u001b[39;49m\u001b[43mpadding\u001b[49m\u001b[43m,\u001b[49m\u001b[43m \u001b[49m\u001b[38;5;241;43m*\u001b[39;49m\u001b[38;5;241;43m*\u001b[39;49m\u001b[43mkwargs\u001b[49m\u001b[43m)\u001b[49m\n",
      "File \u001b[0;32m~/.pyenv/versions/cw/lib/python3.9/site-packages/matplotlib/axes/_axes.py:2606\u001b[0m, in \u001b[0;36mAxes.bar_label\u001b[0;34m(self, container, labels, fmt, label_type, padding, **kwargs)\u001b[0m\n\u001b[1;32m   2602\u001b[0m     \u001b[38;5;28;01mreturn\u001b[39;00m \u001b[38;5;241m1\u001b[39m \u001b[38;5;28;01mif\u001b[39;00m x \u001b[38;5;241m>\u001b[39m\u001b[38;5;241m=\u001b[39m \u001b[38;5;241m0\u001b[39m \u001b[38;5;28;01melse\u001b[39;00m \u001b[38;5;241m-\u001b[39m\u001b[38;5;241m1\u001b[39m\n\u001b[1;32m   2604\u001b[0m _api\u001b[38;5;241m.\u001b[39mcheck_in_list([\u001b[38;5;124m'\u001b[39m\u001b[38;5;124medge\u001b[39m\u001b[38;5;124m'\u001b[39m, \u001b[38;5;124m'\u001b[39m\u001b[38;5;124mcenter\u001b[39m\u001b[38;5;124m'\u001b[39m], label_type\u001b[38;5;241m=\u001b[39mlabel_type)\n\u001b[0;32m-> 2606\u001b[0m bars \u001b[38;5;241m=\u001b[39m \u001b[43mcontainer\u001b[49m\u001b[38;5;241;43m.\u001b[39;49m\u001b[43mpatches\u001b[49m\n\u001b[1;32m   2607\u001b[0m errorbar \u001b[38;5;241m=\u001b[39m container\u001b[38;5;241m.\u001b[39merrorbar\n\u001b[1;32m   2608\u001b[0m datavalues \u001b[38;5;241m=\u001b[39m container\u001b[38;5;241m.\u001b[39mdatavalues\n",
      "\u001b[0;31mAttributeError\u001b[0m: 'silent_list' object has no attribute 'patches'"
     ]
    },
    {
     "data": {
      "image/png": "[encoded data removed]",
      "text/plain": [
       "<Figure size 1080x720 with 1 Axes>"
      ]
     },
     "metadata": {
      "needs_background": "light"
     },
     "output_type": "display_data"
    }
   ],
   "source": [
    "plt.figure(figsize=(15, 10))\n",
    "\n",
    "print(HD_fpga0[4])\n",
    "\n",
    "colors = ['red', 'tan', 'lime']\n",
    "values, bins, bars = plt.hist(HD_fpga0, bins=np.arange(0,100,5), histtype='bar', color=colors, label=[\"XY\",\"XZ\",\"YZ\"],rwidth=0.85)\n",
    "plt.legend(prop={'size': 10})\n",
    "plt.xlabel('Hamming Distance Percentage')\n",
    "plt.ylabel('Frequency')\n",
    "plt.title('Histogram of Pairwise Intra-Chip Hamming Distances (APUF) in Percentages')\n",
    "\n",
    "plt.xticks(np.arange(0, 100, 5))\n",
    "plt.bar_label(bars)\n",
    "plt.margins(x=0.01, y=0.1)\n",
    "plt.show()\n",
    "plt.show()"
   ]
  },
  {
   "cell_type": "code",
   "execution_count": 11,
   "id": "f9258bc7",
   "metadata": {},
   "outputs": [
    {
     "data": {
      "image/png": "[encoded data removed]",
      "text/plain": [
       "<Figure size 432x288 with 1 Axes>"
      ]
     },
     "metadata": {
      "needs_background": "light"
     },
     "output_type": "display_data"
    }
   ],
   "source": [
    "\n",
    "import numpy as np\n",
    "from scipy.stats import norm\n",
    "import matplotlib.pyplot as plt\n",
    "  \n",
    "# Generate some data for this \n",
    "# demonstration.\n",
    "data = np.random.normal(170, 10, 250)\n",
    "  \n",
    "# Fit a normal distribution to\n",
    "# the data:\n",
    "# mean and standard deviation\n",
    "mu, std = norm.fit(data) \n",
    "  \n",
    "# Plot the histogram.\n",
    "plt.hist(data, bins=25, density=True, alpha=0.6, color='b')\n",
    "  \n",
    "# Plot the PDF.\n",
    "xmin, xmax = plt.xlim()\n",
    "x = np.linspace(xmin, xmax, 100)\n",
    "p = norm.pdf(x, mu, std)\n",
    "  \n",
    "plt.plot(x, p, 'k', linewidth=2)\n",
    "title = \"Fit Values: {:.2f} and {:.2f}\".format(mu, std)\n",
    "plt.title(title)\n",
    "  \n",
    "plt.show()"
   ]
  },
  {
   "cell_type": "code",
   "execution_count": 12,
   "id": "9f6fecb7",
   "metadata": {},
   "outputs": [
    {
     "data": {
      "image/png": "[encoded data removed]",
      "text/plain": [
       "<Figure size 1080x720 with 1 Axes>"
      ]
     },
     "metadata": {
      "needs_background": "light"
     },
     "output_type": "display_data"
    }
   ],
   "source": [
    "\n",
    "HD_fpga0_avg = np.mean(HD_fpga0, axis=1)\n",
    "\n",
    "mean, std = norm.fit(HD_fpga0_avg) \n",
    "\n",
    "# Create a histogram of pairwise distances as percentages\n",
    "plt.figure(figsize=(15, 10))\n",
    "values, bins, bars = plt.hist(HD_fpga0_avg, bins=np.arange(0,100,5), density=True, edgecolor='white')\n",
    "\n",
    "xmin, xmax = plt.xlim()\n",
    "x = np.linspace(xmin, xmax, 100)\n",
    "p = norm.pdf(x, mean, std)\n",
    "\n",
    "plt.plot(x, p, 'k', linewidth=2)\n",
    "\n",
    "plt.xlabel('Hamming Distance Percentage')\n",
    "plt.ylabel('Frequency')\n",
    "plt.title('Histogram of Pairwise Intra-Chip Hamming Distances (APUF) in Percentages')\n",
    "\n",
    "plt.xticks(np.arange(0, 100, 5))\n",
    "# plt.bar_label(bars)\n",
    "plt.margins(x=0.01, y=0.1)\n",
    "plt.show()\n",
    "\n",
    "\n"
   ]
  },
  {
   "cell_type": "code",
   "execution_count": 13,
   "id": "fd62d775",
   "metadata": {},
   "outputs": [
    {
     "data": {
      "image/png": "[encoded data removed]",
      "text/plain": [
       "<Figure size 432x288 with 1 Axes>"
      ]
     },
     "metadata": {
      "needs_background": "light"
     },
     "output_type": "display_data"
    }
   ],
   "source": [
    "\n",
    "\n",
    "import numpy as np\n",
    "import matplotlib.pyplot as plt\n",
    "\n",
    "HD_fpga0_avg = np.mean(HD_fpga0, axis=1)\n",
    "\n",
    "# Create a histogram of pairwise distances as percentages\n",
    "plt.hist(inter_HD, bins=np.arange(0,100,10), alpha=0.7, rwidth=0.85)\n",
    "plt.xlabel('Hamming Distance Percentage')\n",
    "plt.ylabel('Frequency')\n",
    "plt.title('Histogram of Pairwise Inter-Chip Hamming Distances (APUF) in Percentages')\n",
    "plt.grid(axis='y', alpha=0.75)\n",
    "plt.xticks(np.arange(0, 100, 10))\n",
    "plt.show()\n",
    "\n",
    "\n"
   ]
  },
  {
   "cell_type": "code",
   "execution_count": null,
   "id": "ce48a0d2",
   "metadata": {},
   "outputs": [],
   "source": []
  }
 ],
 "metadata": {
  "kernelspec": {
   "display_name": "Python 3 (ipykernel)",
   "language": "python",
   "name": "python3"
  },
  "language_info": {
   "codemirror_mode": {
    "name": "ipython",
    "version": 3
   },
   "file_extension": ".py",
   "mimetype": "text/x-python",
   "name": "python",
   "nbconvert_exporter": "python",
   "pygments_lexer": "ipython3",
   "version": "3.9.5"
  },
  "toc": {
   "base_numbering": 1,
   "nav_menu": {},
   "number_sections": true,
   "sideBar": true,
   "skip_h1_title": false,
   "title_cell": "Table of Contents",
   "title_sidebar": "Contents",
   "toc_cell": false,
   "toc_position": {},
   "toc_section_display": true,
   "toc_window_display": false
  },
  "varInspector": {
   "cols": {
    "lenName": 16,
    "lenType": 16,
    "lenVar": 40
   },
   "kernels_config": {
    "python": {
     "delete_cmd_postfix": "",
     "delete_cmd_prefix": "del ",
     "library": "var_list.py",
     "varRefreshCmd": "print(var_dic_list())"
    },
    "r": {
     "delete_cmd_postfix": ") ",
     "delete_cmd_prefix": "rm(",
     "library": "var_list.r",
     "varRefreshCmd": "cat(var_dic_list()) "
    }
   },
   "types_to_exclude": [
    "module",
    "function",
    "builtin_function_or_method",
    "instance",
    "_Feature"
   ],
   "window_display": false
  }
 },
 "nbformat": 4,
 "nbformat_minor": 5
}
