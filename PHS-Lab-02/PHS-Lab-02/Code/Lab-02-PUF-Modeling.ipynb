{
 "cells": [
  {
   "cell_type": "markdown",
   "id": "0819c8c4",
   "metadata": {},
   "source": [
    "__Lab 02 - PUF Modeling__\n",
    "\n",
    "Student Names: [Ganesh Veluru & Jwala Sri Hari Badam]\n",
    "\n",
    "Group Number: [3]"
   ]
  },
  {
   "cell_type": "markdown",
   "id": "4ef85620",
   "metadata": {
    "heading_collapsed": true
   },
   "source": [
    "# Setup"
   ]
  },
  {
   "cell_type": "markdown",
   "id": "ece1e6d6",
   "metadata": {
    "hidden": true
   },
   "source": [
    "Below will import the `modelPUF` modules to setup the CRPs and make a PUF model from the `modelPUF.py` script.\n",
    "\n",
    "Also, add any other library here that you may need to import."
   ]
  },
  {
   "cell_type": "code",
   "execution_count": 29,
   "id": "f8e01e04",
   "metadata": {
    "hidden": true
   },
   "outputs": [],
   "source": [
    "from modelPUF import *\n",
    "import pandas as pd"
   ]
  },
  {
   "cell_type": "markdown",
   "id": "b20b7981",
   "metadata": {
    "heading_collapsed": true
   },
   "source": [
    "# PUF Modeling"
   ]
  },
  {
   "cell_type": "markdown",
   "id": "cf00548a",
   "metadata": {
    "hidden": true
   },
   "source": [
    "We will be modeling each of your FPGAs. Go through the `modelPUF.py` script and see how to interface with the model. You need to model it using the resp files from Lab 01, select one (any) for each FPGA."
   ]
  },
  {
   "cell_type": "markdown",
   "id": "5a490fdd",
   "metadata": {
    "hidden": true
   },
   "source": [
    "Since we are going to train and test the model many times, make a function that will setup the CRP, model, train, test, and get it's accuracy for a given dataset percent `p` for training.\n",
    "\n",
    "__complete this__"
   ]
  },
  {
   "cell_type": "code",
   "execution_count": 31,
   "id": "1d6fe790",
   "metadata": {},
   "outputs": [],
   "source": [
    "from modelPUF import *\n",
    "from tqdm import tnrange\n",
    "import matplotlib.pyplot as plt\n",
    "\n",
    "#storing the filenames into variables.\n",
    "cfile = \"../Challenges/challenges_50k.npz\"\n",
    "\n",
    "#response files for FPGA-0 and FPGA0-1\n",
    "rfile0 = \"../Responses/fpga0_resp0_50k.npz\"\n",
    "rfile1 = \"../Responses/fpga1_resp0_50k.npz\""
   ]
  },
  {
   "cell_type": "code",
   "execution_count": 32,
   "id": "170713e9",
   "metadata": {
    "hidden": true
   },
   "outputs": [],
   "source": [
    "# Method to get Accuracy by Interfacing with modelPUF.py\n",
    "'''\n",
    "Function: get_accuracy()\n",
    "  Input: 'cfile' - challanges file name\n",
    "  Input: 'rfile' - responses file name\n",
    "  Input: 'p' - percentage of data to use for training\n",
    "  Output: 'accuracy' - model accuracy\n",
    "'''\n",
    "def get_accuracy(cfile: str, rfile: str, p: float) -> float:\n",
    "    # Setup CRP dataset format for the PUF model\n",
    "    crpData = ChallengeResponseSet(cfilename=cfile, rfilename=rfile)\n",
    "\n",
    "    # Input the CRP dataset to the pufModel\n",
    "    puf = pufModel(crpData)\n",
    "    \n",
    "    # Splits the CRP dataset in train/test subsets. p (float): percentage of data to use for training\n",
    "    x=crpData.train_test_split(p)\n",
    "\n",
    "    # Trains the models with the CRP train subset \n",
    "    puf.train(crpData)\n",
    "    \n",
    "    # Test the models with the CRP test subset and computes its accuracy.\n",
    "    accuracy = puf.test(crpData)\n",
    "    return accuracy"
   ]
  },
  {
   "cell_type": "markdown",
   "id": "8843340c",
   "metadata": {
    "hidden": true
   },
   "source": [
    "Test your function. Note: this may take a while, so test with a small file (such as the 5k)."
   ]
  },
  {
   "cell_type": "code",
   "execution_count": 33,
   "id": "254b73a4",
   "metadata": {
    "hidden": true
   },
   "outputs": [
    {
     "name": "stdout",
     "output_type": "stream",
     "text": [
      "Accuracy on 47500 unseen challenges is: 0.6395158171653748\n"
     ]
    },
    {
     "data": {
      "text/plain": [
       "0.6395158171653748"
      ]
     },
     "execution_count": 33,
     "metadata": {},
     "output_type": "execute_result"
    }
   ],
   "source": [
    "# for testing purpose\n",
    "get_accuracy(cfile, rfile0, 0.05)"
   ]
  },
  {
   "cell_type": "markdown",
   "id": "d5add913",
   "metadata": {
    "hidden": true
   },
   "source": [
    "Now, lets use this function to generate model the PUFs and generate accuracy results for varying `p` values. Make sure to save the list of accuracies for each FPGA (total of 2 lists if working in pairs).\n",
    "\n",
    "The implementation this is up to you. Hint: iteration"
   ]
  },
  {
   "cell_type": "code",
   "execution_count": 59,
   "id": "6862321f",
   "metadata": {
    "hidden": true,
    "scrolled": true
   },
   "outputs": [
    {
     "name": "stdout",
     "output_type": "stream",
     "text": [
      "[0.05, 0.1, 0.15, 0.2, 0.25, 0.3, 0.35, 0.4, 0.45, 0.5, 0.55, 0.6, 0.65, 0.7, 0.75, 0.8, 0.85, 0.9, 0.95]\n",
      "Accuracy on 47500 unseen challenges is: 0.6456000208854675\n",
      "Accuracy on 47500 unseen challenges is: 0.6343368291854858\n",
      "Accuracy on 45000 unseen challenges is: 0.6372666954994202\n",
      "Accuracy on 45000 unseen challenges is: 0.6691333055496216\n",
      "Accuracy on 42500 unseen challenges is: 0.6320706009864807\n",
      "Accuracy on 42500 unseen challenges is: 0.6941882371902466\n",
      "Accuracy on 40000 unseen challenges is: 0.6628000140190125\n",
      "Accuracy on 40000 unseen challenges is: 0.6668999791145325\n",
      "Accuracy on 37500 unseen challenges is: 0.6645333170890808\n",
      "Accuracy on 37500 unseen challenges is: 0.6916800141334534\n",
      "Accuracy on 35000 unseen challenges is: 0.7048571705818176\n",
      "Accuracy on 35000 unseen challenges is: 0.6956571340560913\n",
      "Accuracy on 32500 unseen challenges is: 0.7035077214241028\n",
      "Accuracy on 32500 unseen challenges is: 0.7020307779312134\n",
      "Accuracy on 30000 unseen challenges is: 0.7058333158493042\n",
      "Accuracy on 30000 unseen challenges is: 0.7000666856765747\n",
      "Accuracy on 27500 unseen challenges is: 0.688909113407135\n",
      "Accuracy on 27500 unseen challenges is: 0.6696727275848389\n",
      "Accuracy on 25000 unseen challenges is: 0.7049999833106995\n",
      "Accuracy on 25000 unseen challenges is: 0.694320023059845\n",
      "Accuracy on 22500 unseen challenges is: 0.705644428730011\n",
      "Accuracy on 22500 unseen challenges is: 0.7003555297851562\n",
      "Accuracy on 20000 unseen challenges is: 0.7063999772071838\n",
      "Accuracy on 20000 unseen challenges is: 0.6985499858856201\n",
      "Accuracy on 17500 unseen challenges is: 0.6756571531295776\n",
      "Accuracy on 17500 unseen challenges is: 0.7018857002258301\n",
      "Accuracy on 15000 unseen challenges is: 0.7085999846458435\n",
      "Accuracy on 15000 unseen challenges is: 0.6331999897956848\n",
      "Accuracy on 12500 unseen challenges is: 0.6660000085830688\n",
      "Accuracy on 12500 unseen challenges is: 0.7044000029563904\n",
      "Accuracy on 10000 unseen challenges is: 0.6945000290870667\n",
      "Accuracy on 10000 unseen challenges is: 0.6966999769210815\n",
      "Accuracy on 7500 unseen challenges is: 0.6338666677474976\n",
      "Accuracy on 7500 unseen challenges is: 0.6747999787330627\n",
      "Accuracy on 5000 unseen challenges is: 0.7038000226020813\n",
      "Accuracy on 5000 unseen challenges is: 0.6650000214576721\n",
      "Accuracy on 2500 unseen challenges is: 0.7088000178337097\n",
      "Accuracy on 2500 unseen challenges is: 0.6972000002861023\n",
      "[0.6456000208854675, 0.6372666954994202, 0.6320706009864807, 0.6628000140190125, 0.6645333170890808, 0.7048571705818176, 0.7035077214241028, 0.7058333158493042, 0.688909113407135, 0.7049999833106995, 0.705644428730011, 0.7063999772071838, 0.6756571531295776, 0.7085999846458435, 0.6660000085830688, 0.6945000290870667, 0.6338666677474976, 0.7038000226020813, 0.7088000178337097]\n",
      "[0.6343368291854858, 0.6691333055496216, 0.6941882371902466, 0.6668999791145325, 0.6916800141334534, 0.6956571340560913, 0.7020307779312134, 0.7000666856765747, 0.6696727275848389, 0.694320023059845, 0.7003555297851562, 0.6985499858856201, 0.7018857002258301, 0.6331999897956848, 0.7044000029563904, 0.6966999769210815, 0.6747999787330627, 0.6650000214576721, 0.6972000002861023]\n"
     ]
    }
   ],
   "source": [
    "# for each split ratio getting the accuracy by calling the get_accuracy()\n",
    "split_ratio= [i / 100.0 for i in range(5, 100, 5)]\n",
    "\n",
    "print(split_ratio)\n",
    "\n",
    "accuracy_fpga0=[]\n",
    "accuracy_fpga1=[]\n",
    "\n",
    "for i in split_ratio:\n",
    "    accuracy_fpga0.append(get_accuracy(cfile, rfile0, i))\n",
    "    accuracy_fpga1.append(get_accuracy(cfile, rfile1, i))\n",
    "    \n",
    "    \n",
    "print(accuracy_fpga0)\n",
    "print(accuracy_fpga1)"
   ]
  },
  {
   "cell_type": "markdown",
   "id": "a46d0c98",
   "metadata": {
    "heading_collapsed": true
   },
   "source": [
    "# Statistical Results"
   ]
  },
  {
   "cell_type": "markdown",
   "id": "7174fbcb",
   "metadata": {
    "hidden": true
   },
   "source": [
    "Prints the following stats values for each model accuracy list (FPGA0 and FPGA1): min, max, average, and standard deviation (StD). NumPy have functions to compute all these.\n",
    "\n",
    "Also, print the sample size (n) of the collected data (i.e., the length of each list)."
   ]
  },
  {
   "cell_type": "code",
   "execution_count": 104,
   "id": "c82ba777",
   "metadata": {},
   "outputs": [],
   "source": [
    "# function to retun summary using pandas Dataframe describe()\n",
    "import pandas as pd\n",
    "def summary(np_arr):\n",
    "    '''\n",
    "        Input : Numpy array\n",
    "        output : Summary DataFrame\n",
    "    '''\n",
    "    df= pd.DataFrame(np_arr)\n",
    "    df = df.describe().round(3)\n",
    "    df = df.loc[['min','max','mean','std']]\n",
    "    return df"
   ]
  },
  {
   "cell_type": "code",
   "execution_count": 105,
   "id": "a8117397",
   "metadata": {},
   "outputs": [
    {
     "name": "stdout",
     "output_type": "stream",
     "text": [
      "======ANN Accuracies for FPGA0 and FPGA1======\n",
      "\n",
      "      accuracy_fpga0  accuracy_fpga1\n",
      "min           63.207          63.320\n",
      "max           70.880          70.440\n",
      "mean          68.177          68.369\n",
      "std            2.833           2.205\n"
     ]
    }
   ],
   "source": [
    "#printing the summary for accuracies calculated for all split ratios.\n",
    "\n",
    "ANN_accuracy={}\n",
    "ANN_accuracy['accuracy_fpga0']=accuracy_fpga0\n",
    "ANN_accuracy['accuracy_fpga1']=accuracy_fpga1\n",
    "          \n",
    "print('======ANN Accuracies for FPGA0 and FPGA1======')\n",
    "print()\n",
    "df_ANN_accuracy= summary(ANN_accuracy)\n",
    "print(df_ANN_accuracy)"
   ]
  },
  {
   "cell_type": "markdown",
   "id": "325cf281",
   "metadata": {
    "heading_collapsed": true
   },
   "source": [
    "# Plots"
   ]
  },
  {
   "cell_type": "markdown",
   "id": "e3bb050f",
   "metadata": {
    "hidden": true
   },
   "source": [
    "Plot and save (as PDF) each model accurance list (FPGA0 and FPGA1) as a line graph or vertical bar graph (your choice). Make sure to format the plots with adequate size, title, axis labels, ... (see the Tutorial-01-Python).\n",
    "\n",
    "To generate line graphs, use `plt.plot()`. Read more: https://matplotlib.org/stable/api/_as_gen/matplotlib.pyplot.plot.html\n",
    "\n",
    "To generate vertical bar graphs, use `plt.bar()`. Read more: https://matplotlib.org/stable/api/_as_gen/matplotlib.pyplot.bar.html"
   ]
  },
  {
   "cell_type": "code",
   "execution_count": 106,
   "id": "9f6fecb7",
   "metadata": {
    "hidden": true
   },
   "outputs": [
    {
     "data": {
      "image/png": "[encoded data removed]",
      "text/plain": [
       "<Figure size 720x504 with 1 Axes>"
      ]
     },
     "metadata": {
      "needs_background": "light"
     },
     "output_type": "display_data"
    }
   ],
   "source": [
    "#plot for APUF based on training data.\n",
    "plt.figure(figsize=(10,7), constrained_layout=True)\n",
    "\n",
    "# format the plot\n",
    "plt.title(\"Model Accuracies for APUF using ANN\")        # adds title\n",
    "plt.ylabel(\"Accuracy (in %)\")              # adds x-axis label\n",
    "plt.xlabel(\"Amount of Training Data Used\") # adds y-axis label\n",
    "\n",
    "\n",
    "plt.plot(np.array(split_ratio), np.array(accuracy_fpga0),'r',label='FPGA0',marker = 'o')\n",
    "plt.plot(np.array(split_ratio), np.array(accuracy_fpga1), 'm',label='FPGA1',marker = 's')\n",
    "# plt.xticks(range(len(split_ratio)), split_ratio, size='small')\n",
    "plt.xticks(np.arange(0.05, 1, 0.05))\n",
    "\n",
    "# Display the plotit \n",
    "plt.legend()\n",
    "\n",
    "# save the plot\n",
    "plt.savefig(\"../Figures/acc_fpga.pdf\") # PDF recommended\n",
    "plt.savefig(\"../Figures/acc_fpga.png\", dpi=300)\n",
    "plt.show()\n",
    "\n",
    "\n"
   ]
  },
  {
   "cell_type": "code",
   "execution_count": null,
   "id": "a295b3b3",
   "metadata": {
    "collapsed": true
   },
   "outputs": [],
   "source": []
  }
 ],
 "metadata": {
  "kernelspec": {
   "display_name": "Python 3",
   "language": "python",
   "name": "python3"
  },
  "language_info": {
   "codemirror_mode": {
    "name": "ipython",
    "version": 3
   },
   "file_extension": ".py",
   "mimetype": "text/x-python",
   "name": "python",
   "nbconvert_exporter": "python",
   "pygments_lexer": "ipython3",
   "version": "3.8.8"
  },
  "toc": {
   "base_numbering": 1,
   "nav_menu": {},
   "number_sections": true,
   "sideBar": true,
   "skip_h1_title": false,
   "title_cell": "Table of Contents",
   "title_sidebar": "Contents",
   "toc_cell": false,
   "toc_position": {},
   "toc_section_display": true,
   "toc_window_display": false
  },
  "varInspector": {
   "cols": {
    "lenName": 16,
    "lenType": 16,
    "lenVar": 40
   },
   "kernels_config": {
    "python": {
     "delete_cmd_postfix": "",
     "delete_cmd_prefix": "del ",
     "library": "var_list.py",
     "varRefreshCmd": "print(var_dic_list())"
    },
    "r": {
     "delete_cmd_postfix": ") ",
     "delete_cmd_prefix": "rm(",
     "library": "var_list.r",
     "varRefreshCmd": "cat(var_dic_list()) "
    }
   },
   "types_to_exclude": [
    "module",
    "function",
    "builtin_function_or_method",
    "instance",
    "_Feature"
   ],
   "window_display": false
  }
 },
 "nbformat": 4,
 "nbformat_minor": 5
}
