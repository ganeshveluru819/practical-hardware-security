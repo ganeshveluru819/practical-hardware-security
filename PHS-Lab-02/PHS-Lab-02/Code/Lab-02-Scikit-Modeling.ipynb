{
 "cells": [
  {
   "cell_type": "markdown",
   "id": "0819c8c4",
   "metadata": {},
   "source": [
    "__Lab 02 - scikit PUF Modeling__\n",
    "\n",
    "Student Names: [Ganesh Veluru & Jwala Sri Hari Badam]\n",
    "\n",
    "Group Number: [3]"
   ]
  },
  {
   "cell_type": "markdown",
   "id": "4ef85620",
   "metadata": {
    "heading_collapsed": true
   },
   "source": [
    "# Setup"
   ]
  },
  {
   "cell_type": "markdown",
   "id": "ece1e6d6",
   "metadata": {
    "hidden": true
   },
   "source": [
    "Below will import the `modelPUF` modules to setup the CRPs and make a PUF model from the `modelPUF.py` script.\n",
    "\n",
    "Also, add any other library here that you may need to import."
   ]
  },
  {
   "cell_type": "code",
   "execution_count": 208,
   "id": "f8e01e04",
   "metadata": {
    "hidden": true,
    "scrolled": false
   },
   "outputs": [],
   "source": [
    "from modelPUF import *"
   ]
  },
  {
   "cell_type": "markdown",
   "id": "b20b7981",
   "metadata": {
    "heading_collapsed": true
   },
   "source": [
    "# PUF Modeling"
   ]
  },
  {
   "cell_type": "markdown",
   "id": "cf00548a",
   "metadata": {
    "hidden": true
   },
   "source": [
    "We will be modeling each of your FPGAs. Go through the `modelPUF.py` script and see how to interface with the model. You need to model it using the resp files from Lab 01, select one (any) for each FPGA."
   ]
  },
  {
   "cell_type": "markdown",
   "id": "5a490fdd",
   "metadata": {
    "hidden": true
   },
   "source": [
    "Since we are going to train and test the model many times, make a function that will setup the CRP, model, train, test, and get it's accuracy for a given dataset percent `p` for training.\n",
    "\n",
    "__complete this__"
   ]
  },
  {
   "cell_type": "code",
   "execution_count": 209,
   "id": "1d6fe790",
   "metadata": {},
   "outputs": [],
   "source": [
    "#storing all filepaths in variables\n",
    "\n",
    "from modelPUF import *\n",
    "from tqdm import tnrange\n",
    "import matplotlib.pyplot as plt\n",
    "\n",
    "#storing the filenames into variables.\n",
    "cfile = \"../Challenges/challenges_50k.npz\"\n",
    "\n",
    "#response files for FPGA-0 and FPGA0-1\n",
    "rfile0 = \"../Responses/fpga0_resp0_50k.npz\"\n",
    "rfile1 = \"../Responses/fpga1_resp0_50k.npz\"\n",
    "xor_2_rfile0 = \"../Responses/fpga0_resp0_50k_xor_2_puf.npz\"\n",
    "xor_2_rfile1= \"../Responses/fpga1_resp0_50k_xor_2_puf.npz\"\n",
    "xor_4_rfile0= \"../Responses/fpga0_resp0_50k_xor_4_puf.npz\"\n",
    "xor_4_rfile1= \"../Responses/fpga1_resp0_50k_xor_4_puf.npz\""
   ]
  },
  {
   "cell_type": "code",
   "execution_count": 210,
   "id": "e17b86e6",
   "metadata": {},
   "outputs": [],
   "source": [
    "# method to get training and testing data based on partition.\n",
    "\n",
    "def get_data(cfile,rfile,p):\n",
    "\n",
    "    # Setup CRP dataset format for the PUF model\n",
    "    crpData = ChallengeResponseSet(cfilename=cfile, rfilename=rfile)\n",
    "\n",
    "    # Splits the CRP dataset in train/test subsets. p (float): percentage of data to use for training\n",
    "    crpData.train_test_split(p)\n",
    "\n",
    "    trainX=crpData.train.challenges\n",
    "    trainY=crpData.train.responses\n",
    "    testX=crpData.test.challenges\n",
    "    testY=crpData.test.responses\n",
    "\n",
    "    return trainX,trainY,testX,testY"
   ]
  },
  {
   "cell_type": "code",
   "execution_count": 211,
   "id": "9e85f8f8",
   "metadata": {},
   "outputs": [
    {
     "name": "stdout",
     "output_type": "stream",
     "text": [
      "{'LR': [], 'KNN': [], 'SVM': [], 'NB': [], 'DT': [], 'RF': [], 'ANN': []}\n"
     ]
    }
   ],
   "source": [
    "# Importing models from sklearn\n",
    "from sklearn.linear_model import LogisticRegression\n",
    "from sklearn.neighbors import KNeighborsClassifier\n",
    "from sklearn.svm import SVC\n",
    "from sklearn.naive_bayes import GaussianNB\n",
    "from sklearn.tree import DecisionTreeClassifier\n",
    "from sklearn.ensemble import RandomForestClassifier\n",
    "from sklearn.metrics import accuracy_score\n",
    "\n",
    "# creating dictionary of objects for each algorithm\n",
    "\n",
    "models = {\n",
    "    'LR': LogisticRegression(),\n",
    "    'KNN': KNeighborsClassifier(n_neighbors=5),\n",
    "    'SVM': SVC(kernel='poly', degree=5),\n",
    "    'NB': GaussianNB(),\n",
    "    'DT': DecisionTreeClassifier(criterion='entropy'),\n",
    "    'RF': RandomForestClassifier(n_estimators=50, \n",
    "          criterion='entropy', max_depth=10, max_leaf_nodes=10)\n",
    "}\n",
    "\n",
    "#saving split ratios \n",
    "split_ratio= [i / 100.0 for i in range(5, 100, 20)]\n",
    "\n",
    "# creating dictionaries for each file to store accuracies of each model for each split\n",
    "keys=['LR','KNN','SVM','NB','DT','RF','ANN']\n",
    "acc_rfile0={}\n",
    "acc_rfile1={}\n",
    "acc_xor_2_rfile0={}\n",
    "acc_xor_2_rfile1={}\n",
    "acc_xor_4_rfile0={}\n",
    "acc_xor_4_rfile1={} \n",
    "\n",
    "#Initializing dictionaries with empty lists as values for each algorithm\n",
    "for item in keys:\n",
    "    acc_rfile0[item]=[]\n",
    "    acc_rfile1[item]=[]\n",
    "    acc_xor_2_rfile0[item]=[]\n",
    "    acc_xor_2_rfile1[item]=[]\n",
    "    acc_xor_4_rfile0[item]=[]\n",
    "    acc_xor_4_rfile1[item]=[]\n",
    "    \n",
    "#sample dictionary.\n",
    "print(acc_rfile0)"
   ]
  },
  {
   "cell_type": "code",
   "execution_count": 212,
   "id": "1d2d3125",
   "metadata": {},
   "outputs": [
    {
     "data": {
      "text/plain": [
       "[0.05, 0.25, 0.45, 0.65, 0.85]"
      ]
     },
     "execution_count": 212,
     "metadata": {},
     "output_type": "execute_result"
    }
   ],
   "source": [
    "split_ratio"
   ]
  },
  {
   "cell_type": "code",
   "execution_count": 213,
   "id": "d09939fa",
   "metadata": {},
   "outputs": [],
   "source": [
    "# function to return accuracy for ML model after fitting the model\n",
    "\n",
    "def accuracy_ML(cfile,rfile,p,classifier):\n",
    "    #getting training and testing data using get_data()\n",
    "    trainX,trainY,testX,testY=get_data(cfile,rfile,p)\n",
    "    classifier.fit(trainX,trainY)\n",
    "    predY=classifier.predict(testX)\n",
    "    acc=accuracy_score(predY,testY)*100\n",
    "    \n",
    "    return acc  \n",
    "    "
   ]
  },
  {
   "cell_type": "code",
   "execution_count": 214,
   "id": "958b3932",
   "metadata": {},
   "outputs": [
    {
     "name": "stdout",
     "output_type": "stream",
     "text": [
      "LR running\n",
      "KNN running\n",
      "SVM running\n",
      "NB running\n",
      "DT running\n",
      "RF running\n"
     ]
    }
   ],
   "source": [
    "# Nested Loop for calculating accuracy for each model and for each split ratio \n",
    "#: for APUF, 2-XOR, 4-XOR ; FPGA0, FPGA1\n",
    "\n",
    "for key,obj in models.items(): \n",
    "    print(key,\"running\")\n",
    "    for i in split_ratio:\n",
    "        acc_rfile0[key].append(accuracy_ML(cfile,rfile0,i,obj))\n",
    "        acc_rfile1[key].append(accuracy_ML(cfile,rfile1,i,obj))\n",
    "        acc_xor_2_rfile0[key].append(accuracy_ML(cfile,xor_2_rfile0,i,obj))\n",
    "        acc_xor_2_rfile1[key].append(accuracy_ML(cfile,xor_2_rfile1,i,obj))\n",
    "        acc_xor_4_rfile0[key].append(accuracy_ML(cfile,xor_4_rfile0,i,obj))\n",
    "        acc_xor_4_rfile1[key].append(accuracy_ML(cfile,xor_4_rfile1,i,obj))"
   ]
  },
  {
   "cell_type": "code",
   "execution_count": 215,
   "id": "4cfc93cd",
   "metadata": {},
   "outputs": [],
   "source": [
    "#ANN results calculated in previous 2 files\n",
    "acc_rfile0['ANN']=[64.56, 63.727, 63.207, 66.28, 66.453, 70.486, 70.351, 70.583, 68.891, 70.5, 70.564, 70.64, 67.566, 70.86, 66.6, 69.45, 63.387, 70.38, 70.88]\n",
    "acc_rfile1['ANN']=[63.434, 66.913, 69.419, 66.69, 69.168, 69.566, 70.203, 70.007, 66.967, 69.432, 70.036, 69.855, 70.189, 63.32, 70.44, 69.67, 67.48, 66.5, 69.72]\n",
    "acc_xor_2_rfile0['ANN']=[67.785, 69.929, 68.12, 70.197, 66.365, 71.854, 71.818, 68.193, 72.498, 72.756, 72.667, 72.24, 72.589, 68.293, 71.752, 73.02, 68.467, 71.76, 72.64]\n",
    "acc_xor_2_rfile1['ANN']=[67.484, 69.724, 72.216, 71.213, 71.131, 67.194, 67.726, 72.63, 72.705, 72.996, 71.618, 71.22, 67.411, 73.153, 72.72, 71.12, 69.467, 73.62, 66.84]\n",
    "acc_xor_4_rfile0['ANN']=[56.655, 56.918, 57.087, 56.505, 56.6, 57.734, 58.034, 58.997, 58.12, 57.116, 57.982, 57.93, 58.057, 58.893, 57.704, 58.69, 58.213, 58.36, 59.0]\n",
    "acc_xor_4_rfile1['ANN']=[53.752, 54.816, 55.967, 56.13, 56.968, 57.231, 57.215, 57.07, 57.393, 57.192, 56.356, 57.955, 58.177, 58.893, 55.584, 57.91, 58.373, 58.34, 57.6]\n",
    "\n",
    "\n",
    "# storing all results in a single dictionary including ANN.\n",
    "scikit_accuracy={\"acc_rfile0\":acc_rfile0,\n",
    "                 \"acc_rfile1\":acc_rfile1,\n",
    "                 \"acc_xor_2_rfile0\":acc_xor_2_rfile0,\n",
    "                 \"acc_xor_2_rfile1\":acc_xor_2_rfile1,\n",
    "                 \"acc_xor_4_rfile0\":acc_xor_4_rfile0,\n",
    "                 \"acc_xor_4_rfile1\":acc_xor_4_rfile1}\n",
    "\n",
    "\n",
    "\n",
    "# creating a json file using above dictionary for furture retreival as traing the models takes time for each time.\n",
    "import json\n",
    "\n",
    "# Define the filename for the JSON file\n",
    "file_name = '../Responses/scikit_accuracy.json'\n",
    "\n",
    "# Save the combined dictionary to a JSON file\n",
    "with open(file_name, 'w') as json_file:\n",
    "    json.dump(scikit_accuracy, json_file)\n",
    "    \n"
   ]
  },
  {
   "cell_type": "code",
   "execution_count": 216,
   "id": "c06f5b58",
   "metadata": {},
   "outputs": [
    {
     "name": "stdout",
     "output_type": "stream",
     "text": [
      "acc_rfile0 ===> {'LR': [62.30315789473684, 64.28266666666667, 64.36, 64.37142857142857, 64.01333333333334], 'KNN': [59.42947368421052, 60.205333333333336, 60.81090909090909, 60.77142857142858, 60.73333333333333], 'SVM': [64.50105263157894, 64.51733333333334, 64.35272727272728, 64.35428571428572, 64.37333333333333], 'NB': [64.17052631578947, 64.81866666666667, 64.43636363636364, 63.91428571428571, 64.24], 'DT': [53.76, 56.690666666666665, 56.17090909090909, 56.93142857142857, 56.279999999999994], 'RF': [64.44210526315788, 64.49066666666667, 64.49090909090908, 64.64571428571429, 64.84], 'ANN': [64.56, 63.727, 63.207, 66.28, 66.453, 70.486, 70.351, 70.583, 68.891, 70.5, 70.564, 70.64, 67.566, 70.86, 66.6, 69.45, 63.387, 70.38, 70.88]}\n",
      "\n",
      "acc_rfile1 ===> {'LR': [61.9578947368421, 63.44800000000001, 63.309090909090905, 63.822857142857146, 63.93333333333333], 'KNN': [59.004210526315795, 59.68, 59.85818181818182, 59.068571428571424, 60.480000000000004], 'SVM': [63.50105263157894, 63.397333333333336, 63.28, 63.497142857142855, 63.46666666666667], 'NB': [62.00631578947369, 63.690666666666665, 63.59272727272727, 63.50857142857143, 63.66666666666667], 'DT': [54.76, 54.976, 56.083636363636366, 55.82857142857143, 56.62666666666667], 'RF': [63.46526315789474, 63.456, 63.56, 63.839999999999996, 63.06666666666667], 'ANN': [63.434, 66.913, 69.419, 66.69, 69.168, 69.566, 70.203, 70.007, 66.967, 69.432, 70.036, 69.855, 70.189, 63.32, 70.44, 69.67, 67.48, 66.5, 69.72]}\n",
      "\n",
      "acc_xor_2_rfile0 ===> {'LR': [67.3978947368421, 67.896, 68.30181818181819, 68.26857142857143, 68.32000000000001], 'KNN': [64.08, 63.28, 63.88, 64.13714285714286, 62.85333333333334], 'SVM': [68.10526315789474, 67.93599999999999, 68.47636363636363, 67.77142857142857, 67.41333333333334], 'NB': [67.44, 68.00533333333333, 68.20727272727272, 68.12, 67.21333333333334], 'DT': [56.44, 57.232000000000006, 57.66909090909091, 58.068571428571424, 58.02666666666667], 'RF': [68.07368421052632, 68.24533333333333, 68.13818181818182, 68.30857142857143, 68.25333333333333], 'ANN': [67.785, 69.929, 68.12, 70.197, 66.365, 71.854, 71.818, 68.193, 72.498, 72.756, 72.667, 72.24, 72.589, 68.293, 71.752, 73.02, 68.467, 71.76, 72.64]}\n",
      "\n",
      "acc_xor_2_rfile1 ===> {'LR': [66.96631578947368, 67.58133333333333, 67.12727272727273, 67.2057142857143, 66.46666666666667], 'KNN': [62.11368421052632, 62.866666666666674, 63.087272727272726, 63.497142857142855, 64.06666666666668], 'SVM': [67.4778947368421, 67.29866666666666, 67.33818181818182, 67.2057142857143, 67.75999999999999], 'NB': [66.21684210526317, 67.328, 67.29454545454546, 67.21142857142857, 68.36], 'DT': [55.61473684210526, 56.778666666666666, 56.876363636363635, 58.21142857142857, 57.32000000000001], 'RF': [67.41473684210526, 67.432, 67.15272727272728, 67.17142857142858, 66.88], 'ANN': [67.484, 69.724, 72.216, 71.213, 71.131, 67.194, 67.726, 72.63, 72.705, 72.996, 71.618, 71.22, 67.411, 73.153, 72.72, 71.12, 69.467, 73.62, 66.84]}\n",
      "\n",
      "acc_xor_4_rfile0 ===> {'LR': [55.55157894736842, 57.605333333333334, 58.167272727272724, 58.33714285714285, 58.226666666666674], 'KNN': [53.06736842105263, 53.41866666666667, 53.28363636363637, 54.034285714285716, 53.2], 'SVM': [57.997894736842106, 57.994666666666674, 57.99636363636363, 58.21142857142857, 57.69333333333333], 'NB': [56.06526315789474, 57.38666666666666, 57.698181818181816, 58.30857142857143, 57.82666666666667], 'DT': [51.519999999999996, 51.202666666666666, 51.86545454545455, 51.559999999999995, 51.453333333333326], 'RF': [58.040000000000006, 58.08, 57.72727272727273, 57.62285714285714, 57.82666666666667], 'ANN': [56.655, 56.918, 57.087, 56.505, 56.6, 57.734, 58.034, 58.997, 58.12, 57.116, 57.982, 57.93, 58.057, 58.893, 57.704, 58.69, 58.213, 58.36, 59.0]}\n",
      "\n",
      "acc_xor_4_rfile1 ===> {'LR': [55.0821052631579, 56.83200000000001, 56.95272727272728, 57.21714285714285, 57.57333333333333], 'KNN': [53.02105263157895, 53.016, 53.959999999999994, 53.36, 53.29333333333334], 'SVM': [57.18526315789474, 57.26133333333333, 57.10545454545455, 56.90857142857143, 57.16], 'NB': [54.79157894736842, 56.33866666666667, 56.96, 56.98857142857143, 57.30666666666666], 'DT': [51.44, 50.61333333333333, 51.22545454545454, 51.42857142857142, 52.04], 'RF': [57.04421052631579, 57.034666666666666, 56.73090909090909, 57.09142857142857, 56.45333333333333], 'ANN': [53.752, 54.816, 55.967, 56.13, 56.968, 57.231, 57.215, 57.07, 57.393, 57.192, 56.356, 57.955, 58.177, 58.893, 55.584, 57.91, 58.373, 58.34, 57.6]}\n",
      "\n"
     ]
    }
   ],
   "source": [
    "file_name = '../Responses/scikit_accuracy.json'\n",
    "# Load data from the JSON file into a dictionary\n",
    "with open(file_name, 'r') as json_file:\n",
    "    loaded_scikit_accuracy = json.load(json_file)\n",
    "\n",
    "# Now, 'loaded_scikit_accuracy' contains the same data as scikit_accuracy\n",
    "\n",
    "# printing the accuracies of each response file using the scikit algorithms.\n",
    "for i,j in loaded_scikit_accuracy.items():\n",
    "    print(i,\"===>\",j)\n",
    "    print()"
   ]
  },
  {
   "cell_type": "markdown",
   "id": "a46d0c98",
   "metadata": {
    "heading_collapsed": true
   },
   "source": [
    "# Statistical Results"
   ]
  },
  {
   "cell_type": "markdown",
   "id": "7174fbcb",
   "metadata": {
    "hidden": true
   },
   "source": [
    "Prints the following stats values for each model accuracy list (FPGA0 and FPGA1): min, max, average, and standard deviation (StD). NumPy have functions to compute all these.\n",
    "\n",
    "Also, print the sample size (n) of the collected data (i.e., the length of each list)."
   ]
  },
  {
   "cell_type": "code",
   "execution_count": 217,
   "id": "057077a3",
   "metadata": {
    "hidden": true,
    "scrolled": true
   },
   "outputs": [
    {
     "data": {
      "text/html": [
       "<style  type=\"text/css\" >\n",
       "    #T_19a11_  {\n",
       "          border-collapse: separate;\n",
       "    }</style><table id=\"T_19a11_\" ><thead>    <tr>        <th class=\"blank level0\" ></th>        <th class=\"col_heading level0 col0\" colspan=\"7\">========Average Accuracies for Classification Algoritms for all datasets of FPGA0 and FPGA1========</th>    </tr>    <tr>        <th class=\"blank level1\" ></th>        <th class=\"col_heading level1 col0\" >LR</th>        <th class=\"col_heading level1 col1\" >KNN</th>        <th class=\"col_heading level1 col2\" >SVM</th>        <th class=\"col_heading level1 col3\" >NB</th>        <th class=\"col_heading level1 col4\" >DT</th>        <th class=\"col_heading level1 col5\" >RF</th>        <th class=\"col_heading level1 col6\" >ANN</th>    </tr>    <tr>        <th class=\"index_name level0\" >Data File</th>        <th class=\"blank\" ></th>        <th class=\"blank\" ></th>        <th class=\"blank\" ></th>        <th class=\"blank\" ></th>        <th class=\"blank\" ></th>        <th class=\"blank\" ></th>        <th class=\"blank\" ></th>    </tr></thead><tbody>\n",
       "                <tr>\n",
       "                        <th id=\"T_19a11_level0_row0\" class=\"row_heading level0 row0\" >acc_rfile0</th>\n",
       "                        <td id=\"T_19a11_row0_col0\" class=\"data row0 col0\" >63.870</td>\n",
       "                        <td id=\"T_19a11_row0_col1\" class=\"data row0 col1\" >60.390</td>\n",
       "                        <td id=\"T_19a11_row0_col2\" class=\"data row0 col2\" >64.420</td>\n",
       "                        <td id=\"T_19a11_row0_col3\" class=\"data row0 col3\" >64.320</td>\n",
       "                        <td id=\"T_19a11_row0_col4\" class=\"data row0 col4\" >55.970</td>\n",
       "                        <td id=\"T_19a11_row0_col5\" class=\"data row0 col5\" >64.580</td>\n",
       "                        <td id=\"T_19a11_row0_col6\" class=\"data row0 col6\" >68.180</td>\n",
       "            </tr>\n",
       "            <tr>\n",
       "                        <th id=\"T_19a11_level0_row1\" class=\"row_heading level0 row1\" >acc_rfile1</th>\n",
       "                        <td id=\"T_19a11_row1_col0\" class=\"data row1 col0\" >63.290</td>\n",
       "                        <td id=\"T_19a11_row1_col1\" class=\"data row1 col1\" >59.620</td>\n",
       "                        <td id=\"T_19a11_row1_col2\" class=\"data row1 col2\" >63.430</td>\n",
       "                        <td id=\"T_19a11_row1_col3\" class=\"data row1 col3\" >63.290</td>\n",
       "                        <td id=\"T_19a11_row1_col4\" class=\"data row1 col4\" >55.650</td>\n",
       "                        <td id=\"T_19a11_row1_col5\" class=\"data row1 col5\" >63.480</td>\n",
       "                        <td id=\"T_19a11_row1_col6\" class=\"data row1 col6\" >68.370</td>\n",
       "            </tr>\n",
       "            <tr>\n",
       "                        <th id=\"T_19a11_level0_row2\" class=\"row_heading level0 row2\" >acc_xor_2_rfile0</th>\n",
       "                        <td id=\"T_19a11_row2_col0\" class=\"data row2 col0\" >68.040</td>\n",
       "                        <td id=\"T_19a11_row2_col1\" class=\"data row2 col1\" >63.650</td>\n",
       "                        <td id=\"T_19a11_row2_col2\" class=\"data row2 col2\" >67.940</td>\n",
       "                        <td id=\"T_19a11_row2_col3\" class=\"data row2 col3\" >67.800</td>\n",
       "                        <td id=\"T_19a11_row2_col4\" class=\"data row2 col4\" >57.490</td>\n",
       "                        <td id=\"T_19a11_row2_col5\" class=\"data row2 col5\" >68.200</td>\n",
       "                        <td id=\"T_19a11_row2_col6\" class=\"data row2 col6\" >70.680</td>\n",
       "            </tr>\n",
       "            <tr>\n",
       "                        <th id=\"T_19a11_level0_row3\" class=\"row_heading level0 row3\" >acc_xor_2_rfile1</th>\n",
       "                        <td id=\"T_19a11_row3_col0\" class=\"data row3 col0\" >67.070</td>\n",
       "                        <td id=\"T_19a11_row3_col1\" class=\"data row3 col1\" >63.130</td>\n",
       "                        <td id=\"T_19a11_row3_col2\" class=\"data row3 col2\" >67.420</td>\n",
       "                        <td id=\"T_19a11_row3_col3\" class=\"data row3 col3\" >67.280</td>\n",
       "                        <td id=\"T_19a11_row3_col4\" class=\"data row3 col4\" >56.960</td>\n",
       "                        <td id=\"T_19a11_row3_col5\" class=\"data row3 col5\" >67.210</td>\n",
       "                        <td id=\"T_19a11_row3_col6\" class=\"data row3 col6\" >70.640</td>\n",
       "            </tr>\n",
       "            <tr>\n",
       "                        <th id=\"T_19a11_level0_row4\" class=\"row_heading level0 row4\" >acc_xor_4_rfile0</th>\n",
       "                        <td id=\"T_19a11_row4_col0\" class=\"data row4 col0\" >57.580</td>\n",
       "                        <td id=\"T_19a11_row4_col1\" class=\"data row4 col1\" >53.400</td>\n",
       "                        <td id=\"T_19a11_row4_col2\" class=\"data row4 col2\" >57.980</td>\n",
       "                        <td id=\"T_19a11_row4_col3\" class=\"data row4 col3\" >57.460</td>\n",
       "                        <td id=\"T_19a11_row4_col4\" class=\"data row4 col4\" >51.520</td>\n",
       "                        <td id=\"T_19a11_row4_col5\" class=\"data row4 col5\" >57.860</td>\n",
       "                        <td id=\"T_19a11_row4_col6\" class=\"data row4 col6\" >57.820</td>\n",
       "            </tr>\n",
       "            <tr>\n",
       "                        <th id=\"T_19a11_level0_row5\" class=\"row_heading level0 row5\" >acc_xor_4_rfile1</th>\n",
       "                        <td id=\"T_19a11_row5_col0\" class=\"data row5 col0\" >56.730</td>\n",
       "                        <td id=\"T_19a11_row5_col1\" class=\"data row5 col1\" >53.330</td>\n",
       "                        <td id=\"T_19a11_row5_col2\" class=\"data row5 col2\" >57.120</td>\n",
       "                        <td id=\"T_19a11_row5_col3\" class=\"data row5 col3\" >56.480</td>\n",
       "                        <td id=\"T_19a11_row5_col4\" class=\"data row5 col4\" >51.350</td>\n",
       "                        <td id=\"T_19a11_row5_col5\" class=\"data row5 col5\" >56.870</td>\n",
       "                        <td id=\"T_19a11_row5_col6\" class=\"data row5 col6\" >57.000</td>\n",
       "            </tr>\n",
       "    </tbody></table>"
      ],
      "text/plain": [
       "<pandas.io.formats.style.Styler at 0x1f585553be0>"
      ]
     },
     "execution_count": 217,
     "metadata": {},
     "output_type": "execute_result"
    }
   ],
   "source": [
    "# Displaying the Average values for each algorithms for all datasets of FPGA0 and FPGA-1\n",
    "import pandas as pd\n",
    "\n",
    "# Your dictionary\n",
    "data = loaded_scikit_accuracy\n",
    "\n",
    "# Initialize a list of dictionaries to store data\n",
    "avg_data_list = []\n",
    "\n",
    "# Calculate average accuracy for each key and store data\n",
    "for main_key, inner_dict in data.items():\n",
    "    avg_accuracy_dict = {inner_key: round(sum(inner_values) / len(inner_values), 2) \n",
    "                         for inner_key, inner_values in inner_dict.items()}\n",
    "    avg_accuracy_dict['Data File'] = main_key\n",
    "    avg_data_list.append(avg_accuracy_dict)\n",
    "\n",
    "    \n",
    "# Create a DataFrame\n",
    "df = pd.DataFrame(avg_data_list)\n",
    "\n",
    "# Round the values to 3 decimal places\n",
    "df = df.round(3)\n",
    "\n",
    "# Set the 'Main Key' column as the index\n",
    "df.set_index('Data File', inplace=True)\n",
    "\n",
    "# Create a MultiIndex for the columns\n",
    "header = pd.MultiIndex.from_product(\n",
    "    [['========Average Accuracies for Classification Algoritms for all datasets of FPGA0 and FPGA1========'],\n",
    "     df.columns])\n",
    "\n",
    "# Set the MultiIndex as the column names\n",
    "df.columns = header\n",
    "\n",
    "# Add spaces between columns\n",
    "styled_df = df.style.format(\"{:.3f}\").set_table_styles([{'selector': '', 'props': [('border-collapse', 'separate')]}])\n",
    "\n",
    "# Display the styled DataFrame\n",
    "styled_df\n"
   ]
  },
  {
   "cell_type": "code",
   "execution_count": 219,
   "id": "cca8b960",
   "metadata": {
    "scrolled": true
   },
   "outputs": [
    {
     "data": {
      "text/html": [
       "<style  type=\"text/css\" >\n",
       "    #T_a77fc_  {\n",
       "          border-collapse: separate;\n",
       "    }</style><table id=\"T_a77fc_\" ><thead>    <tr>        <th class=\"blank level0\" ></th>        <th class=\"col_heading level0 col0\" colspan=\"7\">========Max Accuracies for Classification Algoritms for all datasets of FPGA0 and FPGA1========</th>    </tr>    <tr>        <th class=\"blank level1\" ></th>        <th class=\"col_heading level1 col0\" >LR</th>        <th class=\"col_heading level1 col1\" >KNN</th>        <th class=\"col_heading level1 col2\" >SVM</th>        <th class=\"col_heading level1 col3\" >NB</th>        <th class=\"col_heading level1 col4\" >DT</th>        <th class=\"col_heading level1 col5\" >RF</th>        <th class=\"col_heading level1 col6\" >ANN</th>    </tr>    <tr>        <th class=\"index_name level0\" >Data File</th>        <th class=\"blank\" ></th>        <th class=\"blank\" ></th>        <th class=\"blank\" ></th>        <th class=\"blank\" ></th>        <th class=\"blank\" ></th>        <th class=\"blank\" ></th>        <th class=\"blank\" ></th>    </tr></thead><tbody>\n",
       "                <tr>\n",
       "                        <th id=\"T_a77fc_level0_row0\" class=\"row_heading level0 row0\" >acc_rfile0</th>\n",
       "                        <td id=\"T_a77fc_row0_col0\" class=\"data row0 col0\" >64.370</td>\n",
       "                        <td id=\"T_a77fc_row0_col1\" class=\"data row0 col1\" >60.810</td>\n",
       "                        <td id=\"T_a77fc_row0_col2\" class=\"data row0 col2\" >64.520</td>\n",
       "                        <td id=\"T_a77fc_row0_col3\" class=\"data row0 col3\" >64.820</td>\n",
       "                        <td id=\"T_a77fc_row0_col4\" class=\"data row0 col4\" >56.930</td>\n",
       "                        <td id=\"T_a77fc_row0_col5\" class=\"data row0 col5\" >64.840</td>\n",
       "                        <td id=\"T_a77fc_row0_col6\" class=\"data row0 col6\" >70.880</td>\n",
       "            </tr>\n",
       "            <tr>\n",
       "                        <th id=\"T_a77fc_level0_row1\" class=\"row_heading level0 row1\" >acc_rfile1</th>\n",
       "                        <td id=\"T_a77fc_row1_col0\" class=\"data row1 col0\" >63.930</td>\n",
       "                        <td id=\"T_a77fc_row1_col1\" class=\"data row1 col1\" >60.480</td>\n",
       "                        <td id=\"T_a77fc_row1_col2\" class=\"data row1 col2\" >63.500</td>\n",
       "                        <td id=\"T_a77fc_row1_col3\" class=\"data row1 col3\" >63.690</td>\n",
       "                        <td id=\"T_a77fc_row1_col4\" class=\"data row1 col4\" >56.630</td>\n",
       "                        <td id=\"T_a77fc_row1_col5\" class=\"data row1 col5\" >63.840</td>\n",
       "                        <td id=\"T_a77fc_row1_col6\" class=\"data row1 col6\" >70.440</td>\n",
       "            </tr>\n",
       "            <tr>\n",
       "                        <th id=\"T_a77fc_level0_row2\" class=\"row_heading level0 row2\" >acc_xor_2_rfile0</th>\n",
       "                        <td id=\"T_a77fc_row2_col0\" class=\"data row2 col0\" >68.320</td>\n",
       "                        <td id=\"T_a77fc_row2_col1\" class=\"data row2 col1\" >64.140</td>\n",
       "                        <td id=\"T_a77fc_row2_col2\" class=\"data row2 col2\" >68.480</td>\n",
       "                        <td id=\"T_a77fc_row2_col3\" class=\"data row2 col3\" >68.210</td>\n",
       "                        <td id=\"T_a77fc_row2_col4\" class=\"data row2 col4\" >58.070</td>\n",
       "                        <td id=\"T_a77fc_row2_col5\" class=\"data row2 col5\" >68.310</td>\n",
       "                        <td id=\"T_a77fc_row2_col6\" class=\"data row2 col6\" >73.020</td>\n",
       "            </tr>\n",
       "            <tr>\n",
       "                        <th id=\"T_a77fc_level0_row3\" class=\"row_heading level0 row3\" >acc_xor_2_rfile1</th>\n",
       "                        <td id=\"T_a77fc_row3_col0\" class=\"data row3 col0\" >67.580</td>\n",
       "                        <td id=\"T_a77fc_row3_col1\" class=\"data row3 col1\" >64.070</td>\n",
       "                        <td id=\"T_a77fc_row3_col2\" class=\"data row3 col2\" >67.760</td>\n",
       "                        <td id=\"T_a77fc_row3_col3\" class=\"data row3 col3\" >68.360</td>\n",
       "                        <td id=\"T_a77fc_row3_col4\" class=\"data row3 col4\" >58.210</td>\n",
       "                        <td id=\"T_a77fc_row3_col5\" class=\"data row3 col5\" >67.430</td>\n",
       "                        <td id=\"T_a77fc_row3_col6\" class=\"data row3 col6\" >73.620</td>\n",
       "            </tr>\n",
       "            <tr>\n",
       "                        <th id=\"T_a77fc_level0_row4\" class=\"row_heading level0 row4\" >acc_xor_4_rfile0</th>\n",
       "                        <td id=\"T_a77fc_row4_col0\" class=\"data row4 col0\" >58.340</td>\n",
       "                        <td id=\"T_a77fc_row4_col1\" class=\"data row4 col1\" >54.030</td>\n",
       "                        <td id=\"T_a77fc_row4_col2\" class=\"data row4 col2\" >58.210</td>\n",
       "                        <td id=\"T_a77fc_row4_col3\" class=\"data row4 col3\" >58.310</td>\n",
       "                        <td id=\"T_a77fc_row4_col4\" class=\"data row4 col4\" >51.870</td>\n",
       "                        <td id=\"T_a77fc_row4_col5\" class=\"data row4 col5\" >58.080</td>\n",
       "                        <td id=\"T_a77fc_row4_col6\" class=\"data row4 col6\" >59.000</td>\n",
       "            </tr>\n",
       "            <tr>\n",
       "                        <th id=\"T_a77fc_level0_row5\" class=\"row_heading level0 row5\" >acc_xor_4_rfile1</th>\n",
       "                        <td id=\"T_a77fc_row5_col0\" class=\"data row5 col0\" >57.570</td>\n",
       "                        <td id=\"T_a77fc_row5_col1\" class=\"data row5 col1\" >53.960</td>\n",
       "                        <td id=\"T_a77fc_row5_col2\" class=\"data row5 col2\" >57.260</td>\n",
       "                        <td id=\"T_a77fc_row5_col3\" class=\"data row5 col3\" >57.310</td>\n",
       "                        <td id=\"T_a77fc_row5_col4\" class=\"data row5 col4\" >52.040</td>\n",
       "                        <td id=\"T_a77fc_row5_col5\" class=\"data row5 col5\" >57.090</td>\n",
       "                        <td id=\"T_a77fc_row5_col6\" class=\"data row5 col6\" >58.890</td>\n",
       "            </tr>\n",
       "    </tbody></table>"
      ],
      "text/plain": [
       "<pandas.io.formats.style.Styler at 0x1f585283100>"
      ]
     },
     "execution_count": 219,
     "metadata": {},
     "output_type": "execute_result"
    }
   ],
   "source": [
    "# Displaying the MAx values for each algorithms for all datasets of FPGA0 and FPGA-1\n",
    "import pandas as pd\n",
    "\n",
    "# Your dictionary\n",
    "data = loaded_scikit_accuracy\n",
    "\n",
    "# Initialize a list of dictionaries to store data\n",
    "max_data_list = []\n",
    "\n",
    "# Calculate average accuracy for each key and store data\n",
    "for main_key, inner_dict in data.items():\n",
    "    avg_accuracy_dict = {inner_key: round(max(inner_values), 2) for inner_key, inner_values in inner_dict.items()}\n",
    "    avg_accuracy_dict['Data File'] = main_key\n",
    "    max_data_list.append(avg_accuracy_dict)\n",
    "\n",
    "\n",
    "# Create a DataFrame\n",
    "df = pd.DataFrame(max_data_list)\n",
    "\n",
    "# Set the 'Main Key' column as the index\n",
    "df.set_index('Data File', inplace=True)\n",
    "\n",
    "# Create a MultiIndex for the columns\n",
    "header = pd.MultiIndex.from_product([['========Max Accuracies for Classification Algoritms for all datasets of FPGA0 and FPGA1========'], df.columns])\n",
    "\n",
    "# Set the MultiIndex as the column names\n",
    "df.columns = header\n",
    "\n",
    "# Add spaces between columns\n",
    "styled_df = df.style.format(\"{:.3f}\").set_table_styles([{'selector': '', 'props': [('border-collapse', 'separate')]}])\n",
    "\n",
    "# Display the styled DataFrame\n",
    "styled_df"
   ]
  },
  {
   "cell_type": "markdown",
   "id": "325cf281",
   "metadata": {
    "heading_collapsed": true
   },
   "source": [
    "# Plots"
   ]
  },
  {
   "cell_type": "markdown",
   "id": "e3bb050f",
   "metadata": {
    "hidden": true
   },
   "source": [
    "\n",
    "\n",
    "Plot and save (as PDF) each model accurance list (FPGA0 and FPGA1) as a line graph or vertical bar graph (your choice). Make sure to format the plots with adequate size, title, axis labels, ... (see the Tutorial-01-Python).\n",
    "\n",
    "To generate line graphs, use `plt.plot()`. Read more: https://matplotlib.org/stable/api/_as_gen/matplotlib.pyplot.plot.html\n",
    "\n",
    "To generate vertical bar graphs, use `plt.bar()`. Read more: https://matplotlib.org/stable/api/_as_gen/matplotlib.pyplot.bar.html"
   ]
  },
  {
   "cell_type": "code",
   "execution_count": 220,
   "id": "a295b3b3",
   "metadata": {},
   "outputs": [
    {
     "data": {
      "image/png": "[encoded data removed]",
      "text/plain": [
       "<Figure size 720x504 with 1 Axes>"
      ]
     },
     "metadata": {
      "needs_background": "light"
     },
     "output_type": "display_data"
    }
   ],
   "source": [
    "import matplotlib.pyplot as plt\n",
    "\n",
    "#  data in list of dictionaries format\n",
    "data = avg_data_list\n",
    "\n",
    "# Extract the 'Data File' and values for 'LR', 'KNN', 'SVM', 'NB', 'DT', 'RF'\n",
    "data_files = [entry['Data File'] for entry in data]\n",
    "lr_values = [entry['LR'] for entry in data]\n",
    "knn_values = [entry['KNN'] for entry in data]\n",
    "svm_values = [entry['SVM'] for entry in data]\n",
    "nb_values = [entry['NB'] for entry in data]\n",
    "dt_values = [entry['DT'] for entry in data]\n",
    "rf_values = [entry['RF'] for entry in data]\n",
    "Ann_values= [entry['ANN'] for entry in data]\n",
    "\n",
    "# Set up the figure and axis\n",
    "fig, ax = plt.subplots(figsize=(10, 7))\n",
    "\n",
    "# Set the positions for the bars on the x-axis\n",
    "x = range(len(data_files))\n",
    "\n",
    "# Plot the bars for each algorithm's values\n",
    "width = 0.13  # Width of each bar\n",
    "plt.bar(x, lr_values, width=width, label='LR')\n",
    "plt.bar([i + width for i in x], knn_values, width=width, label='KNN')\n",
    "plt.bar([i + 2 * width for i in x], svm_values, width=width, label='SVM')\n",
    "plt.bar([i + 3 * width for i in x], nb_values, width=width, label='NB')\n",
    "plt.bar([i + 4 * width for i in x], dt_values, width=width, label='DT')\n",
    "plt.bar([i + 5 * width for i in x], rf_values, width=width, label='RF')\n",
    "plt.bar([i + 6 * width for i in x], Ann_values, width=width, label='ANN')\n",
    "\n",
    "# Set the x-axis labels to be 'Data File'\n",
    "plt.xticks([i + 2.5 * width for i in x], data_files, rotation=45, fontsize=10)\n",
    "# Set y-axis limits to start from 40\n",
    "plt.ylim(40, max(lr_values + knn_values + svm_values + nb_values + dt_values + rf_values+Ann_values) + 1)\n",
    "\n",
    "# Add labels and legend\n",
    "plt.xlabel('Data File', fontsize=12)\n",
    "plt.ylabel('Accuracy (in %)', fontsize=12)\n",
    "plt.title('Average Accuracies for Different Algorithms by Data File', fontsize=14)\n",
    "plt.legend()\n",
    "\n",
    "# Show the plot\n",
    "plt.tight_layout()\n",
    "\n",
    "# save the plot\n",
    "plt.savefig(\"../Figures/avg_acc_scikit.pdf\") # PDF recommended\n",
    "plt.savefig(\"../Figures/avg_acc_scikit.png\", dpi=300)\n",
    "\n",
    "plt.show()\n",
    "\n"
   ]
  },
  {
   "cell_type": "code",
   "execution_count": 190,
   "id": "e9e1a969",
   "metadata": {},
   "outputs": [
    {
     "data": {
      "text/plain": [
       "['acc_rfile0', 'acc_xor_2_rfile0', 'acc_xor_4_rfile0']"
      ]
     },
     "execution_count": 190,
     "metadata": {},
     "output_type": "execute_result"
    }
   ],
   "source": [
    "[entry['Data File'] for entry in data][0:5:2]"
   ]
  },
  {
   "cell_type": "code",
   "execution_count": 221,
   "id": "51f36f25",
   "metadata": {},
   "outputs": [
    {
     "data": {
      "image/png": "[encoded data removed]",
      "text/plain": [
       "<Figure size 720x504 with 1 Axes>"
      ]
     },
     "metadata": {
      "needs_background": "light"
     },
     "output_type": "display_data"
    }
   ],
   "source": [
    "import matplotlib.pyplot as plt\n",
    "\n",
    "#  data in list of dictionaries format\n",
    "data = max_data_list\n",
    "\n",
    "# Extract the 'Data File' and values for 'LR', 'KNN', 'SVM', 'NB', 'DT', 'RF'\n",
    "data_files = [entry['Data File'] for entry in data]\n",
    "lr_values = [entry['LR'] for entry in data]\n",
    "knn_values = [entry['KNN'] for entry in data]\n",
    "svm_values = [entry['SVM'] for entry in data]\n",
    "nb_values = [entry['NB'] for entry in data]\n",
    "dt_values = [entry['DT'] for entry in data]\n",
    "rf_values = [entry['RF'] for entry in data]\n",
    "Ann_values= [entry['ANN'] for entry in data]\n",
    "\n",
    "# Set up the figure and axis\n",
    "fig, ax = plt.subplots(figsize=(10, 7))\n",
    "\n",
    "# Set the positions for the bars on the x-axis\n",
    "x = range(len(data_files))\n",
    "\n",
    "# Plot the bars for each algorithm's values\n",
    "width = 0.13  # Width of each bar\n",
    "plt.bar(x, lr_values, width=width, label='LR')\n",
    "plt.bar([i + width for i in x], knn_values, width=width, label='KNN')\n",
    "plt.bar([i + 2 * width for i in x], svm_values, width=width, label='SVM')\n",
    "plt.bar([i + 3 * width for i in x], nb_values, width=width, label='NB')\n",
    "plt.bar([i + 4 * width for i in x], dt_values, width=width, label='DT')\n",
    "plt.bar([i + 5 * width for i in x], rf_values, width=width, label='RF')\n",
    "plt.bar([i + 6 * width for i in x], Ann_values, width=width, label='ANN')\n",
    "\n",
    "# Set the x-axis labels to be 'Data File'\n",
    "plt.xticks([i + 2.5 * width for i in x], data_files, rotation=45, fontsize=10)\n",
    "# Set y-axis limits to start from 40\n",
    "plt.ylim(40, max(lr_values + knn_values + svm_values + nb_values + dt_values + rf_values+Ann_values) + 1)\n",
    "\n",
    "# Add labels and legend\n",
    "plt.xlabel('Data File', fontsize=12)\n",
    "plt.ylabel('Accuracy (in %)', fontsize=12)\n",
    "plt.title('Maximum Accuracies for Different Algorithms by Data File', fontsize=14)\n",
    "plt.legend()\n",
    "\n",
    "# Show the plot\n",
    "plt.tight_layout()\n",
    "\n",
    "# save the plot\n",
    "plt.savefig(\"../Figures/max_acc_scikit.pdf\") # PDF recommended\n",
    "plt.savefig(\"../Figures/max_acc_scikit.png\", dpi=300)\n",
    "\n",
    "plt.show()\n",
    "\n"
   ]
  },
  {
   "cell_type": "code",
   "execution_count": null,
   "id": "e7280619",
   "metadata": {},
   "outputs": [],
   "source": []
  }
 ],
 "metadata": {
  "kernelspec": {
   "display_name": "Python 3",
   "language": "python",
   "name": "python3"
  },
  "language_info": {
   "codemirror_mode": {
    "name": "ipython",
    "version": 3
   },
   "file_extension": ".py",
   "mimetype": "text/x-python",
   "name": "python",
   "nbconvert_exporter": "python",
   "pygments_lexer": "ipython3",
   "version": "3.8.8"
  },
  "toc": {
   "base_numbering": 1,
   "nav_menu": {},
   "number_sections": true,
   "sideBar": true,
   "skip_h1_title": false,
   "title_cell": "Table of Contents",
   "title_sidebar": "Contents",
   "toc_cell": false,
   "toc_position": {},
   "toc_section_display": true,
   "toc_window_display": false
  },
  "varInspector": {
   "cols": {
    "lenName": 16,
    "lenType": 16,
    "lenVar": 40
   },
   "kernels_config": {
    "python": {
     "delete_cmd_postfix": "",
     "delete_cmd_prefix": "del ",
     "library": "var_list.py",
     "varRefreshCmd": "print(var_dic_list())"
    },
    "r": {
     "delete_cmd_postfix": ") ",
     "delete_cmd_prefix": "rm(",
     "library": "var_list.r",
     "varRefreshCmd": "cat(var_dic_list()) "
    }
   },
   "types_to_exclude": [
    "module",
    "function",
    "builtin_function_or_method",
    "instance",
    "_Feature"
   ],
   "window_display": false
  }
 },
 "nbformat": 4,
 "nbformat_minor": 5
}
